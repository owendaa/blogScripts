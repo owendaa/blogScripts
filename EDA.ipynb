{
  "cells": [
    {
      "cell_type": "markdown",
      "metadata": {
        "id": "view-in-github",
        "colab_type": "text"
      },
      "source": [
        "<a href=\"https://colab.research.google.com/github/owendaa/blogScripts/blob/master/EDA.ipynb\" target=\"_parent\"><img src=\"https://colab.research.google.com/assets/colab-badge.svg\" alt=\"Open In Colab\"/></a>"
      ]
    },
    {
      "cell_type": "markdown",
      "source": [
        "# Prerequisites"
      ],
      "metadata": {
        "id": "OloohgVCM1Nu"
      }
    },
    {
      "cell_type": "code",
      "source": [
        "#!pip install catboost"
      ],
      "metadata": {
        "id": "cdj5ZVoBf84B"
      },
      "execution_count": null,
      "outputs": []
    },
    {
      "cell_type": "code",
      "source": [
        "#!pip install \"cleanlab[all]\""
      ],
      "metadata": {
        "id": "1B05x-foaahJ"
      },
      "execution_count": null,
      "outputs": []
    },
    {
      "cell_type": "code",
      "execution_count": null,
      "metadata": {
        "id": "WvTeClNva_Ze"
      },
      "outputs": [],
      "source": [
        "import pandas as pd\n",
        "import numpy as np\n",
        "import matplotlib.pyplot as plt\n",
        "import seaborn as sns\n",
        "import warnings\n",
        "warnings.filterwarnings('ignore')\n",
        "from sklearn.model_selection import train_test_split\n",
        "from sklearn.dummy import DummyClassifier\n",
        "from sklearn.metrics import classification_report, roc_curve, roc_auc_score,fbeta_score, recall_score, precision_score, precision_recall_curve, average_precision_score, confusion_matrix\n",
        "from datetime import datetime\n",
        "\n",
        "from sklearn.preprocessing import FunctionTransformer\n",
        "from sklearn.impute import SimpleImputer\n",
        "from sklearn.pipeline import Pipeline\n",
        "from sklearn.compose import ColumnTransformer\n",
        "from sklearn.model_selection import GridSearchCV\n",
        "from catboost import CatBoostClassifier\n",
        "# https://catboost.ai/en/docs/concepts/python-reference_catboost\n",
        "\n",
        "from sklearn.ensemble import StackingClassifier\n",
        "from sklearn.neural_network import MLPClassifier\n",
        "from sklearn.tree import DecisionTreeClassifier\n",
        "from sklearn.naive_bayes import GaussianNB\n",
        "from sklearn.svm import SVC\n",
        "from sklearn.neighbors import KNeighborsClassifier\n",
        "from sklearn.linear_model import LogisticRegression"
      ]
    },
    {
      "cell_type": "code",
      "source": [
        "# check for data issues:\n",
        "#https://docs.cleanlab.ai/stable/tutorials/datalab/tabular.html\n",
        "\n",
        "from cleanlab.classification import CleanLearning\n",
        "from sklearn.linear_model import LogisticRegression"
      ],
      "metadata": {
        "id": "GxhNsqXDOKTI"
      },
      "execution_count": null,
      "outputs": []
    },
    {
      "cell_type": "code",
      "execution_count": null,
      "metadata": {
        "id": "lBwYYOuia_Zh"
      },
      "outputs": [],
      "source": [
        "df = pd.read_csv('/content/corona_tested_individuals_ver_006.english.csv', parse_dates=['test_date'], na_values=['None'])\n",
        "# data = pd.read_csv('covidpred/data/corona_tested_individuals_ver_0083.english.csv')"
      ]
    },
    {
      "cell_type": "code",
      "source": [],
      "metadata": {
        "id": "z2VykUc2khFk"
      },
      "execution_count": null,
      "outputs": []
    },
    {
      "cell_type": "markdown",
      "source": [
        "# Understand the Data"
      ],
      "metadata": {
        "id": "SzfJ0aZpMeCX"
      }
    },
    {
      "cell_type": "code",
      "source": [
        "df.info()"
      ],
      "metadata": {
        "colab": {
          "base_uri": "https://localhost:8080/"
        },
        "id": "fzFm-jZvhYPV",
        "outputId": "73443206-2325-4fc5-dc2a-76b1373c344b"
      },
      "execution_count": null,
      "outputs": [
        {
          "output_type": "stream",
          "name": "stdout",
          "text": [
            "<class 'pandas.core.frame.DataFrame'>\n",
            "RangeIndex: 278848 entries, 0 to 278847\n",
            "Data columns (total 10 columns):\n",
            " #   Column               Non-Null Count   Dtype         \n",
            "---  ------               --------------   -----         \n",
            " 0   test_date            278848 non-null  datetime64[ns]\n",
            " 1   cough                278596 non-null  float64       \n",
            " 2   fever                278596 non-null  float64       \n",
            " 3   sore_throat          278847 non-null  float64       \n",
            " 4   shortness_of_breath  278847 non-null  float64       \n",
            " 5   head_ache            278847 non-null  float64       \n",
            " 6   corona_result        278848 non-null  object        \n",
            " 7   age_60_and_above     151528 non-null  object        \n",
            " 8   gender               259285 non-null  object        \n",
            " 9   test_indication      278848 non-null  object        \n",
            "dtypes: datetime64[ns](1), float64(5), object(4)\n",
            "memory usage: 21.3+ MB\n"
          ]
        }
      ]
    },
    {
      "cell_type": "code",
      "source": [
        "# number of cases and variables\n",
        "df.shape"
      ],
      "metadata": {
        "colab": {
          "base_uri": "https://localhost:8080/"
        },
        "id": "waVAJxwXkqho",
        "outputId": "4306bad7-14d9-4c3c-b54b-1e2367b461d0"
      },
      "execution_count": null,
      "outputs": [
        {
          "output_type": "execute_result",
          "data": {
            "text/plain": [
              "(278848, 10)"
            ]
          },
          "metadata": {},
          "execution_count": 8
        }
      ]
    },
    {
      "cell_type": "code",
      "execution_count": null,
      "metadata": {
        "id": "fCpiaLwYa_Zh",
        "outputId": "a0f1cfb2-c304-4ed8-9ce7-c07cb36916e0",
        "colab": {
          "base_uri": "https://localhost:8080/"
        }
      },
      "outputs": [
        {
          "output_type": "execute_result",
          "data": {
            "text/plain": [
              "Index(['test_date', 'cough', 'fever', 'sore_throat', 'shortness_of_breath',\n",
              "       'head_ache', 'corona_result', 'age_60_and_above', 'gender',\n",
              "       'test_indication'],\n",
              "      dtype='object')"
            ]
          },
          "metadata": {},
          "execution_count": 9
        }
      ],
      "source": [
        "df.columns"
      ]
    },
    {
      "cell_type": "code",
      "source": [
        "df.head()"
      ],
      "metadata": {
        "colab": {
          "base_uri": "https://localhost:8080/",
          "height": 270
        },
        "id": "ofdNNprohjtt",
        "outputId": "85d3d05b-5425-40d7-da82-e47cc415f5b0"
      },
      "execution_count": null,
      "outputs": [
        {
          "output_type": "execute_result",
          "data": {
            "text/plain": [
              "   test_date  cough  fever  sore_throat  shortness_of_breath  head_ache  \\\n",
              "0 2020-04-30    0.0    0.0          0.0                  0.0        0.0   \n",
              "1 2020-04-30    1.0    0.0          0.0                  0.0        0.0   \n",
              "2 2020-04-30    0.0    1.0          0.0                  0.0        0.0   \n",
              "3 2020-04-30    1.0    0.0          0.0                  0.0        0.0   \n",
              "4 2020-04-30    1.0    0.0          0.0                  0.0        0.0   \n",
              "\n",
              "  corona_result age_60_and_above  gender test_indication  \n",
              "0      negative              NaN  female           Other  \n",
              "1      negative              NaN  female           Other  \n",
              "2      negative              NaN    male           Other  \n",
              "3      negative              NaN  female           Other  \n",
              "4      negative              NaN    male           Other  "
            ],
            "text/html": [
              "\n",
              "\n",
              "  <div id=\"df-1a8e7566-5393-48ec-84e1-c22843e70ae5\">\n",
              "    <div class=\"colab-df-container\">\n",
              "      <div>\n",
              "<style scoped>\n",
              "    .dataframe tbody tr th:only-of-type {\n",
              "        vertical-align: middle;\n",
              "    }\n",
              "\n",
              "    .dataframe tbody tr th {\n",
              "        vertical-align: top;\n",
              "    }\n",
              "\n",
              "    .dataframe thead th {\n",
              "        text-align: right;\n",
              "    }\n",
              "</style>\n",
              "<table border=\"1\" class=\"dataframe\">\n",
              "  <thead>\n",
              "    <tr style=\"text-align: right;\">\n",
              "      <th></th>\n",
              "      <th>test_date</th>\n",
              "      <th>cough</th>\n",
              "      <th>fever</th>\n",
              "      <th>sore_throat</th>\n",
              "      <th>shortness_of_breath</th>\n",
              "      <th>head_ache</th>\n",
              "      <th>corona_result</th>\n",
              "      <th>age_60_and_above</th>\n",
              "      <th>gender</th>\n",
              "      <th>test_indication</th>\n",
              "    </tr>\n",
              "  </thead>\n",
              "  <tbody>\n",
              "    <tr>\n",
              "      <th>0</th>\n",
              "      <td>2020-04-30</td>\n",
              "      <td>0.0</td>\n",
              "      <td>0.0</td>\n",
              "      <td>0.0</td>\n",
              "      <td>0.0</td>\n",
              "      <td>0.0</td>\n",
              "      <td>negative</td>\n",
              "      <td>NaN</td>\n",
              "      <td>female</td>\n",
              "      <td>Other</td>\n",
              "    </tr>\n",
              "    <tr>\n",
              "      <th>1</th>\n",
              "      <td>2020-04-30</td>\n",
              "      <td>1.0</td>\n",
              "      <td>0.0</td>\n",
              "      <td>0.0</td>\n",
              "      <td>0.0</td>\n",
              "      <td>0.0</td>\n",
              "      <td>negative</td>\n",
              "      <td>NaN</td>\n",
              "      <td>female</td>\n",
              "      <td>Other</td>\n",
              "    </tr>\n",
              "    <tr>\n",
              "      <th>2</th>\n",
              "      <td>2020-04-30</td>\n",
              "      <td>0.0</td>\n",
              "      <td>1.0</td>\n",
              "      <td>0.0</td>\n",
              "      <td>0.0</td>\n",
              "      <td>0.0</td>\n",
              "      <td>negative</td>\n",
              "      <td>NaN</td>\n",
              "      <td>male</td>\n",
              "      <td>Other</td>\n",
              "    </tr>\n",
              "    <tr>\n",
              "      <th>3</th>\n",
              "      <td>2020-04-30</td>\n",
              "      <td>1.0</td>\n",
              "      <td>0.0</td>\n",
              "      <td>0.0</td>\n",
              "      <td>0.0</td>\n",
              "      <td>0.0</td>\n",
              "      <td>negative</td>\n",
              "      <td>NaN</td>\n",
              "      <td>female</td>\n",
              "      <td>Other</td>\n",
              "    </tr>\n",
              "    <tr>\n",
              "      <th>4</th>\n",
              "      <td>2020-04-30</td>\n",
              "      <td>1.0</td>\n",
              "      <td>0.0</td>\n",
              "      <td>0.0</td>\n",
              "      <td>0.0</td>\n",
              "      <td>0.0</td>\n",
              "      <td>negative</td>\n",
              "      <td>NaN</td>\n",
              "      <td>male</td>\n",
              "      <td>Other</td>\n",
              "    </tr>\n",
              "  </tbody>\n",
              "</table>\n",
              "</div>\n",
              "      <button class=\"colab-df-convert\" onclick=\"convertToInteractive('df-1a8e7566-5393-48ec-84e1-c22843e70ae5')\"\n",
              "              title=\"Convert this dataframe to an interactive table.\"\n",
              "              style=\"display:none;\">\n",
              "\n",
              "  <svg xmlns=\"http://www.w3.org/2000/svg\" height=\"24px\"viewBox=\"0 0 24 24\"\n",
              "       width=\"24px\">\n",
              "    <path d=\"M0 0h24v24H0V0z\" fill=\"none\"/>\n",
              "    <path d=\"M18.56 5.44l.94 2.06.94-2.06 2.06-.94-2.06-.94-.94-2.06-.94 2.06-2.06.94zm-11 1L8.5 8.5l.94-2.06 2.06-.94-2.06-.94L8.5 2.5l-.94 2.06-2.06.94zm10 10l.94 2.06.94-2.06 2.06-.94-2.06-.94-.94-2.06-.94 2.06-2.06.94z\"/><path d=\"M17.41 7.96l-1.37-1.37c-.4-.4-.92-.59-1.43-.59-.52 0-1.04.2-1.43.59L10.3 9.45l-7.72 7.72c-.78.78-.78 2.05 0 2.83L4 21.41c.39.39.9.59 1.41.59.51 0 1.02-.2 1.41-.59l7.78-7.78 2.81-2.81c.8-.78.8-2.07 0-2.86zM5.41 20L4 18.59l7.72-7.72 1.47 1.35L5.41 20z\"/>\n",
              "  </svg>\n",
              "      </button>\n",
              "\n",
              "\n",
              "\n",
              "    <div id=\"df-adc770ec-a42b-462e-b467-996e98e6c923\">\n",
              "      <button class=\"colab-df-quickchart\" onclick=\"quickchart('df-adc770ec-a42b-462e-b467-996e98e6c923')\"\n",
              "              title=\"Suggest charts.\"\n",
              "              style=\"display:none;\">\n",
              "\n",
              "<svg xmlns=\"http://www.w3.org/2000/svg\" height=\"24px\"viewBox=\"0 0 24 24\"\n",
              "     width=\"24px\">\n",
              "    <g>\n",
              "        <path d=\"M19 3H5c-1.1 0-2 .9-2 2v14c0 1.1.9 2 2 2h14c1.1 0 2-.9 2-2V5c0-1.1-.9-2-2-2zM9 17H7v-7h2v7zm4 0h-2V7h2v10zm4 0h-2v-4h2v4z\"/>\n",
              "    </g>\n",
              "</svg>\n",
              "      </button>\n",
              "    </div>\n",
              "\n",
              "<style>\n",
              "  .colab-df-quickchart {\n",
              "    background-color: #E8F0FE;\n",
              "    border: none;\n",
              "    border-radius: 50%;\n",
              "    cursor: pointer;\n",
              "    display: none;\n",
              "    fill: #1967D2;\n",
              "    height: 32px;\n",
              "    padding: 0 0 0 0;\n",
              "    width: 32px;\n",
              "  }\n",
              "\n",
              "  .colab-df-quickchart:hover {\n",
              "    background-color: #E2EBFA;\n",
              "    box-shadow: 0px 1px 2px rgba(60, 64, 67, 0.3), 0px 1px 3px 1px rgba(60, 64, 67, 0.15);\n",
              "    fill: #174EA6;\n",
              "  }\n",
              "\n",
              "  [theme=dark] .colab-df-quickchart {\n",
              "    background-color: #3B4455;\n",
              "    fill: #D2E3FC;\n",
              "  }\n",
              "\n",
              "  [theme=dark] .colab-df-quickchart:hover {\n",
              "    background-color: #434B5C;\n",
              "    box-shadow: 0px 1px 3px 1px rgba(0, 0, 0, 0.15);\n",
              "    filter: drop-shadow(0px 1px 2px rgba(0, 0, 0, 0.3));\n",
              "    fill: #FFFFFF;\n",
              "  }\n",
              "</style>\n",
              "\n",
              "    <script>\n",
              "      async function quickchart(key) {\n",
              "        const containerElement = document.querySelector('#' + key);\n",
              "        const charts = await google.colab.kernel.invokeFunction(\n",
              "            'suggestCharts', [key], {});\n",
              "      }\n",
              "    </script>\n",
              "\n",
              "      <script>\n",
              "\n",
              "function displayQuickchartButton(domScope) {\n",
              "  let quickchartButtonEl =\n",
              "    domScope.querySelector('#df-adc770ec-a42b-462e-b467-996e98e6c923 button.colab-df-quickchart');\n",
              "  quickchartButtonEl.style.display =\n",
              "    google.colab.kernel.accessAllowed ? 'block' : 'none';\n",
              "}\n",
              "\n",
              "        displayQuickchartButton(document);\n",
              "      </script>\n",
              "      <style>\n",
              "    .colab-df-container {\n",
              "      display:flex;\n",
              "      flex-wrap:wrap;\n",
              "      gap: 12px;\n",
              "    }\n",
              "\n",
              "    .colab-df-convert {\n",
              "      background-color: #E8F0FE;\n",
              "      border: none;\n",
              "      border-radius: 50%;\n",
              "      cursor: pointer;\n",
              "      display: none;\n",
              "      fill: #1967D2;\n",
              "      height: 32px;\n",
              "      padding: 0 0 0 0;\n",
              "      width: 32px;\n",
              "    }\n",
              "\n",
              "    .colab-df-convert:hover {\n",
              "      background-color: #E2EBFA;\n",
              "      box-shadow: 0px 1px 2px rgba(60, 64, 67, 0.3), 0px 1px 3px 1px rgba(60, 64, 67, 0.15);\n",
              "      fill: #174EA6;\n",
              "    }\n",
              "\n",
              "    [theme=dark] .colab-df-convert {\n",
              "      background-color: #3B4455;\n",
              "      fill: #D2E3FC;\n",
              "    }\n",
              "\n",
              "    [theme=dark] .colab-df-convert:hover {\n",
              "      background-color: #434B5C;\n",
              "      box-shadow: 0px 1px 3px 1px rgba(0, 0, 0, 0.15);\n",
              "      filter: drop-shadow(0px 1px 2px rgba(0, 0, 0, 0.3));\n",
              "      fill: #FFFFFF;\n",
              "    }\n",
              "  </style>\n",
              "\n",
              "      <script>\n",
              "        const buttonEl =\n",
              "          document.querySelector('#df-1a8e7566-5393-48ec-84e1-c22843e70ae5 button.colab-df-convert');\n",
              "        buttonEl.style.display =\n",
              "          google.colab.kernel.accessAllowed ? 'block' : 'none';\n",
              "\n",
              "        async function convertToInteractive(key) {\n",
              "          const element = document.querySelector('#df-1a8e7566-5393-48ec-84e1-c22843e70ae5');\n",
              "          const dataTable =\n",
              "            await google.colab.kernel.invokeFunction('convertToInteractive',\n",
              "                                                     [key], {});\n",
              "          if (!dataTable) return;\n",
              "\n",
              "          const docLinkHtml = 'Like what you see? Visit the ' +\n",
              "            '<a target=\"_blank\" href=https://colab.research.google.com/notebooks/data_table.ipynb>data table notebook</a>'\n",
              "            + ' to learn more about interactive tables.';\n",
              "          element.innerHTML = '';\n",
              "          dataTable['output_type'] = 'display_data';\n",
              "          await google.colab.output.renderOutput(dataTable, element);\n",
              "          const docLink = document.createElement('div');\n",
              "          docLink.innerHTML = docLinkHtml;\n",
              "          element.appendChild(docLink);\n",
              "        }\n",
              "      </script>\n",
              "    </div>\n",
              "  </div>\n"
            ]
          },
          "metadata": {},
          "execution_count": 10
        }
      ]
    },
    {
      "cell_type": "code",
      "source": [
        "# check for unique values and nan\n",
        "for i in df.columns[1:]:\n",
        "    print(f'{i}: ', df[i].unique())"
      ],
      "metadata": {
        "colab": {
          "base_uri": "https://localhost:8080/"
        },
        "id": "y_Q0zPOol2CX",
        "outputId": "a940c5f9-a94b-4bb7-aca7-d7f91dbdc31f"
      },
      "execution_count": null,
      "outputs": [
        {
          "output_type": "stream",
          "name": "stdout",
          "text": [
            "cough:  [ 0.  1. nan]\n",
            "fever:  [ 0.  1. nan]\n",
            "sore_throat:  [ 0.  1. nan]\n",
            "shortness_of_breath:  [ 0.  1. nan]\n",
            "head_ache:  [ 0.  1. nan]\n",
            "corona_result:  ['negative' 'positive' 'other']\n",
            "age_60_and_above:  [nan 'Yes' 'No']\n",
            "gender:  ['female' 'male' nan]\n",
            "test_indication:  ['Other' 'Abroad' 'Contact with confirmed']\n"
          ]
        }
      ]
    },
    {
      "cell_type": "code",
      "source": [
        "# drop all rows where the target variable is not positive or negative\n",
        "df = df[(df.corona_result == 'positive') | (df.corona_result == 'negative')]"
      ],
      "metadata": {
        "id": "1b02k5xzwRe3"
      },
      "execution_count": null,
      "outputs": []
    },
    {
      "cell_type": "code",
      "source": [
        "# values stats\n",
        "for i in df.columns[1:]:\n",
        "    print(f'{i}: \\n', df[i].value_counts(dropna=False))"
      ],
      "metadata": {
        "colab": {
          "base_uri": "https://localhost:8080/"
        },
        "id": "mtdro_6UobtJ",
        "outputId": "56cb731b-f4bd-4c1a-e5f4-375d9a0c6dce"
      },
      "execution_count": null,
      "outputs": [
        {
          "output_type": "stream",
          "name": "stdout",
          "text": [
            "cough: \n",
            " 0.0    233133\n",
            "1.0     41571\n",
            "NaN       252\n",
            "Name: cough, dtype: int64\n",
            "fever: \n",
            " 0.0    253329\n",
            "1.0     21375\n",
            "NaN       252\n",
            "Name: fever, dtype: int64\n",
            "sore_throat: \n",
            " 0.0    273063\n",
            "1.0      1892\n",
            "NaN         1\n",
            "Name: sore_throat, dtype: int64\n",
            "shortness_of_breath: \n",
            " 0.0    273406\n",
            "1.0      1549\n",
            "NaN         1\n",
            "Name: shortness_of_breath, dtype: int64\n",
            "head_ache: \n",
            " 0.0    272572\n",
            "1.0      2383\n",
            "NaN         1\n",
            "Name: head_ache, dtype: int64\n",
            "corona_result: \n",
            " negative    260227\n",
            "positive     14729\n",
            "Name: corona_result, dtype: int64\n",
            "age_60_and_above: \n",
            " NaN    125664\n",
            "No     123867\n",
            "Yes     25425\n",
            "Name: age_60_and_above, dtype: int64\n",
            "gender: \n",
            " female    128541\n",
            "male      127370\n",
            "NaN        19045\n",
            "Name: gender, dtype: int64\n",
            "test_indication: \n",
            " Other                     239404\n",
            "Abroad                     25074\n",
            "Contact with confirmed     10478\n",
            "Name: test_indication, dtype: int64\n"
          ]
        }
      ]
    },
    {
      "cell_type": "code",
      "source": [
        "#Which symptoms have a reporting bias, i.e., likely to be reported when the patient is COVID positive?\n",
        "df_g = pd.DataFrame(df.groupby('corona_result')['cough', 'fever', 'sore_throat', 'shortness_of_breath',\n",
        "       'head_ache', 'age_60_and_above', 'gender',\n",
        "       'test_indication'].value_counts(dropna=False).reset_index( name='count'))\n",
        "df_g[df_g['corona_result']=='positive']"
      ],
      "metadata": {
        "colab": {
          "base_uri": "https://localhost:8080/",
          "height": 574
        },
        "id": "SMHSJ2ztq6xu",
        "outputId": "eb949b4e-1680-4867-822f-167f86cb54a7"
      },
      "execution_count": null,
      "outputs": [
        {
          "output_type": "execute_result",
          "data": {
            "text/plain": [
              "    corona_result  cough  fever  sore_throat  shortness_of_breath  head_ache  \\\n",
              "355      positive    0.0    0.0          0.0                  0.0        0.0   \n",
              "356      positive    0.0    0.0          0.0                  0.0        0.0   \n",
              "357      positive    0.0    0.0          0.0                  0.0        0.0   \n",
              "358      positive    0.0    0.0          0.0                  0.0        0.0   \n",
              "359      positive    0.0    0.0          0.0                  0.0        0.0   \n",
              "..            ...    ...    ...          ...                  ...        ...   \n",
              "910      positive    1.0    0.0          0.0                  1.0        1.0   \n",
              "911      positive    1.0    0.0          0.0                  1.0        1.0   \n",
              "912      positive    1.0    0.0          0.0                  1.0        1.0   \n",
              "913      positive    1.0    0.0          0.0                  1.0        1.0   \n",
              "914      positive    NaN    NaN          NaN                  NaN        NaN   \n",
              "\n",
              "    age_60_and_above  gender         test_indication  count  \n",
              "355               No    male  Contact with confirmed    687  \n",
              "356               No  female  Contact with confirmed    647  \n",
              "357               No    male                   Other    610  \n",
              "358              NaN    male                   Other    456  \n",
              "359              NaN  female  Contact with confirmed    454  \n",
              "..               ...     ...                     ...    ...  \n",
              "910              NaN  female                   Other      1  \n",
              "911              Yes  female  Contact with confirmed      1  \n",
              "912               No     NaN  Contact with confirmed      1  \n",
              "913               No     NaN                  Abroad      1  \n",
              "914              NaN     NaN                   Other      1  \n",
              "\n",
              "[560 rows x 10 columns]"
            ],
            "text/html": [
              "\n",
              "\n",
              "  <div id=\"df-29a18f09-ae5f-4eb2-bcac-edb9f35e353a\">\n",
              "    <div class=\"colab-df-container\">\n",
              "      <div>\n",
              "<style scoped>\n",
              "    .dataframe tbody tr th:only-of-type {\n",
              "        vertical-align: middle;\n",
              "    }\n",
              "\n",
              "    .dataframe tbody tr th {\n",
              "        vertical-align: top;\n",
              "    }\n",
              "\n",
              "    .dataframe thead th {\n",
              "        text-align: right;\n",
              "    }\n",
              "</style>\n",
              "<table border=\"1\" class=\"dataframe\">\n",
              "  <thead>\n",
              "    <tr style=\"text-align: right;\">\n",
              "      <th></th>\n",
              "      <th>corona_result</th>\n",
              "      <th>cough</th>\n",
              "      <th>fever</th>\n",
              "      <th>sore_throat</th>\n",
              "      <th>shortness_of_breath</th>\n",
              "      <th>head_ache</th>\n",
              "      <th>age_60_and_above</th>\n",
              "      <th>gender</th>\n",
              "      <th>test_indication</th>\n",
              "      <th>count</th>\n",
              "    </tr>\n",
              "  </thead>\n",
              "  <tbody>\n",
              "    <tr>\n",
              "      <th>355</th>\n",
              "      <td>positive</td>\n",
              "      <td>0.0</td>\n",
              "      <td>0.0</td>\n",
              "      <td>0.0</td>\n",
              "      <td>0.0</td>\n",
              "      <td>0.0</td>\n",
              "      <td>No</td>\n",
              "      <td>male</td>\n",
              "      <td>Contact with confirmed</td>\n",
              "      <td>687</td>\n",
              "    </tr>\n",
              "    <tr>\n",
              "      <th>356</th>\n",
              "      <td>positive</td>\n",
              "      <td>0.0</td>\n",
              "      <td>0.0</td>\n",
              "      <td>0.0</td>\n",
              "      <td>0.0</td>\n",
              "      <td>0.0</td>\n",
              "      <td>No</td>\n",
              "      <td>female</td>\n",
              "      <td>Contact with confirmed</td>\n",
              "      <td>647</td>\n",
              "    </tr>\n",
              "    <tr>\n",
              "      <th>357</th>\n",
              "      <td>positive</td>\n",
              "      <td>0.0</td>\n",
              "      <td>0.0</td>\n",
              "      <td>0.0</td>\n",
              "      <td>0.0</td>\n",
              "      <td>0.0</td>\n",
              "      <td>No</td>\n",
              "      <td>male</td>\n",
              "      <td>Other</td>\n",
              "      <td>610</td>\n",
              "    </tr>\n",
              "    <tr>\n",
              "      <th>358</th>\n",
              "      <td>positive</td>\n",
              "      <td>0.0</td>\n",
              "      <td>0.0</td>\n",
              "      <td>0.0</td>\n",
              "      <td>0.0</td>\n",
              "      <td>0.0</td>\n",
              "      <td>NaN</td>\n",
              "      <td>male</td>\n",
              "      <td>Other</td>\n",
              "      <td>456</td>\n",
              "    </tr>\n",
              "    <tr>\n",
              "      <th>359</th>\n",
              "      <td>positive</td>\n",
              "      <td>0.0</td>\n",
              "      <td>0.0</td>\n",
              "      <td>0.0</td>\n",
              "      <td>0.0</td>\n",
              "      <td>0.0</td>\n",
              "      <td>NaN</td>\n",
              "      <td>female</td>\n",
              "      <td>Contact with confirmed</td>\n",
              "      <td>454</td>\n",
              "    </tr>\n",
              "    <tr>\n",
              "      <th>...</th>\n",
              "      <td>...</td>\n",
              "      <td>...</td>\n",
              "      <td>...</td>\n",
              "      <td>...</td>\n",
              "      <td>...</td>\n",
              "      <td>...</td>\n",
              "      <td>...</td>\n",
              "      <td>...</td>\n",
              "      <td>...</td>\n",
              "      <td>...</td>\n",
              "    </tr>\n",
              "    <tr>\n",
              "      <th>910</th>\n",
              "      <td>positive</td>\n",
              "      <td>1.0</td>\n",
              "      <td>0.0</td>\n",
              "      <td>0.0</td>\n",
              "      <td>1.0</td>\n",
              "      <td>1.0</td>\n",
              "      <td>NaN</td>\n",
              "      <td>female</td>\n",
              "      <td>Other</td>\n",
              "      <td>1</td>\n",
              "    </tr>\n",
              "    <tr>\n",
              "      <th>911</th>\n",
              "      <td>positive</td>\n",
              "      <td>1.0</td>\n",
              "      <td>0.0</td>\n",
              "      <td>0.0</td>\n",
              "      <td>1.0</td>\n",
              "      <td>1.0</td>\n",
              "      <td>Yes</td>\n",
              "      <td>female</td>\n",
              "      <td>Contact with confirmed</td>\n",
              "      <td>1</td>\n",
              "    </tr>\n",
              "    <tr>\n",
              "      <th>912</th>\n",
              "      <td>positive</td>\n",
              "      <td>1.0</td>\n",
              "      <td>0.0</td>\n",
              "      <td>0.0</td>\n",
              "      <td>1.0</td>\n",
              "      <td>1.0</td>\n",
              "      <td>No</td>\n",
              "      <td>NaN</td>\n",
              "      <td>Contact with confirmed</td>\n",
              "      <td>1</td>\n",
              "    </tr>\n",
              "    <tr>\n",
              "      <th>913</th>\n",
              "      <td>positive</td>\n",
              "      <td>1.0</td>\n",
              "      <td>0.0</td>\n",
              "      <td>0.0</td>\n",
              "      <td>1.0</td>\n",
              "      <td>1.0</td>\n",
              "      <td>No</td>\n",
              "      <td>NaN</td>\n",
              "      <td>Abroad</td>\n",
              "      <td>1</td>\n",
              "    </tr>\n",
              "    <tr>\n",
              "      <th>914</th>\n",
              "      <td>positive</td>\n",
              "      <td>NaN</td>\n",
              "      <td>NaN</td>\n",
              "      <td>NaN</td>\n",
              "      <td>NaN</td>\n",
              "      <td>NaN</td>\n",
              "      <td>NaN</td>\n",
              "      <td>NaN</td>\n",
              "      <td>Other</td>\n",
              "      <td>1</td>\n",
              "    </tr>\n",
              "  </tbody>\n",
              "</table>\n",
              "<p>560 rows × 10 columns</p>\n",
              "</div>\n",
              "      <button class=\"colab-df-convert\" onclick=\"convertToInteractive('df-29a18f09-ae5f-4eb2-bcac-edb9f35e353a')\"\n",
              "              title=\"Convert this dataframe to an interactive table.\"\n",
              "              style=\"display:none;\">\n",
              "\n",
              "  <svg xmlns=\"http://www.w3.org/2000/svg\" height=\"24px\"viewBox=\"0 0 24 24\"\n",
              "       width=\"24px\">\n",
              "    <path d=\"M0 0h24v24H0V0z\" fill=\"none\"/>\n",
              "    <path d=\"M18.56 5.44l.94 2.06.94-2.06 2.06-.94-2.06-.94-.94-2.06-.94 2.06-2.06.94zm-11 1L8.5 8.5l.94-2.06 2.06-.94-2.06-.94L8.5 2.5l-.94 2.06-2.06.94zm10 10l.94 2.06.94-2.06 2.06-.94-2.06-.94-.94-2.06-.94 2.06-2.06.94z\"/><path d=\"M17.41 7.96l-1.37-1.37c-.4-.4-.92-.59-1.43-.59-.52 0-1.04.2-1.43.59L10.3 9.45l-7.72 7.72c-.78.78-.78 2.05 0 2.83L4 21.41c.39.39.9.59 1.41.59.51 0 1.02-.2 1.41-.59l7.78-7.78 2.81-2.81c.8-.78.8-2.07 0-2.86zM5.41 20L4 18.59l7.72-7.72 1.47 1.35L5.41 20z\"/>\n",
              "  </svg>\n",
              "      </button>\n",
              "\n",
              "\n",
              "\n",
              "    <div id=\"df-04ecfdcd-4e80-4828-99c5-d8c65c68eab8\">\n",
              "      <button class=\"colab-df-quickchart\" onclick=\"quickchart('df-04ecfdcd-4e80-4828-99c5-d8c65c68eab8')\"\n",
              "              title=\"Suggest charts.\"\n",
              "              style=\"display:none;\">\n",
              "\n",
              "<svg xmlns=\"http://www.w3.org/2000/svg\" height=\"24px\"viewBox=\"0 0 24 24\"\n",
              "     width=\"24px\">\n",
              "    <g>\n",
              "        <path d=\"M19 3H5c-1.1 0-2 .9-2 2v14c0 1.1.9 2 2 2h14c1.1 0 2-.9 2-2V5c0-1.1-.9-2-2-2zM9 17H7v-7h2v7zm4 0h-2V7h2v10zm4 0h-2v-4h2v4z\"/>\n",
              "    </g>\n",
              "</svg>\n",
              "      </button>\n",
              "    </div>\n",
              "\n",
              "<style>\n",
              "  .colab-df-quickchart {\n",
              "    background-color: #E8F0FE;\n",
              "    border: none;\n",
              "    border-radius: 50%;\n",
              "    cursor: pointer;\n",
              "    display: none;\n",
              "    fill: #1967D2;\n",
              "    height: 32px;\n",
              "    padding: 0 0 0 0;\n",
              "    width: 32px;\n",
              "  }\n",
              "\n",
              "  .colab-df-quickchart:hover {\n",
              "    background-color: #E2EBFA;\n",
              "    box-shadow: 0px 1px 2px rgba(60, 64, 67, 0.3), 0px 1px 3px 1px rgba(60, 64, 67, 0.15);\n",
              "    fill: #174EA6;\n",
              "  }\n",
              "\n",
              "  [theme=dark] .colab-df-quickchart {\n",
              "    background-color: #3B4455;\n",
              "    fill: #D2E3FC;\n",
              "  }\n",
              "\n",
              "  [theme=dark] .colab-df-quickchart:hover {\n",
              "    background-color: #434B5C;\n",
              "    box-shadow: 0px 1px 3px 1px rgba(0, 0, 0, 0.15);\n",
              "    filter: drop-shadow(0px 1px 2px rgba(0, 0, 0, 0.3));\n",
              "    fill: #FFFFFF;\n",
              "  }\n",
              "</style>\n",
              "\n",
              "    <script>\n",
              "      async function quickchart(key) {\n",
              "        const containerElement = document.querySelector('#' + key);\n",
              "        const charts = await google.colab.kernel.invokeFunction(\n",
              "            'suggestCharts', [key], {});\n",
              "      }\n",
              "    </script>\n",
              "\n",
              "      <script>\n",
              "\n",
              "function displayQuickchartButton(domScope) {\n",
              "  let quickchartButtonEl =\n",
              "    domScope.querySelector('#df-04ecfdcd-4e80-4828-99c5-d8c65c68eab8 button.colab-df-quickchart');\n",
              "  quickchartButtonEl.style.display =\n",
              "    google.colab.kernel.accessAllowed ? 'block' : 'none';\n",
              "}\n",
              "\n",
              "        displayQuickchartButton(document);\n",
              "      </script>\n",
              "      <style>\n",
              "    .colab-df-container {\n",
              "      display:flex;\n",
              "      flex-wrap:wrap;\n",
              "      gap: 12px;\n",
              "    }\n",
              "\n",
              "    .colab-df-convert {\n",
              "      background-color: #E8F0FE;\n",
              "      border: none;\n",
              "      border-radius: 50%;\n",
              "      cursor: pointer;\n",
              "      display: none;\n",
              "      fill: #1967D2;\n",
              "      height: 32px;\n",
              "      padding: 0 0 0 0;\n",
              "      width: 32px;\n",
              "    }\n",
              "\n",
              "    .colab-df-convert:hover {\n",
              "      background-color: #E2EBFA;\n",
              "      box-shadow: 0px 1px 2px rgba(60, 64, 67, 0.3), 0px 1px 3px 1px rgba(60, 64, 67, 0.15);\n",
              "      fill: #174EA6;\n",
              "    }\n",
              "\n",
              "    [theme=dark] .colab-df-convert {\n",
              "      background-color: #3B4455;\n",
              "      fill: #D2E3FC;\n",
              "    }\n",
              "\n",
              "    [theme=dark] .colab-df-convert:hover {\n",
              "      background-color: #434B5C;\n",
              "      box-shadow: 0px 1px 3px 1px rgba(0, 0, 0, 0.15);\n",
              "      filter: drop-shadow(0px 1px 2px rgba(0, 0, 0, 0.3));\n",
              "      fill: #FFFFFF;\n",
              "    }\n",
              "  </style>\n",
              "\n",
              "      <script>\n",
              "        const buttonEl =\n",
              "          document.querySelector('#df-29a18f09-ae5f-4eb2-bcac-edb9f35e353a button.colab-df-convert');\n",
              "        buttonEl.style.display =\n",
              "          google.colab.kernel.accessAllowed ? 'block' : 'none';\n",
              "\n",
              "        async function convertToInteractive(key) {\n",
              "          const element = document.querySelector('#df-29a18f09-ae5f-4eb2-bcac-edb9f35e353a');\n",
              "          const dataTable =\n",
              "            await google.colab.kernel.invokeFunction('convertToInteractive',\n",
              "                                                     [key], {});\n",
              "          if (!dataTable) return;\n",
              "\n",
              "          const docLinkHtml = 'Like what you see? Visit the ' +\n",
              "            '<a target=\"_blank\" href=https://colab.research.google.com/notebooks/data_table.ipynb>data table notebook</a>'\n",
              "            + ' to learn more about interactive tables.';\n",
              "          element.innerHTML = '';\n",
              "          dataTable['output_type'] = 'display_data';\n",
              "          await google.colab.output.renderOutput(dataTable, element);\n",
              "          const docLink = document.createElement('div');\n",
              "          docLink.innerHTML = docLinkHtml;\n",
              "          element.appendChild(docLink);\n",
              "        }\n",
              "      </script>\n",
              "    </div>\n",
              "  </div>\n"
            ]
          },
          "metadata": {},
          "execution_count": 14
        }
      ]
    },
    {
      "cell_type": "code",
      "execution_count": null,
      "metadata": {
        "id": "uaRCcCnta_Zj",
        "outputId": "42a5b192-e296-4576-fb13-a5d54c5c9805",
        "colab": {
          "base_uri": "https://localhost:8080/"
        }
      },
      "outputs": [
        {
          "output_type": "execute_result",
          "data": {
            "text/plain": [
              "negative    0.946431\n",
              "positive    0.053569\n",
              "Name: corona_result, dtype: float64"
            ]
          },
          "metadata": {},
          "execution_count": 15
        }
      ],
      "source": [
        "# prepare the target variable\n",
        "df.corona_result.value_counts( normalize=True)\n"
      ]
    },
    {
      "cell_type": "code",
      "source": [
        "# Visualisation: Draw the bar graph of features grouped by the target class 'corona_result'\n",
        "# Group the data by the target class and count the occurrences of each feature\n",
        "grouped_data = df.groupby('corona_result').count()\n",
        "\n",
        "# Create a bar plot of the grouped data\n",
        "grouped_data.plot(kind='bar')\n",
        "plt.show()"
      ],
      "metadata": {
        "colab": {
          "base_uri": "https://localhost:8080/",
          "height": 496
        },
        "id": "cZCE5zPnsAzC",
        "outputId": "fbf31518-f8bd-4691-eac7-f2eac100fe45"
      },
      "execution_count": null,
      "outputs": [
        {
          "output_type": "display_data",
          "data": {
            "text/plain": [
              "<Figure size 640x480 with 1 Axes>"
            ],
            "image/png": "[encoded data removed]"
          },
          "metadata": {}
        }
      ]
    },
    {
      "cell_type": "code",
      "source": [
        "df.test_date"
      ],
      "metadata": {
        "colab": {
          "base_uri": "https://localhost:8080/"
        },
        "id": "2NdOUl1FKWSV",
        "outputId": "7b13b5d5-38b5-4d4d-fba3-258a47b63572"
      },
      "execution_count": null,
      "outputs": [
        {
          "output_type": "execute_result",
          "data": {
            "text/plain": [
              "0        2020-04-30\n",
              "1        2020-04-30\n",
              "2        2020-04-30\n",
              "3        2020-04-30\n",
              "4        2020-04-30\n",
              "            ...    \n",
              "278842   2020-03-11\n",
              "278843   2020-03-11\n",
              "278844   2020-03-11\n",
              "278845   2020-03-11\n",
              "278847   2020-03-11\n",
              "Name: test_date, Length: 274956, dtype: datetime64[ns]"
            ]
          },
          "metadata": {},
          "execution_count": 17
        }
      ]
    },
    {
      "cell_type": "code",
      "execution_count": null,
      "metadata": {
        "id": "dxdOny1ha_Zk"
      },
      "outputs": [],
      "source": [
        "# drop test date column\n",
        "#df.drop('test_date', axis=1, inplace=True)"
      ]
    },
    {
      "cell_type": "code",
      "source": [
        "df"
      ],
      "metadata": {
        "id": "M91dlYuksdao",
        "colab": {
          "base_uri": "https://localhost:8080/",
          "height": 505
        },
        "outputId": "48749193-68c3-498d-975f-7e34d4d890cd"
      },
      "execution_count": null,
      "outputs": [
        {
          "output_type": "execute_result",
          "data": {
            "text/plain": [
              "        test_date  cough  fever  sore_throat  shortness_of_breath  head_ache  \\\n",
              "0      2020-04-30    0.0    0.0          0.0                  0.0        0.0   \n",
              "1      2020-04-30    1.0    0.0          0.0                  0.0        0.0   \n",
              "2      2020-04-30    0.0    1.0          0.0                  0.0        0.0   \n",
              "3      2020-04-30    1.0    0.0          0.0                  0.0        0.0   \n",
              "4      2020-04-30    1.0    0.0          0.0                  0.0        0.0   \n",
              "...           ...    ...    ...          ...                  ...        ...   \n",
              "278842 2020-03-11    0.0    0.0          0.0                  0.0        0.0   \n",
              "278843 2020-03-11    0.0    0.0          0.0                  0.0        0.0   \n",
              "278844 2020-03-11    0.0    0.0          0.0                  0.0        0.0   \n",
              "278845 2020-03-11    0.0    0.0          0.0                  0.0        0.0   \n",
              "278847 2020-03-11    0.0    0.0          0.0                  0.0        0.0   \n",
              "\n",
              "       corona_result age_60_and_above  gender         test_indication  \n",
              "0           negative              NaN  female                   Other  \n",
              "1           negative              NaN  female                   Other  \n",
              "2           negative              NaN    male                   Other  \n",
              "3           negative              NaN  female                   Other  \n",
              "4           negative              NaN    male                   Other  \n",
              "...              ...              ...     ...                     ...  \n",
              "278842      negative              NaN     NaN                   Other  \n",
              "278843      negative              NaN     NaN                   Other  \n",
              "278844      negative              NaN     NaN                   Other  \n",
              "278845      positive              NaN     NaN  Contact with confirmed  \n",
              "278847      negative              NaN     NaN                   Other  \n",
              "\n",
              "[274956 rows x 10 columns]"
            ],
            "text/html": [
              "\n",
              "\n",
              "  <div id=\"df-ad07c7d3-7791-4392-86ee-32b991ffa902\">\n",
              "    <div class=\"colab-df-container\">\n",
              "      <div>\n",
              "<style scoped>\n",
              "    .dataframe tbody tr th:only-of-type {\n",
              "        vertical-align: middle;\n",
              "    }\n",
              "\n",
              "    .dataframe tbody tr th {\n",
              "        vertical-align: top;\n",
              "    }\n",
              "\n",
              "    .dataframe thead th {\n",
              "        text-align: right;\n",
              "    }\n",
              "</style>\n",
              "<table border=\"1\" class=\"dataframe\">\n",
              "  <thead>\n",
              "    <tr style=\"text-align: right;\">\n",
              "      <th></th>\n",
              "      <th>test_date</th>\n",
              "      <th>cough</th>\n",
              "      <th>fever</th>\n",
              "      <th>sore_throat</th>\n",
              "      <th>shortness_of_breath</th>\n",
              "      <th>head_ache</th>\n",
              "      <th>corona_result</th>\n",
              "      <th>age_60_and_above</th>\n",
              "      <th>gender</th>\n",
              "      <th>test_indication</th>\n",
              "    </tr>\n",
              "  </thead>\n",
              "  <tbody>\n",
              "    <tr>\n",
              "      <th>0</th>\n",
              "      <td>2020-04-30</td>\n",
              "      <td>0.0</td>\n",
              "      <td>0.0</td>\n",
              "      <td>0.0</td>\n",
              "      <td>0.0</td>\n",
              "      <td>0.0</td>\n",
              "      <td>negative</td>\n",
              "      <td>NaN</td>\n",
              "      <td>female</td>\n",
              "      <td>Other</td>\n",
              "    </tr>\n",
              "    <tr>\n",
              "      <th>1</th>\n",
              "      <td>2020-04-30</td>\n",
              "      <td>1.0</td>\n",
              "      <td>0.0</td>\n",
              "      <td>0.0</td>\n",
              "      <td>0.0</td>\n",
              "      <td>0.0</td>\n",
              "      <td>negative</td>\n",
              "      <td>NaN</td>\n",
              "      <td>female</td>\n",
              "      <td>Other</td>\n",
              "    </tr>\n",
              "    <tr>\n",
              "      <th>2</th>\n",
              "      <td>2020-04-30</td>\n",
              "      <td>0.0</td>\n",
              "      <td>1.0</td>\n",
              "      <td>0.0</td>\n",
              "      <td>0.0</td>\n",
              "      <td>0.0</td>\n",
              "      <td>negative</td>\n",
              "      <td>NaN</td>\n",
              "      <td>male</td>\n",
              "      <td>Other</td>\n",
              "    </tr>\n",
              "    <tr>\n",
              "      <th>3</th>\n",
              "      <td>2020-04-30</td>\n",
              "      <td>1.0</td>\n",
              "      <td>0.0</td>\n",
              "      <td>0.0</td>\n",
              "      <td>0.0</td>\n",
              "      <td>0.0</td>\n",
              "      <td>negative</td>\n",
              "      <td>NaN</td>\n",
              "      <td>female</td>\n",
              "      <td>Other</td>\n",
              "    </tr>\n",
              "    <tr>\n",
              "      <th>4</th>\n",
              "      <td>2020-04-30</td>\n",
              "      <td>1.0</td>\n",
              "      <td>0.0</td>\n",
              "      <td>0.0</td>\n",
              "      <td>0.0</td>\n",
              "      <td>0.0</td>\n",
              "      <td>negative</td>\n",
              "      <td>NaN</td>\n",
              "      <td>male</td>\n",
              "      <td>Other</td>\n",
              "    </tr>\n",
              "    <tr>\n",
              "      <th>...</th>\n",
              "      <td>...</td>\n",
              "      <td>...</td>\n",
              "      <td>...</td>\n",
              "      <td>...</td>\n",
              "      <td>...</td>\n",
              "      <td>...</td>\n",
              "      <td>...</td>\n",
              "      <td>...</td>\n",
              "      <td>...</td>\n",
              "      <td>...</td>\n",
              "    </tr>\n",
              "    <tr>\n",
              "      <th>278842</th>\n",
              "      <td>2020-03-11</td>\n",
              "      <td>0.0</td>\n",
              "      <td>0.0</td>\n",
              "      <td>0.0</td>\n",
              "      <td>0.0</td>\n",
              "      <td>0.0</td>\n",
              "      <td>negative</td>\n",
              "      <td>NaN</td>\n",
              "      <td>NaN</td>\n",
              "      <td>Other</td>\n",
              "    </tr>\n",
              "    <tr>\n",
              "      <th>278843</th>\n",
              "      <td>2020-03-11</td>\n",
              "      <td>0.0</td>\n",
              "      <td>0.0</td>\n",
              "      <td>0.0</td>\n",
              "      <td>0.0</td>\n",
              "      <td>0.0</td>\n",
              "      <td>negative</td>\n",
              "      <td>NaN</td>\n",
              "      <td>NaN</td>\n",
              "      <td>Other</td>\n",
              "    </tr>\n",
              "    <tr>\n",
              "      <th>278844</th>\n",
              "      <td>2020-03-11</td>\n",
              "      <td>0.0</td>\n",
              "      <td>0.0</td>\n",
              "      <td>0.0</td>\n",
              "      <td>0.0</td>\n",
              "      <td>0.0</td>\n",
              "      <td>negative</td>\n",
              "      <td>NaN</td>\n",
              "      <td>NaN</td>\n",
              "      <td>Other</td>\n",
              "    </tr>\n",
              "    <tr>\n",
              "      <th>278845</th>\n",
              "      <td>2020-03-11</td>\n",
              "      <td>0.0</td>\n",
              "      <td>0.0</td>\n",
              "      <td>0.0</td>\n",
              "      <td>0.0</td>\n",
              "      <td>0.0</td>\n",
              "      <td>positive</td>\n",
              "      <td>NaN</td>\n",
              "      <td>NaN</td>\n",
              "      <td>Contact with confirmed</td>\n",
              "    </tr>\n",
              "    <tr>\n",
              "      <th>278847</th>\n",
              "      <td>2020-03-11</td>\n",
              "      <td>0.0</td>\n",
              "      <td>0.0</td>\n",
              "      <td>0.0</td>\n",
              "      <td>0.0</td>\n",
              "      <td>0.0</td>\n",
              "      <td>negative</td>\n",
              "      <td>NaN</td>\n",
              "      <td>NaN</td>\n",
              "      <td>Other</td>\n",
              "    </tr>\n",
              "  </tbody>\n",
              "</table>\n",
              "<p>274956 rows × 10 columns</p>\n",
              "</div>\n",
              "      <button class=\"colab-df-convert\" onclick=\"convertToInteractive('df-ad07c7d3-7791-4392-86ee-32b991ffa902')\"\n",
              "              title=\"Convert this dataframe to an interactive table.\"\n",
              "              style=\"display:none;\">\n",
              "\n",
              "  <svg xmlns=\"http://www.w3.org/2000/svg\" height=\"24px\"viewBox=\"0 0 24 24\"\n",
              "       width=\"24px\">\n",
              "    <path d=\"M0 0h24v24H0V0z\" fill=\"none\"/>\n",
              "    <path d=\"M18.56 5.44l.94 2.06.94-2.06 2.06-.94-2.06-.94-.94-2.06-.94 2.06-2.06.94zm-11 1L8.5 8.5l.94-2.06 2.06-.94-2.06-.94L8.5 2.5l-.94 2.06-2.06.94zm10 10l.94 2.06.94-2.06 2.06-.94-2.06-.94-.94-2.06-.94 2.06-2.06.94z\"/><path d=\"M17.41 7.96l-1.37-1.37c-.4-.4-.92-.59-1.43-.59-.52 0-1.04.2-1.43.59L10.3 9.45l-7.72 7.72c-.78.78-.78 2.05 0 2.83L4 21.41c.39.39.9.59 1.41.59.51 0 1.02-.2 1.41-.59l7.78-7.78 2.81-2.81c.8-.78.8-2.07 0-2.86zM5.41 20L4 18.59l7.72-7.72 1.47 1.35L5.41 20z\"/>\n",
              "  </svg>\n",
              "      </button>\n",
              "\n",
              "\n",
              "\n",
              "    <div id=\"df-048a3d0e-5409-4cfb-a29f-a5976c3da947\">\n",
              "      <button class=\"colab-df-quickchart\" onclick=\"quickchart('df-048a3d0e-5409-4cfb-a29f-a5976c3da947')\"\n",
              "              title=\"Suggest charts.\"\n",
              "              style=\"display:none;\">\n",
              "\n",
              "<svg xmlns=\"http://www.w3.org/2000/svg\" height=\"24px\"viewBox=\"0 0 24 24\"\n",
              "     width=\"24px\">\n",
              "    <g>\n",
              "        <path d=\"M19 3H5c-1.1 0-2 .9-2 2v14c0 1.1.9 2 2 2h14c1.1 0 2-.9 2-2V5c0-1.1-.9-2-2-2zM9 17H7v-7h2v7zm4 0h-2V7h2v10zm4 0h-2v-4h2v4z\"/>\n",
              "    </g>\n",
              "</svg>\n",
              "      </button>\n",
              "    </div>\n",
              "\n",
              "<style>\n",
              "  .colab-df-quickchart {\n",
              "    background-color: #E8F0FE;\n",
              "    border: none;\n",
              "    border-radius: 50%;\n",
              "    cursor: pointer;\n",
              "    display: none;\n",
              "    fill: #1967D2;\n",
              "    height: 32px;\n",
              "    padding: 0 0 0 0;\n",
              "    width: 32px;\n",
              "  }\n",
              "\n",
              "  .colab-df-quickchart:hover {\n",
              "    background-color: #E2EBFA;\n",
              "    box-shadow: 0px 1px 2px rgba(60, 64, 67, 0.3), 0px 1px 3px 1px rgba(60, 64, 67, 0.15);\n",
              "    fill: #174EA6;\n",
              "  }\n",
              "\n",
              "  [theme=dark] .colab-df-quickchart {\n",
              "    background-color: #3B4455;\n",
              "    fill: #D2E3FC;\n",
              "  }\n",
              "\n",
              "  [theme=dark] .colab-df-quickchart:hover {\n",
              "    background-color: #434B5C;\n",
              "    box-shadow: 0px 1px 3px 1px rgba(0, 0, 0, 0.15);\n",
              "    filter: drop-shadow(0px 1px 2px rgba(0, 0, 0, 0.3));\n",
              "    fill: #FFFFFF;\n",
              "  }\n",
              "</style>\n",
              "\n",
              "    <script>\n",
              "      async function quickchart(key) {\n",
              "        const containerElement = document.querySelector('#' + key);\n",
              "        const charts = await google.colab.kernel.invokeFunction(\n",
              "            'suggestCharts', [key], {});\n",
              "      }\n",
              "    </script>\n",
              "\n",
              "      <script>\n",
              "\n",
              "function displayQuickchartButton(domScope) {\n",
              "  let quickchartButtonEl =\n",
              "    domScope.querySelector('#df-048a3d0e-5409-4cfb-a29f-a5976c3da947 button.colab-df-quickchart');\n",
              "  quickchartButtonEl.style.display =\n",
              "    google.colab.kernel.accessAllowed ? 'block' : 'none';\n",
              "}\n",
              "\n",
              "        displayQuickchartButton(document);\n",
              "      </script>\n",
              "      <style>\n",
              "    .colab-df-container {\n",
              "      display:flex;\n",
              "      flex-wrap:wrap;\n",
              "      gap: 12px;\n",
              "    }\n",
              "\n",
              "    .colab-df-convert {\n",
              "      background-color: #E8F0FE;\n",
              "      border: none;\n",
              "      border-radius: 50%;\n",
              "      cursor: pointer;\n",
              "      display: none;\n",
              "      fill: #1967D2;\n",
              "      height: 32px;\n",
              "      padding: 0 0 0 0;\n",
              "      width: 32px;\n",
              "    }\n",
              "\n",
              "    .colab-df-convert:hover {\n",
              "      background-color: #E2EBFA;\n",
              "      box-shadow: 0px 1px 2px rgba(60, 64, 67, 0.3), 0px 1px 3px 1px rgba(60, 64, 67, 0.15);\n",
              "      fill: #174EA6;\n",
              "    }\n",
              "\n",
              "    [theme=dark] .colab-df-convert {\n",
              "      background-color: #3B4455;\n",
              "      fill: #D2E3FC;\n",
              "    }\n",
              "\n",
              "    [theme=dark] .colab-df-convert:hover {\n",
              "      background-color: #434B5C;\n",
              "      box-shadow: 0px 1px 3px 1px rgba(0, 0, 0, 0.15);\n",
              "      filter: drop-shadow(0px 1px 2px rgba(0, 0, 0, 0.3));\n",
              "      fill: #FFFFFF;\n",
              "    }\n",
              "  </style>\n",
              "\n",
              "      <script>\n",
              "        const buttonEl =\n",
              "          document.querySelector('#df-ad07c7d3-7791-4392-86ee-32b991ffa902 button.colab-df-convert');\n",
              "        buttonEl.style.display =\n",
              "          google.colab.kernel.accessAllowed ? 'block' : 'none';\n",
              "\n",
              "        async function convertToInteractive(key) {\n",
              "          const element = document.querySelector('#df-ad07c7d3-7791-4392-86ee-32b991ffa902');\n",
              "          const dataTable =\n",
              "            await google.colab.kernel.invokeFunction('convertToInteractive',\n",
              "                                                     [key], {});\n",
              "          if (!dataTable) return;\n",
              "\n",
              "          const docLinkHtml = 'Like what you see? Visit the ' +\n",
              "            '<a target=\"_blank\" href=https://colab.research.google.com/notebooks/data_table.ipynb>data table notebook</a>'\n",
              "            + ' to learn more about interactive tables.';\n",
              "          element.innerHTML = '';\n",
              "          dataTable['output_type'] = 'display_data';\n",
              "          await google.colab.output.renderOutput(dataTable, element);\n",
              "          const docLink = document.createElement('div');\n",
              "          docLink.innerHTML = docLinkHtml;\n",
              "          element.appendChild(docLink);\n",
              "        }\n",
              "      </script>\n",
              "    </div>\n",
              "  </div>\n"
            ]
          },
          "metadata": {},
          "execution_count": 19
        }
      ]
    },
    {
      "cell_type": "markdown",
      "source": [
        "# Processing"
      ],
      "metadata": {
        "id": "mxfQnCT0Mr9z"
      }
    },
    {
      "cell_type": "code",
      "source": [
        "# Dealing with missing data\n",
        "df[\"gender\"]=df[\"gender\"].replace({np.NaN:2, 'male':1, 'female':0})\n",
        "df[\"age_60_and_above\"]=df[\"age_60_and_above\"].replace({np.NaN:2, 'Yes':1, 'No':0})\n",
        "df.dropna(subset=['cough', 'fever', 'sore_throat', 'shortness_of_breath',\n",
        "       'head_ache', 'age_60_and_above', 'gender',\n",
        "       'test_indication'], inplace=True)\n"
      ],
      "metadata": {
        "id": "8n4dWSt53xOY"
      },
      "execution_count": null,
      "outputs": []
    },
    {
      "cell_type": "code",
      "source": [
        "# orignial : (278848, 10)\n",
        "df.info()"
      ],
      "metadata": {
        "colab": {
          "base_uri": "https://localhost:8080/"
        },
        "id": "HirIPBUG48KQ",
        "outputId": "41f248ff-e66a-4695-c9a9-39e4cf2cbcfb"
      },
      "execution_count": null,
      "outputs": [
        {
          "output_type": "stream",
          "name": "stdout",
          "text": [
            "<class 'pandas.core.frame.DataFrame'>\n",
            "Int64Index: 274702 entries, 0 to 278847\n",
            "Data columns (total 10 columns):\n",
            " #   Column               Non-Null Count   Dtype         \n",
            "---  ------               --------------   -----         \n",
            " 0   test_date            274702 non-null  datetime64[ns]\n",
            " 1   cough                274702 non-null  float64       \n",
            " 2   fever                274702 non-null  float64       \n",
            " 3   sore_throat          274702 non-null  float64       \n",
            " 4   shortness_of_breath  274702 non-null  float64       \n",
            " 5   head_ache            274702 non-null  float64       \n",
            " 6   corona_result        274702 non-null  object        \n",
            " 7   age_60_and_above     274702 non-null  int64         \n",
            " 8   gender               274702 non-null  int64         \n",
            " 9   test_indication      274702 non-null  object        \n",
            "dtypes: datetime64[ns](1), float64(5), int64(2), object(2)\n",
            "memory usage: 23.1+ MB\n"
          ]
        }
      ]
    },
    {
      "cell_type": "code",
      "source": [
        "df['corona_result'] = df['corona_result'].replace({'negative':0, 'positive':1})\n",
        "df['test_indication'] = df['test_indication'].replace({'Other':0, 'Contact with confirmed':1, 'Abroad':2})\n",
        "df"
      ],
      "metadata": {
        "colab": {
          "base_uri": "https://localhost:8080/",
          "height": 424
        },
        "id": "Bn5aoyb75Ubc",
        "outputId": "6264c27e-ca70-416d-bc62-f63e399fef48"
      },
      "execution_count": null,
      "outputs": [
        {
          "output_type": "execute_result",
          "data": {
            "text/plain": [
              "        test_date  cough  fever  sore_throat  shortness_of_breath  head_ache  \\\n",
              "0      2020-04-30    0.0    0.0          0.0                  0.0        0.0   \n",
              "1      2020-04-30    1.0    0.0          0.0                  0.0        0.0   \n",
              "2      2020-04-30    0.0    1.0          0.0                  0.0        0.0   \n",
              "3      2020-04-30    1.0    0.0          0.0                  0.0        0.0   \n",
              "4      2020-04-30    1.0    0.0          0.0                  0.0        0.0   \n",
              "...           ...    ...    ...          ...                  ...        ...   \n",
              "278842 2020-03-11    0.0    0.0          0.0                  0.0        0.0   \n",
              "278843 2020-03-11    0.0    0.0          0.0                  0.0        0.0   \n",
              "278844 2020-03-11    0.0    0.0          0.0                  0.0        0.0   \n",
              "278845 2020-03-11    0.0    0.0          0.0                  0.0        0.0   \n",
              "278847 2020-03-11    0.0    0.0          0.0                  0.0        0.0   \n",
              "\n",
              "        corona_result  age_60_and_above  gender  test_indication  \n",
              "0                   0                 2       0                0  \n",
              "1                   0                 2       0                0  \n",
              "2                   0                 2       1                0  \n",
              "3                   0                 2       0                0  \n",
              "4                   0                 2       1                0  \n",
              "...               ...               ...     ...              ...  \n",
              "278842              0                 2       2                0  \n",
              "278843              0                 2       2                0  \n",
              "278844              0                 2       2                0  \n",
              "278845              1                 2       2                1  \n",
              "278847              0                 2       2                0  \n",
              "\n",
              "[274702 rows x 10 columns]"
            ],
            "text/html": [
              "\n",
              "\n",
              "  <div id=\"df-3f21d209-5263-4113-8033-22a8e0a65b78\">\n",
              "    <div class=\"colab-df-container\">\n",
              "      <div>\n",
              "<style scoped>\n",
              "    .dataframe tbody tr th:only-of-type {\n",
              "        vertical-align: middle;\n",
              "    }\n",
              "\n",
              "    .dataframe tbody tr th {\n",
              "        vertical-align: top;\n",
              "    }\n",
              "\n",
              "    .dataframe thead th {\n",
              "        text-align: right;\n",
              "    }\n",
              "</style>\n",
              "<table border=\"1\" class=\"dataframe\">\n",
              "  <thead>\n",
              "    <tr style=\"text-align: right;\">\n",
              "      <th></th>\n",
              "      <th>test_date</th>\n",
              "      <th>cough</th>\n",
              "      <th>fever</th>\n",
              "      <th>sore_throat</th>\n",
              "      <th>shortness_of_breath</th>\n",
              "      <th>head_ache</th>\n",
              "      <th>corona_result</th>\n",
              "      <th>age_60_and_above</th>\n",
              "      <th>gender</th>\n",
              "      <th>test_indication</th>\n",
              "    </tr>\n",
              "  </thead>\n",
              "  <tbody>\n",
              "    <tr>\n",
              "      <th>0</th>\n",
              "      <td>2020-04-30</td>\n",
              "      <td>0.0</td>\n",
              "      <td>0.0</td>\n",
              "      <td>0.0</td>\n",
              "      <td>0.0</td>\n",
              "      <td>0.0</td>\n",
              "      <td>0</td>\n",
              "      <td>2</td>\n",
              "      <td>0</td>\n",
              "      <td>0</td>\n",
              "    </tr>\n",
              "    <tr>\n",
              "      <th>1</th>\n",
              "      <td>2020-04-30</td>\n",
              "      <td>1.0</td>\n",
              "      <td>0.0</td>\n",
              "      <td>0.0</td>\n",
              "      <td>0.0</td>\n",
              "      <td>0.0</td>\n",
              "      <td>0</td>\n",
              "      <td>2</td>\n",
              "      <td>0</td>\n",
              "      <td>0</td>\n",
              "    </tr>\n",
              "    <tr>\n",
              "      <th>2</th>\n",
              "      <td>2020-04-30</td>\n",
              "      <td>0.0</td>\n",
              "      <td>1.0</td>\n",
              "      <td>0.0</td>\n",
              "      <td>0.0</td>\n",
              "      <td>0.0</td>\n",
              "      <td>0</td>\n",
              "      <td>2</td>\n",
              "      <td>1</td>\n",
              "      <td>0</td>\n",
              "    </tr>\n",
              "    <tr>\n",
              "      <th>3</th>\n",
              "      <td>2020-04-30</td>\n",
              "      <td>1.0</td>\n",
              "      <td>0.0</td>\n",
              "      <td>0.0</td>\n",
              "      <td>0.0</td>\n",
              "      <td>0.0</td>\n",
              "      <td>0</td>\n",
              "      <td>2</td>\n",
              "      <td>0</td>\n",
              "      <td>0</td>\n",
              "    </tr>\n",
              "    <tr>\n",
              "      <th>4</th>\n",
              "      <td>2020-04-30</td>\n",
              "      <td>1.0</td>\n",
              "      <td>0.0</td>\n",
              "      <td>0.0</td>\n",
              "      <td>0.0</td>\n",
              "      <td>0.0</td>\n",
              "      <td>0</td>\n",
              "      <td>2</td>\n",
              "      <td>1</td>\n",
              "      <td>0</td>\n",
              "    </tr>\n",
              "    <tr>\n",
              "      <th>...</th>\n",
              "      <td>...</td>\n",
              "      <td>...</td>\n",
              "      <td>...</td>\n",
              "      <td>...</td>\n",
              "      <td>...</td>\n",
              "      <td>...</td>\n",
              "      <td>...</td>\n",
              "      <td>...</td>\n",
              "      <td>...</td>\n",
              "      <td>...</td>\n",
              "    </tr>\n",
              "    <tr>\n",
              "      <th>278842</th>\n",
              "      <td>2020-03-11</td>\n",
              "      <td>0.0</td>\n",
              "      <td>0.0</td>\n",
              "      <td>0.0</td>\n",
              "      <td>0.0</td>\n",
              "      <td>0.0</td>\n",
              "      <td>0</td>\n",
              "      <td>2</td>\n",
              "      <td>2</td>\n",
              "      <td>0</td>\n",
              "    </tr>\n",
              "    <tr>\n",
              "      <th>278843</th>\n",
              "      <td>2020-03-11</td>\n",
              "      <td>0.0</td>\n",
              "      <td>0.0</td>\n",
              "      <td>0.0</td>\n",
              "      <td>0.0</td>\n",
              "      <td>0.0</td>\n",
              "      <td>0</td>\n",
              "      <td>2</td>\n",
              "      <td>2</td>\n",
              "      <td>0</td>\n",
              "    </tr>\n",
              "    <tr>\n",
              "      <th>278844</th>\n",
              "      <td>2020-03-11</td>\n",
              "      <td>0.0</td>\n",
              "      <td>0.0</td>\n",
              "      <td>0.0</td>\n",
              "      <td>0.0</td>\n",
              "      <td>0.0</td>\n",
              "      <td>0</td>\n",
              "      <td>2</td>\n",
              "      <td>2</td>\n",
              "      <td>0</td>\n",
              "    </tr>\n",
              "    <tr>\n",
              "      <th>278845</th>\n",
              "      <td>2020-03-11</td>\n",
              "      <td>0.0</td>\n",
              "      <td>0.0</td>\n",
              "      <td>0.0</td>\n",
              "      <td>0.0</td>\n",
              "      <td>0.0</td>\n",
              "      <td>1</td>\n",
              "      <td>2</td>\n",
              "      <td>2</td>\n",
              "      <td>1</td>\n",
              "    </tr>\n",
              "    <tr>\n",
              "      <th>278847</th>\n",
              "      <td>2020-03-11</td>\n",
              "      <td>0.0</td>\n",
              "      <td>0.0</td>\n",
              "      <td>0.0</td>\n",
              "      <td>0.0</td>\n",
              "      <td>0.0</td>\n",
              "      <td>0</td>\n",
              "      <td>2</td>\n",
              "      <td>2</td>\n",
              "      <td>0</td>\n",
              "    </tr>\n",
              "  </tbody>\n",
              "</table>\n",
              "<p>274702 rows × 10 columns</p>\n",
              "</div>\n",
              "      <button class=\"colab-df-convert\" onclick=\"convertToInteractive('df-3f21d209-5263-4113-8033-22a8e0a65b78')\"\n",
              "              title=\"Convert this dataframe to an interactive table.\"\n",
              "              style=\"display:none;\">\n",
              "\n",
              "  <svg xmlns=\"http://www.w3.org/2000/svg\" height=\"24px\"viewBox=\"0 0 24 24\"\n",
              "       width=\"24px\">\n",
              "    <path d=\"M0 0h24v24H0V0z\" fill=\"none\"/>\n",
              "    <path d=\"M18.56 5.44l.94 2.06.94-2.06 2.06-.94-2.06-.94-.94-2.06-.94 2.06-2.06.94zm-11 1L8.5 8.5l.94-2.06 2.06-.94-2.06-.94L8.5 2.5l-.94 2.06-2.06.94zm10 10l.94 2.06.94-2.06 2.06-.94-2.06-.94-.94-2.06-.94 2.06-2.06.94z\"/><path d=\"M17.41 7.96l-1.37-1.37c-.4-.4-.92-.59-1.43-.59-.52 0-1.04.2-1.43.59L10.3 9.45l-7.72 7.72c-.78.78-.78 2.05 0 2.83L4 21.41c.39.39.9.59 1.41.59.51 0 1.02-.2 1.41-.59l7.78-7.78 2.81-2.81c.8-.78.8-2.07 0-2.86zM5.41 20L4 18.59l7.72-7.72 1.47 1.35L5.41 20z\"/>\n",
              "  </svg>\n",
              "      </button>\n",
              "\n",
              "\n",
              "\n",
              "    <div id=\"df-d7baa849-0b19-4bdb-bad8-9a9d032cadec\">\n",
              "      <button class=\"colab-df-quickchart\" onclick=\"quickchart('df-d7baa849-0b19-4bdb-bad8-9a9d032cadec')\"\n",
              "              title=\"Suggest charts.\"\n",
              "              style=\"display:none;\">\n",
              "\n",
              "<svg xmlns=\"http://www.w3.org/2000/svg\" height=\"24px\"viewBox=\"0 0 24 24\"\n",
              "     width=\"24px\">\n",
              "    <g>\n",
              "        <path d=\"M19 3H5c-1.1 0-2 .9-2 2v14c0 1.1.9 2 2 2h14c1.1 0 2-.9 2-2V5c0-1.1-.9-2-2-2zM9 17H7v-7h2v7zm4 0h-2V7h2v10zm4 0h-2v-4h2v4z\"/>\n",
              "    </g>\n",
              "</svg>\n",
              "      </button>\n",
              "    </div>\n",
              "\n",
              "<style>\n",
              "  .colab-df-quickchart {\n",
              "    background-color: #E8F0FE;\n",
              "    border: none;\n",
              "    border-radius: 50%;\n",
              "    cursor: pointer;\n",
              "    display: none;\n",
              "    fill: #1967D2;\n",
              "    height: 32px;\n",
              "    padding: 0 0 0 0;\n",
              "    width: 32px;\n",
              "  }\n",
              "\n",
              "  .colab-df-quickchart:hover {\n",
              "    background-color: #E2EBFA;\n",
              "    box-shadow: 0px 1px 2px rgba(60, 64, 67, 0.3), 0px 1px 3px 1px rgba(60, 64, 67, 0.15);\n",
              "    fill: #174EA6;\n",
              "  }\n",
              "\n",
              "  [theme=dark] .colab-df-quickchart {\n",
              "    background-color: #3B4455;\n",
              "    fill: #D2E3FC;\n",
              "  }\n",
              "\n",
              "  [theme=dark] .colab-df-quickchart:hover {\n",
              "    background-color: #434B5C;\n",
              "    box-shadow: 0px 1px 3px 1px rgba(0, 0, 0, 0.15);\n",
              "    filter: drop-shadow(0px 1px 2px rgba(0, 0, 0, 0.3));\n",
              "    fill: #FFFFFF;\n",
              "  }\n",
              "</style>\n",
              "\n",
              "    <script>\n",
              "      async function quickchart(key) {\n",
              "        const containerElement = document.querySelector('#' + key);\n",
              "        const charts = await google.colab.kernel.invokeFunction(\n",
              "            'suggestCharts', [key], {});\n",
              "      }\n",
              "    </script>\n",
              "\n",
              "      <script>\n",
              "\n",
              "function displayQuickchartButton(domScope) {\n",
              "  let quickchartButtonEl =\n",
              "    domScope.querySelector('#df-d7baa849-0b19-4bdb-bad8-9a9d032cadec button.colab-df-quickchart');\n",
              "  quickchartButtonEl.style.display =\n",
              "    google.colab.kernel.accessAllowed ? 'block' : 'none';\n",
              "}\n",
              "\n",
              "        displayQuickchartButton(document);\n",
              "      </script>\n",
              "      <style>\n",
              "    .colab-df-container {\n",
              "      display:flex;\n",
              "      flex-wrap:wrap;\n",
              "      gap: 12px;\n",
              "    }\n",
              "\n",
              "    .colab-df-convert {\n",
              "      background-color: #E8F0FE;\n",
              "      border: none;\n",
              "      border-radius: 50%;\n",
              "      cursor: pointer;\n",
              "      display: none;\n",
              "      fill: #1967D2;\n",
              "      height: 32px;\n",
              "      padding: 0 0 0 0;\n",
              "      width: 32px;\n",
              "    }\n",
              "\n",
              "    .colab-df-convert:hover {\n",
              "      background-color: #E2EBFA;\n",
              "      box-shadow: 0px 1px 2px rgba(60, 64, 67, 0.3), 0px 1px 3px 1px rgba(60, 64, 67, 0.15);\n",
              "      fill: #174EA6;\n",
              "    }\n",
              "\n",
              "    [theme=dark] .colab-df-convert {\n",
              "      background-color: #3B4455;\n",
              "      fill: #D2E3FC;\n",
              "    }\n",
              "\n",
              "    [theme=dark] .colab-df-convert:hover {\n",
              "      background-color: #434B5C;\n",
              "      box-shadow: 0px 1px 3px 1px rgba(0, 0, 0, 0.15);\n",
              "      filter: drop-shadow(0px 1px 2px rgba(0, 0, 0, 0.3));\n",
              "      fill: #FFFFFF;\n",
              "    }\n",
              "  </style>\n",
              "\n",
              "      <script>\n",
              "        const buttonEl =\n",
              "          document.querySelector('#df-3f21d209-5263-4113-8033-22a8e0a65b78 button.colab-df-convert');\n",
              "        buttonEl.style.display =\n",
              "          google.colab.kernel.accessAllowed ? 'block' : 'none';\n",
              "\n",
              "        async function convertToInteractive(key) {\n",
              "          const element = document.querySelector('#df-3f21d209-5263-4113-8033-22a8e0a65b78');\n",
              "          const dataTable =\n",
              "            await google.colab.kernel.invokeFunction('convertToInteractive',\n",
              "                                                     [key], {});\n",
              "          if (!dataTable) return;\n",
              "\n",
              "          const docLinkHtml = 'Like what you see? Visit the ' +\n",
              "            '<a target=\"_blank\" href=https://colab.research.google.com/notebooks/data_table.ipynb>data table notebook</a>'\n",
              "            + ' to learn more about interactive tables.';\n",
              "          element.innerHTML = '';\n",
              "          dataTable['output_type'] = 'display_data';\n",
              "          await google.colab.output.renderOutput(dataTable, element);\n",
              "          const docLink = document.createElement('div');\n",
              "          docLink.innerHTML = docLinkHtml;\n",
              "          element.appendChild(docLink);\n",
              "        }\n",
              "      </script>\n",
              "    </div>\n",
              "  </div>\n"
            ]
          },
          "metadata": {},
          "execution_count": 22
        }
      ]
    },
    {
      "cell_type": "code",
      "source": [
        "df = df.astype('int')"
      ],
      "metadata": {
        "id": "kx_kdAT-6Oog"
      },
      "execution_count": null,
      "outputs": []
    },
    {
      "cell_type": "code",
      "source": [
        "df.info()"
      ],
      "metadata": {
        "colab": {
          "base_uri": "https://localhost:8080/"
        },
        "id": "SxWDe5qc6ets",
        "outputId": "15a0818b-57eb-44e2-b7c3-153dae43075c"
      },
      "execution_count": null,
      "outputs": [
        {
          "output_type": "stream",
          "name": "stdout",
          "text": [
            "<class 'pandas.core.frame.DataFrame'>\n",
            "Int64Index: 274702 entries, 0 to 278847\n",
            "Data columns (total 10 columns):\n",
            " #   Column               Non-Null Count   Dtype\n",
            "---  ------               --------------   -----\n",
            " 0   test_date            274702 non-null  int64\n",
            " 1   cough                274702 non-null  int64\n",
            " 2   fever                274702 non-null  int64\n",
            " 3   sore_throat          274702 non-null  int64\n",
            " 4   shortness_of_breath  274702 non-null  int64\n",
            " 5   head_ache            274702 non-null  int64\n",
            " 6   corona_result        274702 non-null  int64\n",
            " 7   age_60_and_above     274702 non-null  int64\n",
            " 8   gender               274702 non-null  int64\n",
            " 9   test_indication      274702 non-null  int64\n",
            "dtypes: int64(10)\n",
            "memory usage: 23.1 MB\n"
          ]
        }
      ]
    },
    {
      "cell_type": "code",
      "source": [
        "\n",
        "df[\"test_date\"] = pd.to_datetime(df[\"test_date\"])\n",
        "df[\"test_date\"] = df[\"test_date\"].dt.dayofweek\n"
      ],
      "metadata": {
        "id": "fVP2i3jaNN8y"
      },
      "execution_count": null,
      "outputs": []
    },
    {
      "cell_type": "code",
      "source": [
        "df['test_date'].unique()"
      ],
      "metadata": {
        "colab": {
          "base_uri": "https://localhost:8080/"
        },
        "id": "61iBKKpDN0xu",
        "outputId": "5efed5ad-314d-448d-fdf3-780be00eb17d"
      },
      "execution_count": null,
      "outputs": [
        {
          "output_type": "execute_result",
          "data": {
            "text/plain": [
              "array([3, 2, 1, 0, 6, 5, 4])"
            ]
          },
          "metadata": {},
          "execution_count": 26
        }
      ]
    },
    {
      "cell_type": "code",
      "source": [
        "# Next action: data split, imbalance data, basline model"
      ],
      "metadata": {
        "id": "LUHkcJK360XZ"
      },
      "execution_count": null,
      "outputs": []
    },
    {
      "cell_type": "code",
      "source": [
        "\n",
        "X = df.drop(columns = 'corona_result', axis=1)\n",
        "y = df['corona_result']\n",
        "X_train, X_test, y_train, y_test = train_test_split(X, y, test_size=0.25, random_state=42, shuffle=True, stratify=y)"
      ],
      "metadata": {
        "id": "G8CtSTPg7HPw"
      },
      "execution_count": null,
      "outputs": []
    },
    {
      "cell_type": "code",
      "source": [
        "\n",
        "clf = LogisticRegression()\n",
        "label_issues_info = CleanLearning(clf=clf).find_label_issues(X, y)\n",
        "label_issues_info"
      ],
      "metadata": {
        "colab": {
          "base_uri": "https://localhost:8080/",
          "height": 424
        },
        "id": "s_3uWINEa9XZ",
        "outputId": "2dc47f57-5a1f-436e-d09d-223309b57e07"
      },
      "execution_count": null,
      "outputs": [
        {
          "output_type": "execute_result",
          "data": {
            "text/plain": [
              "        is_label_issue  label_quality  given_label  predicted_label\n",
              "0                False       0.982730            0                0\n",
              "1                False       0.978927            0                0\n",
              "2                False       0.936921            0                0\n",
              "3                False       0.978927            0                0\n",
              "4                False       0.977930            0                0\n",
              "...                ...            ...          ...              ...\n",
              "274697           False       0.982364            0                0\n",
              "274698           False       0.981661            0                0\n",
              "274699           False       0.981838            0                0\n",
              "274700            True       0.030004            1                0\n",
              "274701           False       0.982364            0                0\n",
              "\n",
              "[274702 rows x 4 columns]"
            ],
            "text/html": [
              "\n",
              "\n",
              "  <div id=\"df-c2a9d618-5fff-4315-a59d-8a68cb527771\">\n",
              "    <div class=\"colab-df-container\">\n",
              "      <div>\n",
              "<style scoped>\n",
              "    .dataframe tbody tr th:only-of-type {\n",
              "        vertical-align: middle;\n",
              "    }\n",
              "\n",
              "    .dataframe tbody tr th {\n",
              "        vertical-align: top;\n",
              "    }\n",
              "\n",
              "    .dataframe thead th {\n",
              "        text-align: right;\n",
              "    }\n",
              "</style>\n",
              "<table border=\"1\" class=\"dataframe\">\n",
              "  <thead>\n",
              "    <tr style=\"text-align: right;\">\n",
              "      <th></th>\n",
              "      <th>is_label_issue</th>\n",
              "      <th>label_quality</th>\n",
              "      <th>given_label</th>\n",
              "      <th>predicted_label</th>\n",
              "    </tr>\n",
              "  </thead>\n",
              "  <tbody>\n",
              "    <tr>\n",
              "      <th>0</th>\n",
              "      <td>False</td>\n",
              "      <td>0.982730</td>\n",
              "      <td>0</td>\n",
              "      <td>0</td>\n",
              "    </tr>\n",
              "    <tr>\n",
              "      <th>1</th>\n",
              "      <td>False</td>\n",
              "      <td>0.978927</td>\n",
              "      <td>0</td>\n",
              "      <td>0</td>\n",
              "    </tr>\n",
              "    <tr>\n",
              "      <th>2</th>\n",
              "      <td>False</td>\n",
              "      <td>0.936921</td>\n",
              "      <td>0</td>\n",
              "      <td>0</td>\n",
              "    </tr>\n",
              "    <tr>\n",
              "      <th>3</th>\n",
              "      <td>False</td>\n",
              "      <td>0.978927</td>\n",
              "      <td>0</td>\n",
              "      <td>0</td>\n",
              "    </tr>\n",
              "    <tr>\n",
              "      <th>4</th>\n",
              "      <td>False</td>\n",
              "      <td>0.977930</td>\n",
              "      <td>0</td>\n",
              "      <td>0</td>\n",
              "    </tr>\n",
              "    <tr>\n",
              "      <th>...</th>\n",
              "      <td>...</td>\n",
              "      <td>...</td>\n",
              "      <td>...</td>\n",
              "      <td>...</td>\n",
              "    </tr>\n",
              "    <tr>\n",
              "      <th>274697</th>\n",
              "      <td>False</td>\n",
              "      <td>0.982364</td>\n",
              "      <td>0</td>\n",
              "      <td>0</td>\n",
              "    </tr>\n",
              "    <tr>\n",
              "      <th>274698</th>\n",
              "      <td>False</td>\n",
              "      <td>0.981661</td>\n",
              "      <td>0</td>\n",
              "      <td>0</td>\n",
              "    </tr>\n",
              "    <tr>\n",
              "      <th>274699</th>\n",
              "      <td>False</td>\n",
              "      <td>0.981838</td>\n",
              "      <td>0</td>\n",
              "      <td>0</td>\n",
              "    </tr>\n",
              "    <tr>\n",
              "      <th>274700</th>\n",
              "      <td>True</td>\n",
              "      <td>0.030004</td>\n",
              "      <td>1</td>\n",
              "      <td>0</td>\n",
              "    </tr>\n",
              "    <tr>\n",
              "      <th>274701</th>\n",
              "      <td>False</td>\n",
              "      <td>0.982364</td>\n",
              "      <td>0</td>\n",
              "      <td>0</td>\n",
              "    </tr>\n",
              "  </tbody>\n",
              "</table>\n",
              "<p>274702 rows × 4 columns</p>\n",
              "</div>\n",
              "      <button class=\"colab-df-convert\" onclick=\"convertToInteractive('df-c2a9d618-5fff-4315-a59d-8a68cb527771')\"\n",
              "              title=\"Convert this dataframe to an interactive table.\"\n",
              "              style=\"display:none;\">\n",
              "\n",
              "  <svg xmlns=\"http://www.w3.org/2000/svg\" height=\"24px\"viewBox=\"0 0 24 24\"\n",
              "       width=\"24px\">\n",
              "    <path d=\"M0 0h24v24H0V0z\" fill=\"none\"/>\n",
              "    <path d=\"M18.56 5.44l.94 2.06.94-2.06 2.06-.94-2.06-.94-.94-2.06-.94 2.06-2.06.94zm-11 1L8.5 8.5l.94-2.06 2.06-.94-2.06-.94L8.5 2.5l-.94 2.06-2.06.94zm10 10l.94 2.06.94-2.06 2.06-.94-2.06-.94-.94-2.06-.94 2.06-2.06.94z\"/><path d=\"M17.41 7.96l-1.37-1.37c-.4-.4-.92-.59-1.43-.59-.52 0-1.04.2-1.43.59L10.3 9.45l-7.72 7.72c-.78.78-.78 2.05 0 2.83L4 21.41c.39.39.9.59 1.41.59.51 0 1.02-.2 1.41-.59l7.78-7.78 2.81-2.81c.8-.78.8-2.07 0-2.86zM5.41 20L4 18.59l7.72-7.72 1.47 1.35L5.41 20z\"/>\n",
              "  </svg>\n",
              "      </button>\n",
              "\n",
              "\n",
              "\n",
              "    <div id=\"df-feeaead6-c299-4456-80c8-9b09f2e1d2cb\">\n",
              "      <button class=\"colab-df-quickchart\" onclick=\"quickchart('df-feeaead6-c299-4456-80c8-9b09f2e1d2cb')\"\n",
              "              title=\"Suggest charts.\"\n",
              "              style=\"display:none;\">\n",
              "\n",
              "<svg xmlns=\"http://www.w3.org/2000/svg\" height=\"24px\"viewBox=\"0 0 24 24\"\n",
              "     width=\"24px\">\n",
              "    <g>\n",
              "        <path d=\"M19 3H5c-1.1 0-2 .9-2 2v14c0 1.1.9 2 2 2h14c1.1 0 2-.9 2-2V5c0-1.1-.9-2-2-2zM9 17H7v-7h2v7zm4 0h-2V7h2v10zm4 0h-2v-4h2v4z\"/>\n",
              "    </g>\n",
              "</svg>\n",
              "      </button>\n",
              "    </div>\n",
              "\n",
              "<style>\n",
              "  .colab-df-quickchart {\n",
              "    background-color: #E8F0FE;\n",
              "    border: none;\n",
              "    border-radius: 50%;\n",
              "    cursor: pointer;\n",
              "    display: none;\n",
              "    fill: #1967D2;\n",
              "    height: 32px;\n",
              "    padding: 0 0 0 0;\n",
              "    width: 32px;\n",
              "  }\n",
              "\n",
              "  .colab-df-quickchart:hover {\n",
              "    background-color: #E2EBFA;\n",
              "    box-shadow: 0px 1px 2px rgba(60, 64, 67, 0.3), 0px 1px 3px 1px rgba(60, 64, 67, 0.15);\n",
              "    fill: #174EA6;\n",
              "  }\n",
              "\n",
              "  [theme=dark] .colab-df-quickchart {\n",
              "    background-color: #3B4455;\n",
              "    fill: #D2E3FC;\n",
              "  }\n",
              "\n",
              "  [theme=dark] .colab-df-quickchart:hover {\n",
              "    background-color: #434B5C;\n",
              "    box-shadow: 0px 1px 3px 1px rgba(0, 0, 0, 0.15);\n",
              "    filter: drop-shadow(0px 1px 2px rgba(0, 0, 0, 0.3));\n",
              "    fill: #FFFFFF;\n",
              "  }\n",
              "</style>\n",
              "\n",
              "    <script>\n",
              "      async function quickchart(key) {\n",
              "        const containerElement = document.querySelector('#' + key);\n",
              "        const charts = await google.colab.kernel.invokeFunction(\n",
              "            'suggestCharts', [key], {});\n",
              "      }\n",
              "    </script>\n",
              "\n",
              "      <script>\n",
              "\n",
              "function displayQuickchartButton(domScope) {\n",
              "  let quickchartButtonEl =\n",
              "    domScope.querySelector('#df-feeaead6-c299-4456-80c8-9b09f2e1d2cb button.colab-df-quickchart');\n",
              "  quickchartButtonEl.style.display =\n",
              "    google.colab.kernel.accessAllowed ? 'block' : 'none';\n",
              "}\n",
              "\n",
              "        displayQuickchartButton(document);\n",
              "      </script>\n",
              "      <style>\n",
              "    .colab-df-container {\n",
              "      display:flex;\n",
              "      flex-wrap:wrap;\n",
              "      gap: 12px;\n",
              "    }\n",
              "\n",
              "    .colab-df-convert {\n",
              "      background-color: #E8F0FE;\n",
              "      border: none;\n",
              "      border-radius: 50%;\n",
              "      cursor: pointer;\n",
              "      display: none;\n",
              "      fill: #1967D2;\n",
              "      height: 32px;\n",
              "      padding: 0 0 0 0;\n",
              "      width: 32px;\n",
              "    }\n",
              "\n",
              "    .colab-df-convert:hover {\n",
              "      background-color: #E2EBFA;\n",
              "      box-shadow: 0px 1px 2px rgba(60, 64, 67, 0.3), 0px 1px 3px 1px rgba(60, 64, 67, 0.15);\n",
              "      fill: #174EA6;\n",
              "    }\n",
              "\n",
              "    [theme=dark] .colab-df-convert {\n",
              "      background-color: #3B4455;\n",
              "      fill: #D2E3FC;\n",
              "    }\n",
              "\n",
              "    [theme=dark] .colab-df-convert:hover {\n",
              "      background-color: #434B5C;\n",
              "      box-shadow: 0px 1px 3px 1px rgba(0, 0, 0, 0.15);\n",
              "      filter: drop-shadow(0px 1px 2px rgba(0, 0, 0, 0.3));\n",
              "      fill: #FFFFFF;\n",
              "    }\n",
              "  </style>\n",
              "\n",
              "      <script>\n",
              "        const buttonEl =\n",
              "          document.querySelector('#df-c2a9d618-5fff-4315-a59d-8a68cb527771 button.colab-df-convert');\n",
              "        buttonEl.style.display =\n",
              "          google.colab.kernel.accessAllowed ? 'block' : 'none';\n",
              "\n",
              "        async function convertToInteractive(key) {\n",
              "          const element = document.querySelector('#df-c2a9d618-5fff-4315-a59d-8a68cb527771');\n",
              "          const dataTable =\n",
              "            await google.colab.kernel.invokeFunction('convertToInteractive',\n",
              "                                                     [key], {});\n",
              "          if (!dataTable) return;\n",
              "\n",
              "          const docLinkHtml = 'Like what you see? Visit the ' +\n",
              "            '<a target=\"_blank\" href=https://colab.research.google.com/notebooks/data_table.ipynb>data table notebook</a>'\n",
              "            + ' to learn more about interactive tables.';\n",
              "          element.innerHTML = '';\n",
              "          dataTable['output_type'] = 'display_data';\n",
              "          await google.colab.output.renderOutput(dataTable, element);\n",
              "          const docLink = document.createElement('div');\n",
              "          docLink.innerHTML = docLinkHtml;\n",
              "          element.appendChild(docLink);\n",
              "        }\n",
              "      </script>\n",
              "    </div>\n",
              "  </div>\n"
            ]
          },
          "metadata": {},
          "execution_count": 29
        }
      ]
    },
    {
      "cell_type": "code",
      "source": [
        "label_issues_info[label_issues_info['is_label_issue']==False]"
      ],
      "metadata": {
        "colab": {
          "base_uri": "https://localhost:8080/",
          "height": 424
        },
        "id": "adsGlFgSb4-m",
        "outputId": "8ef9dea8-0031-45f3-ca34-b29678e1271d"
      },
      "execution_count": null,
      "outputs": [
        {
          "output_type": "execute_result",
          "data": {
            "text/plain": [
              "        is_label_issue  label_quality  given_label  predicted_label\n",
              "0                False       0.982730            0                0\n",
              "1                False       0.978927            0                0\n",
              "2                False       0.936921            0                0\n",
              "3                False       0.978927            0                0\n",
              "4                False       0.977930            0                0\n",
              "...                ...            ...          ...              ...\n",
              "274696           False       0.981661            0                0\n",
              "274697           False       0.982364            0                0\n",
              "274698           False       0.981661            0                0\n",
              "274699           False       0.981838            0                0\n",
              "274701           False       0.982364            0                0\n",
              "\n",
              "[266928 rows x 4 columns]"
            ],
            "text/html": [
              "\n",
              "\n",
              "  <div id=\"df-44493687-7c81-4810-874d-3c41e7203f2f\">\n",
              "    <div class=\"colab-df-container\">\n",
              "      <div>\n",
              "<style scoped>\n",
              "    .dataframe tbody tr th:only-of-type {\n",
              "        vertical-align: middle;\n",
              "    }\n",
              "\n",
              "    .dataframe tbody tr th {\n",
              "        vertical-align: top;\n",
              "    }\n",
              "\n",
              "    .dataframe thead th {\n",
              "        text-align: right;\n",
              "    }\n",
              "</style>\n",
              "<table border=\"1\" class=\"dataframe\">\n",
              "  <thead>\n",
              "    <tr style=\"text-align: right;\">\n",
              "      <th></th>\n",
              "      <th>is_label_issue</th>\n",
              "      <th>label_quality</th>\n",
              "      <th>given_label</th>\n",
              "      <th>predicted_label</th>\n",
              "    </tr>\n",
              "  </thead>\n",
              "  <tbody>\n",
              "    <tr>\n",
              "      <th>0</th>\n",
              "      <td>False</td>\n",
              "      <td>0.982730</td>\n",
              "      <td>0</td>\n",
              "      <td>0</td>\n",
              "    </tr>\n",
              "    <tr>\n",
              "      <th>1</th>\n",
              "      <td>False</td>\n",
              "      <td>0.978927</td>\n",
              "      <td>0</td>\n",
              "      <td>0</td>\n",
              "    </tr>\n",
              "    <tr>\n",
              "      <th>2</th>\n",
              "      <td>False</td>\n",
              "      <td>0.936921</td>\n",
              "      <td>0</td>\n",
              "      <td>0</td>\n",
              "    </tr>\n",
              "    <tr>\n",
              "      <th>3</th>\n",
              "      <td>False</td>\n",
              "      <td>0.978927</td>\n",
              "      <td>0</td>\n",
              "      <td>0</td>\n",
              "    </tr>\n",
              "    <tr>\n",
              "      <th>4</th>\n",
              "      <td>False</td>\n",
              "      <td>0.977930</td>\n",
              "      <td>0</td>\n",
              "      <td>0</td>\n",
              "    </tr>\n",
              "    <tr>\n",
              "      <th>...</th>\n",
              "      <td>...</td>\n",
              "      <td>...</td>\n",
              "      <td>...</td>\n",
              "      <td>...</td>\n",
              "    </tr>\n",
              "    <tr>\n",
              "      <th>274696</th>\n",
              "      <td>False</td>\n",
              "      <td>0.981661</td>\n",
              "      <td>0</td>\n",
              "      <td>0</td>\n",
              "    </tr>\n",
              "    <tr>\n",
              "      <th>274697</th>\n",
              "      <td>False</td>\n",
              "      <td>0.982364</td>\n",
              "      <td>0</td>\n",
              "      <td>0</td>\n",
              "    </tr>\n",
              "    <tr>\n",
              "      <th>274698</th>\n",
              "      <td>False</td>\n",
              "      <td>0.981661</td>\n",
              "      <td>0</td>\n",
              "      <td>0</td>\n",
              "    </tr>\n",
              "    <tr>\n",
              "      <th>274699</th>\n",
              "      <td>False</td>\n",
              "      <td>0.981838</td>\n",
              "      <td>0</td>\n",
              "      <td>0</td>\n",
              "    </tr>\n",
              "    <tr>\n",
              "      <th>274701</th>\n",
              "      <td>False</td>\n",
              "      <td>0.982364</td>\n",
              "      <td>0</td>\n",
              "      <td>0</td>\n",
              "    </tr>\n",
              "  </tbody>\n",
              "</table>\n",
              "<p>266928 rows × 4 columns</p>\n",
              "</div>\n",
              "      <button class=\"colab-df-convert\" onclick=\"convertToInteractive('df-44493687-7c81-4810-874d-3c41e7203f2f')\"\n",
              "              title=\"Convert this dataframe to an interactive table.\"\n",
              "              style=\"display:none;\">\n",
              "\n",
              "  <svg xmlns=\"http://www.w3.org/2000/svg\" height=\"24px\"viewBox=\"0 0 24 24\"\n",
              "       width=\"24px\">\n",
              "    <path d=\"M0 0h24v24H0V0z\" fill=\"none\"/>\n",
              "    <path d=\"M18.56 5.44l.94 2.06.94-2.06 2.06-.94-2.06-.94-.94-2.06-.94 2.06-2.06.94zm-11 1L8.5 8.5l.94-2.06 2.06-.94-2.06-.94L8.5 2.5l-.94 2.06-2.06.94zm10 10l.94 2.06.94-2.06 2.06-.94-2.06-.94-.94-2.06-.94 2.06-2.06.94z\"/><path d=\"M17.41 7.96l-1.37-1.37c-.4-.4-.92-.59-1.43-.59-.52 0-1.04.2-1.43.59L10.3 9.45l-7.72 7.72c-.78.78-.78 2.05 0 2.83L4 21.41c.39.39.9.59 1.41.59.51 0 1.02-.2 1.41-.59l7.78-7.78 2.81-2.81c.8-.78.8-2.07 0-2.86zM5.41 20L4 18.59l7.72-7.72 1.47 1.35L5.41 20z\"/>\n",
              "  </svg>\n",
              "      </button>\n",
              "\n",
              "\n",
              "\n",
              "    <div id=\"df-5c8255f0-b645-4149-ac24-b618ff0b076f\">\n",
              "      <button class=\"colab-df-quickchart\" onclick=\"quickchart('df-5c8255f0-b645-4149-ac24-b618ff0b076f')\"\n",
              "              title=\"Suggest charts.\"\n",
              "              style=\"display:none;\">\n",
              "\n",
              "<svg xmlns=\"http://www.w3.org/2000/svg\" height=\"24px\"viewBox=\"0 0 24 24\"\n",
              "     width=\"24px\">\n",
              "    <g>\n",
              "        <path d=\"M19 3H5c-1.1 0-2 .9-2 2v14c0 1.1.9 2 2 2h14c1.1 0 2-.9 2-2V5c0-1.1-.9-2-2-2zM9 17H7v-7h2v7zm4 0h-2V7h2v10zm4 0h-2v-4h2v4z\"/>\n",
              "    </g>\n",
              "</svg>\n",
              "      </button>\n",
              "    </div>\n",
              "\n",
              "<style>\n",
              "  .colab-df-quickchart {\n",
              "    background-color: #E8F0FE;\n",
              "    border: none;\n",
              "    border-radius: 50%;\n",
              "    cursor: pointer;\n",
              "    display: none;\n",
              "    fill: #1967D2;\n",
              "    height: 32px;\n",
              "    padding: 0 0 0 0;\n",
              "    width: 32px;\n",
              "  }\n",
              "\n",
              "  .colab-df-quickchart:hover {\n",
              "    background-color: #E2EBFA;\n",
              "    box-shadow: 0px 1px 2px rgba(60, 64, 67, 0.3), 0px 1px 3px 1px rgba(60, 64, 67, 0.15);\n",
              "    fill: #174EA6;\n",
              "  }\n",
              "\n",
              "  [theme=dark] .colab-df-quickchart {\n",
              "    background-color: #3B4455;\n",
              "    fill: #D2E3FC;\n",
              "  }\n",
              "\n",
              "  [theme=dark] .colab-df-quickchart:hover {\n",
              "    background-color: #434B5C;\n",
              "    box-shadow: 0px 1px 3px 1px rgba(0, 0, 0, 0.15);\n",
              "    filter: drop-shadow(0px 1px 2px rgba(0, 0, 0, 0.3));\n",
              "    fill: #FFFFFF;\n",
              "  }\n",
              "</style>\n",
              "\n",
              "    <script>\n",
              "      async function quickchart(key) {\n",
              "        const containerElement = document.querySelector('#' + key);\n",
              "        const charts = await google.colab.kernel.invokeFunction(\n",
              "            'suggestCharts', [key], {});\n",
              "      }\n",
              "    </script>\n",
              "\n",
              "      <script>\n",
              "\n",
              "function displayQuickchartButton(domScope) {\n",
              "  let quickchartButtonEl =\n",
              "    domScope.querySelector('#df-5c8255f0-b645-4149-ac24-b618ff0b076f button.colab-df-quickchart');\n",
              "  quickchartButtonEl.style.display =\n",
              "    google.colab.kernel.accessAllowed ? 'block' : 'none';\n",
              "}\n",
              "\n",
              "        displayQuickchartButton(document);\n",
              "      </script>\n",
              "      <style>\n",
              "    .colab-df-container {\n",
              "      display:flex;\n",
              "      flex-wrap:wrap;\n",
              "      gap: 12px;\n",
              "    }\n",
              "\n",
              "    .colab-df-convert {\n",
              "      background-color: #E8F0FE;\n",
              "      border: none;\n",
              "      border-radius: 50%;\n",
              "      cursor: pointer;\n",
              "      display: none;\n",
              "      fill: #1967D2;\n",
              "      height: 32px;\n",
              "      padding: 0 0 0 0;\n",
              "      width: 32px;\n",
              "    }\n",
              "\n",
              "    .colab-df-convert:hover {\n",
              "      background-color: #E2EBFA;\n",
              "      box-shadow: 0px 1px 2px rgba(60, 64, 67, 0.3), 0px 1px 3px 1px rgba(60, 64, 67, 0.15);\n",
              "      fill: #174EA6;\n",
              "    }\n",
              "\n",
              "    [theme=dark] .colab-df-convert {\n",
              "      background-color: #3B4455;\n",
              "      fill: #D2E3FC;\n",
              "    }\n",
              "\n",
              "    [theme=dark] .colab-df-convert:hover {\n",
              "      background-color: #434B5C;\n",
              "      box-shadow: 0px 1px 3px 1px rgba(0, 0, 0, 0.15);\n",
              "      filter: drop-shadow(0px 1px 2px rgba(0, 0, 0, 0.3));\n",
              "      fill: #FFFFFF;\n",
              "    }\n",
              "  </style>\n",
              "\n",
              "      <script>\n",
              "        const buttonEl =\n",
              "          document.querySelector('#df-44493687-7c81-4810-874d-3c41e7203f2f button.colab-df-convert');\n",
              "        buttonEl.style.display =\n",
              "          google.colab.kernel.accessAllowed ? 'block' : 'none';\n",
              "\n",
              "        async function convertToInteractive(key) {\n",
              "          const element = document.querySelector('#df-44493687-7c81-4810-874d-3c41e7203f2f');\n",
              "          const dataTable =\n",
              "            await google.colab.kernel.invokeFunction('convertToInteractive',\n",
              "                                                     [key], {});\n",
              "          if (!dataTable) return;\n",
              "\n",
              "          const docLinkHtml = 'Like what you see? Visit the ' +\n",
              "            '<a target=\"_blank\" href=https://colab.research.google.com/notebooks/data_table.ipynb>data table notebook</a>'\n",
              "            + ' to learn more about interactive tables.';\n",
              "          element.innerHTML = '';\n",
              "          dataTable['output_type'] = 'display_data';\n",
              "          await google.colab.output.renderOutput(dataTable, element);\n",
              "          const docLink = document.createElement('div');\n",
              "          docLink.innerHTML = docLinkHtml;\n",
              "          element.appendChild(docLink);\n",
              "        }\n",
              "      </script>\n",
              "    </div>\n",
              "  </div>\n"
            ]
          },
          "metadata": {},
          "execution_count": 30
        }
      ]
    },
    {
      "cell_type": "markdown",
      "source": [
        "# Base  Model"
      ],
      "metadata": {
        "id": "YDKT4rI1LpfD"
      }
    },
    {
      "cell_type": "code",
      "source": [
        "\n",
        "\n",
        "\n",
        "# Split the data into training and testing sets\n",
        "X_train, X_test, y_train, y_test = train_test_split(X, y, test_size=0.2, random_state=42)\n",
        "\n",
        "# Create the dummy classifier using the 'most_frequent' strategy\n",
        "dummy_clf = DummyClassifier(strategy='stratified')\n",
        "\n",
        "# Train the dummy classifier on the training data\n",
        "dummy_clf.fit(X_train, y_train)\n",
        "\n",
        "# Make predictions on the test data\n",
        "y_pred = dummy_clf.predict(X_test)\n"
      ],
      "metadata": {
        "id": "Z1pUhLbbhmIv"
      },
      "execution_count": null,
      "outputs": []
    },
    {
      "cell_type": "markdown",
      "source": [
        "## Evaluation"
      ],
      "metadata": {
        "id": "bE-7sdwaNg6Y"
      }
    },
    {
      "cell_type": "code",
      "source": [
        "y_probs = dummy_clf.predict_proba(X_test)[:, 1].flatten()\n",
        "# Convert probabilities to class labels\n",
        "y_pred = (y_probs > 0.22).astype(int)\n",
        "print(classification_report(y_test, y_pred))"
      ],
      "metadata": {
        "id": "1MleuyO8MNZQ"
      },
      "execution_count": null,
      "outputs": []
    },
    {
      "cell_type": "code",
      "source": [
        "\n",
        "# Predict probabilities for the test data.\n",
        "y_probs = dummy_clf.predict_proba(X_test)[:, 1]\n",
        "\n",
        "# Calculate the ROC curve points\n",
        "fpr, tpr, thresholds = roc_curve(y_test, y_probs)\n",
        "\n",
        "# Plot the ROC curve\n",
        "plt.figure(figsize=(8, 6))\n",
        "plt.plot(fpr, tpr)\n",
        "plt.plot([0, 1], [0, 1], linestyle='--')\n",
        "plt.title('ROC curve')\n",
        "plt.xlabel('False Positive Rate')\n",
        "plt.ylabel('True Positive Rate')\n",
        "\n",
        "# Print the AUC-ROC score\n",
        "print('AUC-ROC:', roc_auc_score(y_test, y_probs))"
      ],
      "metadata": {
        "colab": {
          "base_uri": "https://localhost:8080/",
          "height": 582
        },
        "id": "fp2Uzpn8nIqG",
        "outputId": "2bb46f1d-f20d-463c-82ea-e2a57baca87a"
      },
      "execution_count": null,
      "outputs": [
        {
          "output_type": "stream",
          "name": "stdout",
          "text": [
            "AUC-ROC: 0.498454860855194\n"
          ]
        },
        {
          "output_type": "display_data",
          "data": {
            "text/plain": [
              "<Figure size 800x600 with 1 Axes>"
            ],
            "image/png": "[encoded data removed]"
          },
          "metadata": {}
        }
      ]
    },
    {
      "cell_type": "code",
      "source": [
        "# Calculate the precision-recall curve\n",
        "precision, recall, thresholds = precision_recall_curve(y_test, y_probs)\n",
        "\n",
        "# Plot the precision-recall curve\n",
        "plt.figure(figsize=(8, 6))\n",
        "plt.plot(recall, precision)\n",
        "plt.title('Precision-Recall curve')\n",
        "plt.xlabel('Recall')\n",
        "plt.ylabel('Precision')\n",
        "\n",
        "# Print the average precision score\n",
        "print('Average precision score:', average_precision_score(y_test, y_probs))"
      ],
      "metadata": {
        "colab": {
          "base_uri": "https://localhost:8080/",
          "height": 582
        },
        "id": "btFO4R38nwom",
        "outputId": "a8efd8ec-790e-4365-ee16-4896a048ea70"
      },
      "execution_count": null,
      "outputs": [
        {
          "output_type": "stream",
          "name": "stdout",
          "text": [
            "Average precision score: 0.05222028170226325\n"
          ]
        },
        {
          "output_type": "display_data",
          "data": {
            "text/plain": [
              "<Figure size 800x600 with 1 Axes>"
            ],
            "image/png": "[encoded data removed]"
          },
          "metadata": {}
        }
      ]
    },
    {
      "cell_type": "code",
      "source": [
        "# Calculate the confusion matrix\n",
        "cf_matrix = confusion_matrix(y_test, y_pred, normalize='true')\n",
        "group_names = ['TN','FP','FN','TP']\n",
        "group_percentages = ['{0:.2%}'.format(value) for value in cf_matrix.flatten()/np.sum(cf_matrix)]\n",
        "labels = [f'{v1}\\n{v2}' for v1, v2, in zip(group_names,group_percentages)]\n",
        "labels = np.asarray(labels).reshape(2,2)\n",
        "sns.heatmap(cf_matrix, annot=labels, fmt='', cmap='Blues', xticklabels=['Negative', 'Positive'], yticklabels=['Negative', 'Positive'])\n"
      ],
      "metadata": {
        "colab": {
          "base_uri": "https://localhost:8080/",
          "height": 448
        },
        "id": "xtpt33ChorFW",
        "outputId": "26dbec18-f107-4b5c-f57f-ef30464aae77"
      },
      "execution_count": null,
      "outputs": [
        {
          "output_type": "execute_result",
          "data": {
            "text/plain": [
              "<Axes: >"
            ]
          },
          "metadata": {},
          "execution_count": 34
        },
        {
          "output_type": "display_data",
          "data": {
            "text/plain": [
              "<Figure size 640x480 with 2 Axes>"
            ],
            "image/png": "[encoded data removed]"
          },
          "metadata": {}
        }
      ]
    },
    {
      "cell_type": "code",
      "source": [],
      "metadata": {
        "id": "WpsaQH5wfuaR"
      },
      "execution_count": null,
      "outputs": []
    },
    {
      "cell_type": "markdown",
      "source": [
        "# CatBoost Modelling"
      ],
      "metadata": {
        "id": "iPPSRtuRLlLP"
      }
    },
    {
      "cell_type": "code",
      "execution_count": null,
      "metadata": {
        "id": "FwDqKN3ma_Zm"
      },
      "outputs": [],
      "source": [
        "# List of categorical columns\n",
        "cat_cols = ['test_date', 'cough', 'fever', 'sore_throat', 'shortness_of_breath', 'head_ache', 'age_60_and_above', 'gender', 'test_indication']\n",
        "\n",
        "# List of numeric columns\n",
        "num_cols = []\n",
        "\n",
        "cat_features = [int(X_train.columns.get_loc(col)) for col in cat_cols]"
      ]
    },
    {
      "cell_type": "code",
      "execution_count": null,
      "metadata": {
        "id": "I3DvBKcea_Zn"
      },
      "outputs": [],
      "source": [
        "\n",
        "# Custom converter function\n",
        "def convert_to_string(value):\n",
        "    try:\n",
        "        value = float(value)\n",
        "        if np.isnan(value):\n",
        "            return 'NaN'\n",
        "        return str(int(value)) if value.is_integer() else str(value)\n",
        "    except ValueError:\n",
        "        return str(value)\n",
        "\n",
        "# Preprocessing pipeline\n",
        "preprocess = ColumnTransformer([\n",
        "                                ('imputer_cat', SimpleImputer(add_indicator=True, strategy='most_frequent'), cat_cols),\n",
        "                                ('converter', FunctionTransformer(func=lambda x: x.applymap(convert_to_string)), cat_cols ),\n",
        "                                ('imputer_num', SimpleImputer(add_indicator=True,strategy='mean'), num_cols),\n",
        "\n",
        "                                ], remainder='passthrough')\n",
        "\n",
        "\n"
      ]
    },
    {
      "cell_type": "code",
      "source": [
        "# CatBoost model with cost-sensitive learning\n",
        "catboost_model = CatBoostClassifier(\n",
        "    cat_features=cat_features,\n",
        "    loss_function='Logloss',\n",
        "    auto_class_weights='Balanced',\n",
        "    verbose=1\n",
        ")\n",
        "\n",
        "# Create the pipeline\n",
        "model = Pipeline([\n",
        "              ('preprocess', preprocess),\n",
        "              ('catboost', catboost_model)\n",
        "                ])"
      ],
      "metadata": {
        "id": "tjzbnkl6wurC"
      },
      "execution_count": null,
      "outputs": []
    },
    {
      "cell_type": "code",
      "source": [
        "\n",
        "param_grid = {\n",
        "    'catboost__iterations': [100],\n",
        "    'catboost__grow_policy': ['SymmetricTree'],\n",
        "    'catboost__learning_rate': [0.5],\n",
        "    'catboost__depth': [8],\n",
        "    'catboost__l2_leaf_reg': [2],\n",
        "}\n",
        "\n",
        "# Perform randomized grid search\n",
        "search = GridSearchCV(model, param_grid, scoring='roc_auc', verbose=1, n_jobs=-1, cv=3)\n",
        "search.fit(X_train, y_train)\n",
        "\n",
        "# Get the best model and its performance\n",
        "print(f' Best model: { search.best_estimator_}')\n",
        "print(f'Best_score:  {search.best_score_}')\n",
        "print(f'Best_params: {search.best_params_}')\n",
        "best_model = search.best_estimator_\n"
      ],
      "metadata": {
        "id": "JPB1uwxMIQmr",
        "colab": {
          "base_uri": "https://localhost:8080/"
        },
        "outputId": "561dfc23-2fe1-4933-9371-38ab8865b154"
      },
      "execution_count": null,
      "outputs": [
        {
          "output_type": "stream",
          "name": "stdout",
          "text": [
            "Fitting 3 folds for each of 1 candidates, totalling 3 fits\n",
            "0:\tlearn: 0.4800115\ttotal: 189ms\tremaining: 18.7s\n",
            "1:\tlearn: 0.4073132\ttotal: 293ms\tremaining: 14.3s\n",
            "2:\tlearn: 0.3761422\ttotal: 401ms\tremaining: 13s\n",
            "3:\tlearn: 0.3593503\ttotal: 527ms\tremaining: 12.6s\n",
            "4:\tlearn: 0.3514965\ttotal: 651ms\tremaining: 12.4s\n",
            "5:\tlearn: 0.3474942\ttotal: 757ms\tremaining: 11.9s\n",
            "6:\tlearn: 0.3458138\ttotal: 838ms\tremaining: 11.1s\n",
            "7:\tlearn: 0.3443346\ttotal: 937ms\tremaining: 10.8s\n",
            "8:\tlearn: 0.3441004\ttotal: 990ms\tremaining: 10s\n",
            "9:\tlearn: 0.3438349\ttotal: 1.04s\tremaining: 9.37s\n",
            "10:\tlearn: 0.3436970\ttotal: 1.11s\tremaining: 8.99s\n",
            "11:\tlearn: 0.3415374\ttotal: 1.22s\tremaining: 8.98s\n",
            "12:\tlearn: 0.3408362\ttotal: 1.34s\tremaining: 8.96s\n",
            "13:\tlearn: 0.3407946\ttotal: 1.39s\tremaining: 8.56s\n",
            "14:\tlearn: 0.3405665\ttotal: 1.5s\tremaining: 8.47s\n",
            "15:\tlearn: 0.3405578\ttotal: 1.55s\tremaining: 8.12s\n",
            "16:\tlearn: 0.3400310\ttotal: 1.67s\tremaining: 8.16s\n",
            "17:\tlearn: 0.3400176\ttotal: 1.72s\tremaining: 7.84s\n",
            "18:\tlearn: 0.3390911\ttotal: 1.82s\tremaining: 7.77s\n",
            "19:\tlearn: 0.3390779\ttotal: 1.88s\tremaining: 7.54s\n",
            "20:\tlearn: 0.3390736\ttotal: 1.95s\tremaining: 7.34s\n",
            "21:\tlearn: 0.3390621\ttotal: 2.01s\tremaining: 7.12s\n",
            "22:\tlearn: 0.3389473\ttotal: 2.1s\tremaining: 7.02s\n",
            "23:\tlearn: 0.3389454\ttotal: 2.14s\tremaining: 6.77s\n",
            "24:\tlearn: 0.3389443\ttotal: 2.19s\tremaining: 6.57s\n",
            "25:\tlearn: 0.3389146\ttotal: 2.25s\tremaining: 6.42s\n",
            "26:\tlearn: 0.3384914\ttotal: 2.36s\tremaining: 6.37s\n",
            "27:\tlearn: 0.3384912\ttotal: 2.41s\tremaining: 6.19s\n",
            "28:\tlearn: 0.3381312\ttotal: 2.51s\tremaining: 6.15s\n",
            "29:\tlearn: 0.3378130\ttotal: 2.63s\tremaining: 6.13s\n",
            "30:\tlearn: 0.3377861\ttotal: 2.73s\tremaining: 6.07s\n",
            "31:\tlearn: 0.3377209\ttotal: 2.82s\tremaining: 6s\n",
            "32:\tlearn: 0.3375875\ttotal: 2.93s\tremaining: 5.95s\n",
            "33:\tlearn: 0.3375261\ttotal: 3.03s\tremaining: 5.88s\n",
            "34:\tlearn: 0.3373549\ttotal: 3.14s\tremaining: 5.83s\n",
            "35:\tlearn: 0.3371601\ttotal: 3.24s\tremaining: 5.76s\n",
            "36:\tlearn: 0.3367737\ttotal: 3.35s\tremaining: 5.71s\n",
            "37:\tlearn: 0.3367092\ttotal: 3.45s\tremaining: 5.64s\n",
            "38:\tlearn: 0.3365037\ttotal: 3.55s\tremaining: 5.56s\n",
            "39:\tlearn: 0.3364262\ttotal: 3.67s\tremaining: 5.51s\n",
            "40:\tlearn: 0.3363872\ttotal: 3.77s\tremaining: 5.42s\n",
            "41:\tlearn: 0.3363656\ttotal: 3.9s\tremaining: 5.38s\n",
            "42:\tlearn: 0.3362841\ttotal: 4s\tremaining: 5.3s\n",
            "43:\tlearn: 0.3360705\ttotal: 4.11s\tremaining: 5.22s\n",
            "44:\tlearn: 0.3360702\ttotal: 4.2s\tremaining: 5.13s\n",
            "45:\tlearn: 0.3359330\ttotal: 4.3s\tremaining: 5.05s\n",
            "46:\tlearn: 0.3359316\ttotal: 4.4s\tremaining: 4.96s\n",
            "47:\tlearn: 0.3357939\ttotal: 4.5s\tremaining: 4.88s\n",
            "48:\tlearn: 0.3357927\ttotal: 4.6s\tremaining: 4.79s\n",
            "49:\tlearn: 0.3357922\ttotal: 4.71s\tremaining: 4.71s\n",
            "50:\tlearn: 0.3357647\ttotal: 4.81s\tremaining: 4.62s\n",
            "51:\tlearn: 0.3356604\ttotal: 4.91s\tremaining: 4.53s\n",
            "52:\tlearn: 0.3354803\ttotal: 5.01s\tremaining: 4.45s\n",
            "53:\tlearn: 0.3354683\ttotal: 5.12s\tremaining: 4.36s\n",
            "54:\tlearn: 0.3354406\ttotal: 5.21s\tremaining: 4.26s\n",
            "55:\tlearn: 0.3354402\ttotal: 5.36s\tremaining: 4.21s\n",
            "56:\tlearn: 0.3354054\ttotal: 5.55s\tremaining: 4.18s\n",
            "57:\tlearn: 0.3353969\ttotal: 5.73s\tremaining: 4.15s\n",
            "58:\tlearn: 0.3353619\ttotal: 5.92s\tremaining: 4.11s\n",
            "59:\tlearn: 0.3353608\ttotal: 6.1s\tremaining: 4.07s\n",
            "60:\tlearn: 0.3352118\ttotal: 6.3s\tremaining: 4.03s\n",
            "61:\tlearn: 0.3351991\ttotal: 6.49s\tremaining: 3.98s\n",
            "62:\tlearn: 0.3351990\ttotal: 6.67s\tremaining: 3.92s\n",
            "63:\tlearn: 0.3351988\ttotal: 6.81s\tremaining: 3.83s\n",
            "64:\tlearn: 0.3351959\ttotal: 6.99s\tremaining: 3.77s\n",
            "65:\tlearn: 0.3351872\ttotal: 7.18s\tremaining: 3.7s\n",
            "66:\tlearn: 0.3351572\ttotal: 7.37s\tremaining: 3.63s\n",
            "67:\tlearn: 0.3351556\ttotal: 7.56s\tremaining: 3.56s\n",
            "68:\tlearn: 0.3351549\ttotal: 7.75s\tremaining: 3.48s\n",
            "69:\tlearn: 0.3351391\ttotal: 7.95s\tremaining: 3.4s\n",
            "70:\tlearn: 0.3351274\ttotal: 8.13s\tremaining: 3.32s\n",
            "71:\tlearn: 0.3349975\ttotal: 8.33s\tremaining: 3.24s\n",
            "72:\tlearn: 0.3349737\ttotal: 8.52s\tremaining: 3.15s\n",
            "73:\tlearn: 0.3349719\ttotal: 8.7s\tremaining: 3.06s\n",
            "74:\tlearn: 0.3349713\ttotal: 8.88s\tremaining: 2.96s\n",
            "75:\tlearn: 0.3349665\ttotal: 8.99s\tremaining: 2.84s\n",
            "76:\tlearn: 0.3349459\ttotal: 9.1s\tremaining: 2.72s\n",
            "77:\tlearn: 0.3349444\ttotal: 9.2s\tremaining: 2.59s\n",
            "78:\tlearn: 0.3349435\ttotal: 9.29s\tremaining: 2.47s\n",
            "79:\tlearn: 0.3348143\ttotal: 9.4s\tremaining: 2.35s\n",
            "80:\tlearn: 0.3347911\ttotal: 9.51s\tremaining: 2.23s\n",
            "81:\tlearn: 0.3347552\ttotal: 9.6s\tremaining: 2.11s\n",
            "82:\tlearn: 0.3347552\ttotal: 9.69s\tremaining: 1.98s\n",
            "83:\tlearn: 0.3347003\ttotal: 9.79s\tremaining: 1.86s\n",
            "84:\tlearn: 0.3347003\ttotal: 9.88s\tremaining: 1.74s\n",
            "85:\tlearn: 0.3347002\ttotal: 9.95s\tremaining: 1.62s\n",
            "86:\tlearn: 0.3346755\ttotal: 10.1s\tremaining: 1.5s\n",
            "87:\tlearn: 0.3346725\ttotal: 10.1s\tremaining: 1.38s\n",
            "88:\tlearn: 0.3346629\ttotal: 10.2s\tremaining: 1.27s\n",
            "89:\tlearn: 0.3345359\ttotal: 10.4s\tremaining: 1.15s\n",
            "90:\tlearn: 0.3345359\ttotal: 10.5s\tremaining: 1.03s\n",
            "91:\tlearn: 0.3345085\ttotal: 10.6s\tremaining: 918ms\n",
            "92:\tlearn: 0.3344978\ttotal: 10.7s\tremaining: 802ms\n",
            "93:\tlearn: 0.3344249\ttotal: 10.8s\tremaining: 687ms\n",
            "94:\tlearn: 0.3344043\ttotal: 10.9s\tremaining: 573ms\n",
            "95:\tlearn: 0.3343949\ttotal: 11s\tremaining: 457ms\n",
            "96:\tlearn: 0.3343863\ttotal: 11.1s\tremaining: 343ms\n",
            "97:\tlearn: 0.3343805\ttotal: 11.2s\tremaining: 228ms\n",
            "98:\tlearn: 0.3343509\ttotal: 11.3s\tremaining: 114ms\n",
            "99:\tlearn: 0.3342770\ttotal: 11.4s\tremaining: 0us\n",
            " Best model: Pipeline(steps=[('preprocess',\n",
            "                 ColumnTransformer(remainder='passthrough',\n",
            "                                   transformers=[('imputer_cat',\n",
            "                                                  SimpleImputer(add_indicator=True,\n",
            "                                                                strategy='most_frequent'),\n",
            "                                                  ['test_date', 'cough',\n",
            "                                                   'fever', 'sore_throat',\n",
            "                                                   'shortness_of_breath',\n",
            "                                                   'head_ache',\n",
            "                                                   'age_60_and_above', 'gender',\n",
            "                                                   'test_indication']),\n",
            "                                                 ('converter',\n",
            "                                                  FunctionTransformer(func=<function <lambda> at 0x7bfe4567f910>),\n",
            "                                                  ['test_date', 'cough',\n",
            "                                                   'fever', 'sore_throat',\n",
            "                                                   'shortness_of_breath',\n",
            "                                                   'head_ache',\n",
            "                                                   'age_60_and_above', 'gender',\n",
            "                                                   'test_indication']),\n",
            "                                                 ('imputer_num',\n",
            "                                                  SimpleImputer(add_indicator=True),\n",
            "                                                  [])])),\n",
            "                ('catboost',\n",
            "                 <catboost.core.CatBoostClassifier object at 0x7bfe456aabc0>)])\n",
            "Best_score:  0.9098998656425411\n",
            "Best_params: {'catboost__depth': 8, 'catboost__grow_policy': 'SymmetricTree', 'catboost__iterations': 100, 'catboost__l2_leaf_reg': 2, 'catboost__learning_rate': 0.5}\n"
          ]
        }
      ]
    },
    {
      "cell_type": "code",
      "source": [
        "# Fit the best model to the training data\n",
        "best_model.fit(X_train, y_train)"
      ],
      "metadata": {
        "colab": {
          "base_uri": "https://localhost:8080/",
          "height": 1000
        },
        "id": "zjYhgmDWggUJ",
        "outputId": "20106a98-4a87-4318-e549-ce7581409a85"
      },
      "execution_count": null,
      "outputs": [
        {
          "output_type": "stream",
          "name": "stdout",
          "text": [
            "0:\tlearn: 0.4800115\ttotal: 136ms\tremaining: 13.5s\n",
            "1:\tlearn: 0.4073132\ttotal: 240ms\tremaining: 11.8s\n",
            "2:\tlearn: 0.3761422\ttotal: 349ms\tremaining: 11.3s\n",
            "3:\tlearn: 0.3593503\ttotal: 468ms\tremaining: 11.2s\n",
            "4:\tlearn: 0.3514965\ttotal: 583ms\tremaining: 11.1s\n",
            "5:\tlearn: 0.3474942\ttotal: 699ms\tremaining: 11s\n",
            "6:\tlearn: 0.3458138\ttotal: 780ms\tremaining: 10.4s\n",
            "7:\tlearn: 0.3443346\ttotal: 888ms\tremaining: 10.2s\n",
            "8:\tlearn: 0.3441004\ttotal: 944ms\tremaining: 9.54s\n",
            "9:\tlearn: 0.3438349\ttotal: 998ms\tremaining: 8.98s\n",
            "10:\tlearn: 0.3436970\ttotal: 1.07s\tremaining: 8.65s\n",
            "11:\tlearn: 0.3415374\ttotal: 1.18s\tremaining: 8.67s\n",
            "12:\tlearn: 0.3408362\ttotal: 1.29s\tremaining: 8.62s\n",
            "13:\tlearn: 0.3407946\ttotal: 1.34s\tremaining: 8.25s\n",
            "14:\tlearn: 0.3405665\ttotal: 1.44s\tremaining: 8.18s\n",
            "15:\tlearn: 0.3405578\ttotal: 1.5s\tremaining: 7.88s\n",
            "16:\tlearn: 0.3400310\ttotal: 1.62s\tremaining: 7.9s\n",
            "17:\tlearn: 0.3400176\ttotal: 1.67s\tremaining: 7.62s\n",
            "18:\tlearn: 0.3390911\ttotal: 1.77s\tremaining: 7.57s\n",
            "19:\tlearn: 0.3390779\ttotal: 1.83s\tremaining: 7.3s\n",
            "20:\tlearn: 0.3390736\ttotal: 1.9s\tremaining: 7.13s\n",
            "21:\tlearn: 0.3390621\ttotal: 1.95s\tremaining: 6.92s\n",
            "22:\tlearn: 0.3389473\ttotal: 2.04s\tremaining: 6.83s\n",
            "23:\tlearn: 0.3389454\ttotal: 2.1s\tremaining: 6.63s\n",
            "24:\tlearn: 0.3389443\ttotal: 2.14s\tremaining: 6.42s\n",
            "25:\tlearn: 0.3389146\ttotal: 2.21s\tremaining: 6.28s\n",
            "26:\tlearn: 0.3384914\ttotal: 2.31s\tremaining: 6.25s\n",
            "27:\tlearn: 0.3384912\ttotal: 2.36s\tremaining: 6.06s\n",
            "28:\tlearn: 0.3381312\ttotal: 2.46s\tremaining: 6.02s\n",
            "29:\tlearn: 0.3378130\ttotal: 2.57s\tremaining: 5.99s\n",
            "30:\tlearn: 0.3377861\ttotal: 2.67s\tremaining: 5.95s\n",
            "31:\tlearn: 0.3377209\ttotal: 2.77s\tremaining: 5.89s\n",
            "32:\tlearn: 0.3375875\ttotal: 2.87s\tremaining: 5.83s\n",
            "33:\tlearn: 0.3375261\ttotal: 2.97s\tremaining: 5.77s\n",
            "34:\tlearn: 0.3373549\ttotal: 3.08s\tremaining: 5.73s\n",
            "35:\tlearn: 0.3371601\ttotal: 3.19s\tremaining: 5.66s\n",
            "36:\tlearn: 0.3367737\ttotal: 3.3s\tremaining: 5.62s\n",
            "37:\tlearn: 0.3367092\ttotal: 3.39s\tremaining: 5.54s\n",
            "38:\tlearn: 0.3365037\ttotal: 3.5s\tremaining: 5.47s\n",
            "39:\tlearn: 0.3364262\ttotal: 3.67s\tremaining: 5.5s\n",
            "40:\tlearn: 0.3363872\ttotal: 3.88s\tremaining: 5.58s\n",
            "41:\tlearn: 0.3363656\ttotal: 4.06s\tremaining: 5.61s\n",
            "42:\tlearn: 0.3362841\ttotal: 4.26s\tremaining: 5.64s\n",
            "43:\tlearn: 0.3360705\ttotal: 4.45s\tremaining: 5.67s\n",
            "44:\tlearn: 0.3360702\ttotal: 4.63s\tremaining: 5.66s\n",
            "45:\tlearn: 0.3359330\ttotal: 4.83s\tremaining: 5.67s\n",
            "46:\tlearn: 0.3359316\ttotal: 5.02s\tremaining: 5.66s\n",
            "47:\tlearn: 0.3357939\ttotal: 5.21s\tremaining: 5.65s\n",
            "48:\tlearn: 0.3357927\ttotal: 5.4s\tremaining: 5.62s\n",
            "49:\tlearn: 0.3357922\ttotal: 5.57s\tremaining: 5.57s\n",
            "50:\tlearn: 0.3357647\ttotal: 5.76s\tremaining: 5.54s\n",
            "51:\tlearn: 0.3356604\ttotal: 5.95s\tremaining: 5.49s\n",
            "52:\tlearn: 0.3354803\ttotal: 6.16s\tremaining: 5.46s\n",
            "53:\tlearn: 0.3354683\ttotal: 6.34s\tremaining: 5.4s\n",
            "54:\tlearn: 0.3354406\ttotal: 6.52s\tremaining: 5.34s\n",
            "55:\tlearn: 0.3354402\ttotal: 6.7s\tremaining: 5.26s\n",
            "56:\tlearn: 0.3354054\ttotal: 6.89s\tremaining: 5.2s\n",
            "57:\tlearn: 0.3353969\ttotal: 7.07s\tremaining: 5.12s\n",
            "58:\tlearn: 0.3353619\ttotal: 7.22s\tremaining: 5.02s\n",
            "59:\tlearn: 0.3353608\ttotal: 7.32s\tremaining: 4.88s\n",
            "60:\tlearn: 0.3352118\ttotal: 7.44s\tremaining: 4.75s\n",
            "61:\tlearn: 0.3351991\ttotal: 7.53s\tremaining: 4.62s\n",
            "62:\tlearn: 0.3351990\ttotal: 7.63s\tremaining: 4.48s\n",
            "63:\tlearn: 0.3351988\ttotal: 7.7s\tremaining: 4.33s\n",
            "64:\tlearn: 0.3351959\ttotal: 7.8s\tremaining: 4.2s\n",
            "65:\tlearn: 0.3351872\ttotal: 7.9s\tremaining: 4.07s\n",
            "66:\tlearn: 0.3351572\ttotal: 8.01s\tremaining: 3.94s\n",
            "67:\tlearn: 0.3351556\ttotal: 8.1s\tremaining: 3.81s\n",
            "68:\tlearn: 0.3351549\ttotal: 8.2s\tremaining: 3.68s\n",
            "69:\tlearn: 0.3351391\ttotal: 8.31s\tremaining: 3.56s\n",
            "70:\tlearn: 0.3351274\ttotal: 8.4s\tremaining: 3.43s\n",
            "71:\tlearn: 0.3349975\ttotal: 8.52s\tremaining: 3.31s\n",
            "72:\tlearn: 0.3349737\ttotal: 8.62s\tremaining: 3.19s\n",
            "73:\tlearn: 0.3349719\ttotal: 8.72s\tremaining: 3.06s\n",
            "74:\tlearn: 0.3349713\ttotal: 8.81s\tremaining: 2.94s\n",
            "75:\tlearn: 0.3349665\ttotal: 8.93s\tremaining: 2.82s\n",
            "76:\tlearn: 0.3349459\ttotal: 9.03s\tremaining: 2.7s\n",
            "77:\tlearn: 0.3349444\ttotal: 9.14s\tremaining: 2.58s\n",
            "78:\tlearn: 0.3349435\ttotal: 9.23s\tremaining: 2.45s\n",
            "79:\tlearn: 0.3348143\ttotal: 9.34s\tremaining: 2.33s\n",
            "80:\tlearn: 0.3347911\ttotal: 9.44s\tremaining: 2.21s\n",
            "81:\tlearn: 0.3347552\ttotal: 9.59s\tremaining: 2.1s\n",
            "82:\tlearn: 0.3347552\ttotal: 9.82s\tremaining: 2.01s\n",
            "83:\tlearn: 0.3347003\ttotal: 10.2s\tremaining: 1.94s\n",
            "84:\tlearn: 0.3347003\ttotal: 10.4s\tremaining: 1.83s\n",
            "85:\tlearn: 0.3347002\ttotal: 10.5s\tremaining: 1.71s\n",
            "86:\tlearn: 0.3346755\ttotal: 10.6s\tremaining: 1.58s\n",
            "87:\tlearn: 0.3346725\ttotal: 10.7s\tremaining: 1.46s\n",
            "88:\tlearn: 0.3346629\ttotal: 10.8s\tremaining: 1.33s\n",
            "89:\tlearn: 0.3345359\ttotal: 10.9s\tremaining: 1.21s\n",
            "90:\tlearn: 0.3345359\ttotal: 11s\tremaining: 1.09s\n",
            "91:\tlearn: 0.3345085\ttotal: 11.1s\tremaining: 965ms\n",
            "92:\tlearn: 0.3344978\ttotal: 11.2s\tremaining: 843ms\n",
            "93:\tlearn: 0.3344249\ttotal: 11.3s\tremaining: 722ms\n",
            "94:\tlearn: 0.3344043\ttotal: 11.4s\tremaining: 600ms\n",
            "95:\tlearn: 0.3343949\ttotal: 11.5s\tremaining: 480ms\n",
            "96:\tlearn: 0.3343863\ttotal: 11.6s\tremaining: 359ms\n",
            "97:\tlearn: 0.3343805\ttotal: 11.7s\tremaining: 239ms\n",
            "98:\tlearn: 0.3343509\ttotal: 11.8s\tremaining: 119ms\n",
            "99:\tlearn: 0.3342770\ttotal: 11.9s\tremaining: 0us\n"
          ]
        },
        {
          "output_type": "execute_result",
          "data": {
            "text/plain": [
              "Pipeline(steps=[('preprocess',\n",
              "                 ColumnTransformer(remainder='passthrough',\n",
              "                                   transformers=[('imputer_cat',\n",
              "                                                  SimpleImputer(add_indicator=True,\n",
              "                                                                strategy='most_frequent'),\n",
              "                                                  ['test_date', 'cough',\n",
              "                                                   'fever', 'sore_throat',\n",
              "                                                   'shortness_of_breath',\n",
              "                                                   'head_ache',\n",
              "                                                   'age_60_and_above', 'gender',\n",
              "                                                   'test_indication']),\n",
              "                                                 ('converter',\n",
              "                                                  FunctionTransformer(func=<function <lambda> at 0x7bfe4567f910>),\n",
              "                                                  ['test_date', 'cough',\n",
              "                                                   'fever', 'sore_throat',\n",
              "                                                   'shortness_of_breath',\n",
              "                                                   'head_ache',\n",
              "                                                   'age_60_and_above', 'gender',\n",
              "                                                   'test_indication']),\n",
              "                                                 ('imputer_num',\n",
              "                                                  SimpleImputer(add_indicator=True),\n",
              "                                                  [])])),\n",
              "                ('catboost',\n",
              "                 <catboost.core.CatBoostClassifier object at 0x7bfe456aabc0>)])"
            ],
            "text/html": [
              "<style>#sk-container-id-1 {color: black;background-color: white;}#sk-container-id-1 pre{padding: 0;}#sk-container-id-1 div.sk-toggleable {background-color: white;}#sk-container-id-1 label.sk-toggleable__label {cursor: pointer;display: block;width: 100%;margin-bottom: 0;padding: 0.3em;box-sizing: border-box;text-align: center;}#sk-container-id-1 label.sk-toggleable__label-arrow:before {content: \"▸\";float: left;margin-right: 0.25em;color: #696969;}#sk-container-id-1 label.sk-toggleable__label-arrow:hover:before {color: black;}#sk-container-id-1 div.sk-estimator:hover label.sk-toggleable__label-arrow:before {color: black;}#sk-container-id-1 div.sk-toggleable__content {max-height: 0;max-width: 0;overflow: hidden;text-align: left;background-color: #f0f8ff;}#sk-container-id-1 div.sk-toggleable__content pre {margin: 0.2em;color: black;border-radius: 0.25em;background-color: #f0f8ff;}#sk-container-id-1 input.sk-toggleable__control:checked~div.sk-toggleable__content {max-height: 200px;max-width: 100%;overflow: auto;}#sk-container-id-1 input.sk-toggleable__control:checked~label.sk-toggleable__label-arrow:before {content: \"▾\";}#sk-container-id-1 div.sk-estimator input.sk-toggleable__control:checked~label.sk-toggleable__label {background-color: #d4ebff;}#sk-container-id-1 div.sk-label input.sk-toggleable__control:checked~label.sk-toggleable__label {background-color: #d4ebff;}#sk-container-id-1 input.sk-hidden--visually {border: 0;clip: rect(1px 1px 1px 1px);clip: rect(1px, 1px, 1px, 1px);height: 1px;margin: -1px;overflow: hidden;padding: 0;position: absolute;width: 1px;}#sk-container-id-1 div.sk-estimator {font-family: monospace;background-color: #f0f8ff;border: 1px dotted black;border-radius: 0.25em;box-sizing: border-box;margin-bottom: 0.5em;}#sk-container-id-1 div.sk-estimator:hover {background-color: #d4ebff;}#sk-container-id-1 div.sk-parallel-item::after {content: \"\";width: 100%;border-bottom: 1px solid gray;flex-grow: 1;}#sk-container-id-1 div.sk-label:hover label.sk-toggleable__label {background-color: #d4ebff;}#sk-container-id-1 div.sk-serial::before {content: \"\";position: absolute;border-left: 1px solid gray;box-sizing: border-box;top: 0;bottom: 0;left: 50%;z-index: 0;}#sk-container-id-1 div.sk-serial {display: flex;flex-direction: column;align-items: center;background-color: white;padding-right: 0.2em;padding-left: 0.2em;position: relative;}#sk-container-id-1 div.sk-item {position: relative;z-index: 1;}#sk-container-id-1 div.sk-parallel {display: flex;align-items: stretch;justify-content: center;background-color: white;position: relative;}#sk-container-id-1 div.sk-item::before, #sk-container-id-1 div.sk-parallel-item::before {content: \"\";position: absolute;border-left: 1px solid gray;box-sizing: border-box;top: 0;bottom: 0;left: 50%;z-index: -1;}#sk-container-id-1 div.sk-parallel-item {display: flex;flex-direction: column;z-index: 1;position: relative;background-color: white;}#sk-container-id-1 div.sk-parallel-item:first-child::after {align-self: flex-end;width: 50%;}#sk-container-id-1 div.sk-parallel-item:last-child::after {align-self: flex-start;width: 50%;}#sk-container-id-1 div.sk-parallel-item:only-child::after {width: 0;}#sk-container-id-1 div.sk-dashed-wrapped {border: 1px dashed gray;margin: 0 0.4em 0.5em 0.4em;box-sizing: border-box;padding-bottom: 0.4em;background-color: white;}#sk-container-id-1 div.sk-label label {font-family: monospace;font-weight: bold;display: inline-block;line-height: 1.2em;}#sk-container-id-1 div.sk-label-container {text-align: center;}#sk-container-id-1 div.sk-container {/* jupyter's `normalize.less` sets `[hidden] { display: none; }` but bootstrap.min.css set `[hidden] { display: none !important; }` so we also need the `!important` here to be able to override the default hidden behavior on the sphinx rendered scikit-learn.org. See: https://github.com/scikit-learn/scikit-learn/issues/21755 */display: inline-block !important;position: relative;}#sk-container-id-1 div.sk-text-repr-fallback {display: none;}</style><div id=\"sk-container-id-1\" class=\"sk-top-container\"><div class=\"sk-text-repr-fallback\"><pre>Pipeline(steps=[(&#x27;preprocess&#x27;,\n",
              "                 ColumnTransformer(remainder=&#x27;passthrough&#x27;,\n",
              "                                   transformers=[(&#x27;imputer_cat&#x27;,\n",
              "                                                  SimpleImputer(add_indicator=True,\n",
              "                                                                strategy=&#x27;most_frequent&#x27;),\n",
              "                                                  [&#x27;test_date&#x27;, &#x27;cough&#x27;,\n",
              "                                                   &#x27;fever&#x27;, &#x27;sore_throat&#x27;,\n",
              "                                                   &#x27;shortness_of_breath&#x27;,\n",
              "                                                   &#x27;head_ache&#x27;,\n",
              "                                                   &#x27;age_60_and_above&#x27;, &#x27;gender&#x27;,\n",
              "                                                   &#x27;test_indication&#x27;]),\n",
              "                                                 (&#x27;converter&#x27;,\n",
              "                                                  FunctionTransformer(func=&lt;function &lt;lambda&gt; at 0x7bfe4567f910&gt;),\n",
              "                                                  [&#x27;test_date&#x27;, &#x27;cough&#x27;,\n",
              "                                                   &#x27;fever&#x27;, &#x27;sore_throat&#x27;,\n",
              "                                                   &#x27;shortness_of_breath&#x27;,\n",
              "                                                   &#x27;head_ache&#x27;,\n",
              "                                                   &#x27;age_60_and_above&#x27;, &#x27;gender&#x27;,\n",
              "                                                   &#x27;test_indication&#x27;]),\n",
              "                                                 (&#x27;imputer_num&#x27;,\n",
              "                                                  SimpleImputer(add_indicator=True),\n",
              "                                                  [])])),\n",
              "                (&#x27;catboost&#x27;,\n",
              "                 &lt;catboost.core.CatBoostClassifier object at 0x7bfe456aabc0&gt;)])</pre><b>In a Jupyter environment, please rerun this cell to show the HTML representation or trust the notebook. <br />On GitHub, the HTML representation is unable to render, please try loading this page with nbviewer.org.</b></div><div class=\"sk-container\" hidden><div class=\"sk-item sk-dashed-wrapped\"><div class=\"sk-label-container\"><div class=\"sk-label sk-toggleable\"><input class=\"sk-toggleable__control sk-hidden--visually\" id=\"sk-estimator-id-1\" type=\"checkbox\" ><label for=\"sk-estimator-id-1\" class=\"sk-toggleable__label sk-toggleable__label-arrow\">Pipeline</label><div class=\"sk-toggleable__content\"><pre>Pipeline(steps=[(&#x27;preprocess&#x27;,\n",
              "                 ColumnTransformer(remainder=&#x27;passthrough&#x27;,\n",
              "                                   transformers=[(&#x27;imputer_cat&#x27;,\n",
              "                                                  SimpleImputer(add_indicator=True,\n",
              "                                                                strategy=&#x27;most_frequent&#x27;),\n",
              "                                                  [&#x27;test_date&#x27;, &#x27;cough&#x27;,\n",
              "                                                   &#x27;fever&#x27;, &#x27;sore_throat&#x27;,\n",
              "                                                   &#x27;shortness_of_breath&#x27;,\n",
              "                                                   &#x27;head_ache&#x27;,\n",
              "                                                   &#x27;age_60_and_above&#x27;, &#x27;gender&#x27;,\n",
              "                                                   &#x27;test_indication&#x27;]),\n",
              "                                                 (&#x27;converter&#x27;,\n",
              "                                                  FunctionTransformer(func=&lt;function &lt;lambda&gt; at 0x7bfe4567f910&gt;),\n",
              "                                                  [&#x27;test_date&#x27;, &#x27;cough&#x27;,\n",
              "                                                   &#x27;fever&#x27;, &#x27;sore_throat&#x27;,\n",
              "                                                   &#x27;shortness_of_breath&#x27;,\n",
              "                                                   &#x27;head_ache&#x27;,\n",
              "                                                   &#x27;age_60_and_above&#x27;, &#x27;gender&#x27;,\n",
              "                                                   &#x27;test_indication&#x27;]),\n",
              "                                                 (&#x27;imputer_num&#x27;,\n",
              "                                                  SimpleImputer(add_indicator=True),\n",
              "                                                  [])])),\n",
              "                (&#x27;catboost&#x27;,\n",
              "                 &lt;catboost.core.CatBoostClassifier object at 0x7bfe456aabc0&gt;)])</pre></div></div></div><div class=\"sk-serial\"><div class=\"sk-item sk-dashed-wrapped\"><div class=\"sk-label-container\"><div class=\"sk-label sk-toggleable\"><input class=\"sk-toggleable__control sk-hidden--visually\" id=\"sk-estimator-id-2\" type=\"checkbox\" ><label for=\"sk-estimator-id-2\" class=\"sk-toggleable__label sk-toggleable__label-arrow\">preprocess: ColumnTransformer</label><div class=\"sk-toggleable__content\"><pre>ColumnTransformer(remainder=&#x27;passthrough&#x27;,\n",
              "                  transformers=[(&#x27;imputer_cat&#x27;,\n",
              "                                 SimpleImputer(add_indicator=True,\n",
              "                                               strategy=&#x27;most_frequent&#x27;),\n",
              "                                 [&#x27;test_date&#x27;, &#x27;cough&#x27;, &#x27;fever&#x27;, &#x27;sore_throat&#x27;,\n",
              "                                  &#x27;shortness_of_breath&#x27;, &#x27;head_ache&#x27;,\n",
              "                                  &#x27;age_60_and_above&#x27;, &#x27;gender&#x27;,\n",
              "                                  &#x27;test_indication&#x27;]),\n",
              "                                (&#x27;converter&#x27;,\n",
              "                                 FunctionTransformer(func=&lt;function &lt;lambda&gt; at 0x7bfe4567f910&gt;),\n",
              "                                 [&#x27;test_date&#x27;, &#x27;cough&#x27;, &#x27;fever&#x27;, &#x27;sore_throat&#x27;,\n",
              "                                  &#x27;shortness_of_breath&#x27;, &#x27;head_ache&#x27;,\n",
              "                                  &#x27;age_60_and_above&#x27;, &#x27;gender&#x27;,\n",
              "                                  &#x27;test_indication&#x27;]),\n",
              "                                (&#x27;imputer_num&#x27;,\n",
              "                                 SimpleImputer(add_indicator=True), [])])</pre></div></div></div><div class=\"sk-parallel\"><div class=\"sk-parallel-item\"><div class=\"sk-item\"><div class=\"sk-label-container\"><div class=\"sk-label sk-toggleable\"><input class=\"sk-toggleable__control sk-hidden--visually\" id=\"sk-estimator-id-3\" type=\"checkbox\" ><label for=\"sk-estimator-id-3\" class=\"sk-toggleable__label sk-toggleable__label-arrow\">imputer_cat</label><div class=\"sk-toggleable__content\"><pre>[&#x27;test_date&#x27;, &#x27;cough&#x27;, &#x27;fever&#x27;, &#x27;sore_throat&#x27;, &#x27;shortness_of_breath&#x27;, &#x27;head_ache&#x27;, &#x27;age_60_and_above&#x27;, &#x27;gender&#x27;, &#x27;test_indication&#x27;]</pre></div></div></div><div class=\"sk-serial\"><div class=\"sk-item\"><div class=\"sk-estimator sk-toggleable\"><input class=\"sk-toggleable__control sk-hidden--visually\" id=\"sk-estimator-id-4\" type=\"checkbox\" ><label for=\"sk-estimator-id-4\" class=\"sk-toggleable__label sk-toggleable__label-arrow\">SimpleImputer</label><div class=\"sk-toggleable__content\"><pre>SimpleImputer(add_indicator=True, strategy=&#x27;most_frequent&#x27;)</pre></div></div></div></div></div></div><div class=\"sk-parallel-item\"><div class=\"sk-item\"><div class=\"sk-label-container\"><div class=\"sk-label sk-toggleable\"><input class=\"sk-toggleable__control sk-hidden--visually\" id=\"sk-estimator-id-5\" type=\"checkbox\" ><label for=\"sk-estimator-id-5\" class=\"sk-toggleable__label sk-toggleable__label-arrow\">converter</label><div class=\"sk-toggleable__content\"><pre>[&#x27;test_date&#x27;, &#x27;cough&#x27;, &#x27;fever&#x27;, &#x27;sore_throat&#x27;, &#x27;shortness_of_breath&#x27;, &#x27;head_ache&#x27;, &#x27;age_60_and_above&#x27;, &#x27;gender&#x27;, &#x27;test_indication&#x27;]</pre></div></div></div><div class=\"sk-serial\"><div class=\"sk-item\"><div class=\"sk-estimator sk-toggleable\"><input class=\"sk-toggleable__control sk-hidden--visually\" id=\"sk-estimator-id-6\" type=\"checkbox\" ><label for=\"sk-estimator-id-6\" class=\"sk-toggleable__label sk-toggleable__label-arrow\">FunctionTransformer</label><div class=\"sk-toggleable__content\"><pre>FunctionTransformer(func=&lt;function &lt;lambda&gt; at 0x7bfe4567f910&gt;)</pre></div></div></div></div></div></div><div class=\"sk-parallel-item\"><div class=\"sk-item\"><div class=\"sk-label-container\"><div class=\"sk-label sk-toggleable\"><input class=\"sk-toggleable__control sk-hidden--visually\" id=\"sk-estimator-id-7\" type=\"checkbox\" ><label for=\"sk-estimator-id-7\" class=\"sk-toggleable__label sk-toggleable__label-arrow\">imputer_num</label><div class=\"sk-toggleable__content\"><pre>[]</pre></div></div></div><div class=\"sk-serial\"><div class=\"sk-item\"><div class=\"sk-estimator sk-toggleable\"><input class=\"sk-toggleable__control sk-hidden--visually\" id=\"sk-estimator-id-8\" type=\"checkbox\" ><label for=\"sk-estimator-id-8\" class=\"sk-toggleable__label sk-toggleable__label-arrow\">SimpleImputer</label><div class=\"sk-toggleable__content\"><pre>SimpleImputer(add_indicator=True)</pre></div></div></div></div></div></div><div class=\"sk-parallel-item\"><div class=\"sk-item\"><div class=\"sk-label-container\"><div class=\"sk-label sk-toggleable\"><input class=\"sk-toggleable__control sk-hidden--visually\" id=\"sk-estimator-id-9\" type=\"checkbox\" ><label for=\"sk-estimator-id-9\" class=\"sk-toggleable__label sk-toggleable__label-arrow\">remainder</label><div class=\"sk-toggleable__content\"><pre>[]</pre></div></div></div><div class=\"sk-serial\"><div class=\"sk-item\"><div class=\"sk-estimator sk-toggleable\"><input class=\"sk-toggleable__control sk-hidden--visually\" id=\"sk-estimator-id-10\" type=\"checkbox\" ><label for=\"sk-estimator-id-10\" class=\"sk-toggleable__label sk-toggleable__label-arrow\">passthrough</label><div class=\"sk-toggleable__content\"><pre>passthrough</pre></div></div></div></div></div></div></div></div><div class=\"sk-item\"><div class=\"sk-estimator sk-toggleable\"><input class=\"sk-toggleable__control sk-hidden--visually\" id=\"sk-estimator-id-11\" type=\"checkbox\" ><label for=\"sk-estimator-id-11\" class=\"sk-toggleable__label sk-toggleable__label-arrow\">CatBoostClassifier</label><div class=\"sk-toggleable__content\"><pre>&lt;catboost.core.CatBoostClassifier object at 0x7bfe456aabc0&gt;</pre></div></div></div></div></div></div></div>"
            ]
          },
          "metadata": {},
          "execution_count": 41
        }
      ]
    },
    {
      "cell_type": "markdown",
      "source": [
        "## Evaluation"
      ],
      "metadata": {
        "id": "ApV-kC2yNS0B"
      }
    },
    {
      "cell_type": "code",
      "source": [
        "# Predict probabilities for the test data.\n",
        "y_probs = best_model.predict_proba(X_test)[:, 1]\n",
        "\n",
        "# Calculate the ROC curve points\n",
        "fpr, tpr, thresholds = roc_curve(y_test, y_probs)\n",
        "\n",
        "# Plot the ROC curve\n",
        "plt.figure(figsize=(8, 6))\n",
        "plt.plot(fpr, tpr)\n",
        "plt.plot([0, 1], [0, 1], linestyle='--')\n",
        "plt.title('ROC curve')\n",
        "plt.xlabel('False Positive Rate')\n",
        "plt.ylabel('True Positive Rate')\n",
        "\n",
        "# Print the AUC-ROC score\n",
        "print('AUC-ROC:', roc_auc_score(y_test, y_probs))"
      ],
      "metadata": {
        "colab": {
          "base_uri": "https://localhost:8080/",
          "height": 582
        },
        "id": "y49P4Jz7Rp9b",
        "outputId": "983b799c-4b75-4bba-d330-d070a738185a"
      },
      "execution_count": null,
      "outputs": [
        {
          "output_type": "stream",
          "name": "stdout",
          "text": [
            "AUC-ROC: 0.9090614844989584\n"
          ]
        },
        {
          "output_type": "display_data",
          "data": {
            "text/plain": [
              "<Figure size 800x600 with 1 Axes>"
            ],
            "image/png": "[encoded data removed]"
          },
          "metadata": {}
        }
      ]
    },
    {
      "cell_type": "code",
      "source": [
        "\n",
        "# Calculate the precision-recall curve\n",
        "precision, recall, thresholds = precision_recall_curve(y_test, y_probs)\n",
        "\n",
        "# Plot the precision-recall curve\n",
        "plt.figure(figsize=(8, 6))\n",
        "plt.plot(recall, precision)\n",
        "plt.title('Precision-Recall curve')\n",
        "plt.xlabel('Recall')\n",
        "plt.ylabel('Precision')\n",
        "\n",
        "# Print the average precision score\n",
        "print('Average precision score:', average_precision_score(y_test, y_probs))"
      ],
      "metadata": {
        "colab": {
          "base_uri": "https://localhost:8080/",
          "height": 582
        },
        "id": "Ra2tpZVQSBhz",
        "outputId": "4714a506-8d6a-4ca5-8b2e-4f266434d8ab"
      },
      "execution_count": null,
      "outputs": [
        {
          "output_type": "stream",
          "name": "stdout",
          "text": [
            "Average precision score: 0.697145743909652\n"
          ]
        },
        {
          "output_type": "display_data",
          "data": {
            "text/plain": [
              "<Figure size 800x600 with 1 Axes>"
            ],
            "image/png": "[encoded data removed]"
          },
          "metadata": {}
        }
      ]
    },
    {
      "cell_type": "code",
      "source": [
        "\n",
        "y_probs = best_model.predict_proba(X_test)[:, 1].flatten()\n",
        "# Convert probabilities to class labels\n",
        "y_pred = (y_probs > 0.22).astype(int)\n",
        "print(classification_report(y_test, y_pred))"
      ],
      "metadata": {
        "colab": {
          "base_uri": "https://localhost:8080/"
        },
        "id": "pdtEkytXSsNq",
        "outputId": "aba7408d-d6e4-49e6-9574-5d17404ef291"
      },
      "execution_count": null,
      "outputs": [
        {
          "output_type": "stream",
          "name": "stdout",
          "text": [
            "              precision    recall  f1-score   support\n",
            "\n",
            "           0       0.99      0.76      0.86     52064\n",
            "           1       0.16      0.87      0.28      2877\n",
            "\n",
            "    accuracy                           0.76     54941\n",
            "   macro avg       0.58      0.81      0.57     54941\n",
            "weighted avg       0.95      0.76      0.83     54941\n",
            "\n"
          ]
        }
      ]
    },
    {
      "cell_type": "code",
      "source": [
        "# Calculate the confusion matrix\n",
        "cf_matrix = confusion_matrix(y_test, y_pred, normalize='true')\n",
        "group_names = ['TN','FP','FN','TP']\n",
        "group_percentages = ['{0:.2%}'.format(value) for value in cf_matrix.flatten()/np.sum(cf_matrix)]\n",
        "labels = [f'{v1}\\n{v2}' for v1, v2, in zip(group_names,group_percentages)]\n",
        "labels = np.asarray(labels).reshape(2,2)\n",
        "sns.heatmap(cf_matrix, annot=labels, fmt='', cmap='Blues', xticklabels=['Negative', 'Positive'], yticklabels=['Negative', 'Positive'])"
      ],
      "metadata": {
        "id": "BHfaVLDWlTyy",
        "colab": {
          "base_uri": "https://localhost:8080/",
          "height": 448
        },
        "outputId": "65ddb9f4-53f6-434e-bc71-9a859a8c02f0"
      },
      "execution_count": null,
      "outputs": [
        {
          "output_type": "execute_result",
          "data": {
            "text/plain": [
              "<Axes: >"
            ]
          },
          "metadata": {},
          "execution_count": 70
        },
        {
          "output_type": "display_data",
          "data": {
            "text/plain": [
              "<Figure size 640x480 with 2 Axes>"
            ],
            "image/png": "[encoded data removed]"
          },
          "metadata": {}
        }
      ]
    },
    {
      "cell_type": "code",
      "source": [
        "# choosing the threshold\n",
        "# Define the threshold values to search\n",
        "threshold_values = np.linspace(0.05, 0.8, 20)  # For example, search from 0.1 to 0.9 with 0.1 step\n",
        "\n",
        "# Initialize variables to store the best recall and corresponding threshold\n",
        "best_recall = 0.0\n",
        "best_recall_threshold = None\n",
        "\n",
        "# Find the threshold that maximizes recall\n",
        "for threshold in threshold_values:\n",
        "    y_pred = (y_probs >= threshold).astype(int)\n",
        "    recall = recall_score(y_test, y_pred)\n",
        "    precision = precision_score(y_test, y_pred)\n",
        "\n",
        "\n",
        "    print(f\"Threshold: {threshold:.2f}\\t\\tRecall: {recall:.3f} \\t\\tprecision: {precision:.3f}\")\n",
        "\n",
        "    if recall > best_recall:\n",
        "        best_recall = recall\n",
        "        best_recall_threshold = threshold\n",
        "\n",
        "print(f\"\\nBest Recall Threshold: {best_recall_threshold:.2f}\")"
      ],
      "metadata": {
        "id": "Ynra4bOClUAw",
        "colab": {
          "base_uri": "https://localhost:8080/"
        },
        "outputId": "234e7efb-d30d-4ea6-e8a2-9af79c17d3c3"
      },
      "execution_count": null,
      "outputs": [
        {
          "output_type": "stream",
          "name": "stdout",
          "text": [
            "Threshold: 0.05\t\tRecall: 1.000 \t\tprecision: 0.053\n",
            "Threshold: 0.09\t\tRecall: 0.995 \t\tprecision: 0.054\n",
            "Threshold: 0.13\t\tRecall: 0.946 \t\tprecision: 0.079\n",
            "Threshold: 0.17\t\tRecall: 0.913 \t\tprecision: 0.105\n",
            "Threshold: 0.21\t\tRecall: 0.874 \t\tprecision: 0.158\n",
            "Threshold: 0.25\t\tRecall: 0.854 \t\tprecision: 0.205\n",
            "Threshold: 0.29\t\tRecall: 0.838 \t\tprecision: 0.252\n",
            "Threshold: 0.33\t\tRecall: 0.833 \t\tprecision: 0.265\n",
            "Threshold: 0.37\t\tRecall: 0.827 \t\tprecision: 0.285\n",
            "Threshold: 0.41\t\tRecall: 0.821 \t\tprecision: 0.310\n",
            "Threshold: 0.44\t\tRecall: 0.812 \t\tprecision: 0.329\n",
            "Threshold: 0.48\t\tRecall: 0.800 \t\tprecision: 0.364\n",
            "Threshold: 0.52\t\tRecall: 0.788 \t\tprecision: 0.395\n",
            "Threshold: 0.56\t\tRecall: 0.778 \t\tprecision: 0.427\n",
            "Threshold: 0.60\t\tRecall: 0.769 \t\tprecision: 0.440\n",
            "Threshold: 0.64\t\tRecall: 0.753 \t\tprecision: 0.495\n",
            "Threshold: 0.68\t\tRecall: 0.744 \t\tprecision: 0.526\n",
            "Threshold: 0.72\t\tRecall: 0.734 \t\tprecision: 0.546\n",
            "Threshold: 0.76\t\tRecall: 0.719 \t\tprecision: 0.585\n",
            "Threshold: 0.80\t\tRecall: 0.706 \t\tprecision: 0.620\n",
            "\n",
            "Best Recall Threshold: 0.05\n"
          ]
        }
      ]
    },
    {
      "cell_type": "code",
      "source": [
        "# the threshold\n",
        "\n",
        "# Get the probability threshold\n",
        "probability_threshold = best_model.named_steps['catboost'].get_probability_threshold()\n",
        "print(probability_threshold)\n",
        "# Change the probability threshold to a new value (e.g., 0.6)\n",
        "# new_threshold = 0.6\n",
        "# best_model.named_steps['catboost'].set_probability_threshold(new_threshold)"
      ],
      "metadata": {
        "colab": {
          "base_uri": "https://localhost:8080/"
        },
        "id": "arrh0KKudl5e",
        "outputId": "f1289999-6b0e-4a40-cca7-3157b3e90de1"
      },
      "execution_count": null,
      "outputs": [
        {
          "output_type": "stream",
          "name": "stdout",
          "text": [
            "0.5\n"
          ]
        }
      ]
    },
    {
      "cell_type": "code",
      "source": [],
      "metadata": {
        "id": "zwYrzNiPlaZc"
      },
      "execution_count": null,
      "outputs": []
    },
    {
      "cell_type": "markdown",
      "source": [
        "# Random Forest"
      ],
      "metadata": {
        "id": "UXWZv-RSLabg"
      }
    },
    {
      "cell_type": "code",
      "source": [
        "# random forest\n",
        "\n",
        "from sklearn.ensemble import RandomForestClassifier\n",
        "\n",
        "# rf model\n",
        "rf_model = RandomForestClassifier(\n",
        "    n_estimators = 200,\n",
        "    criterion = \"entropy\",\n",
        "    max_features = \"sqrt\",\n",
        "    class_weight=\"balanced_subsample\",\n",
        ")"
      ],
      "metadata": {
        "id": "5Qvu3FxRladF"
      },
      "execution_count": null,
      "outputs": []
    },
    {
      "cell_type": "code",
      "source": [
        "# Perform randomized grid search\n",
        "\n",
        "param_grid_rf = {\n",
        "    'rf__max_depth': [10],\n",
        "    'rf__min_samples_leaf': [10],\n",
        "}\n",
        "model_rf = Pipeline([\n",
        "              ('preprocess', preprocess),\n",
        "              ('rf', rf_model)\n",
        "                ])\n",
        "\n",
        "search_rf = GridSearchCV(model_rf, param_grid_rf, scoring='roc_auc', verbose=0, n_jobs=-1, cv=2)\n",
        "search_rf.fit(X_train, y_train)"
      ],
      "metadata": {
        "id": "ucCHiWUnnCy0",
        "colab": {
          "base_uri": "https://localhost:8080/",
          "height": 218
        },
        "outputId": "1b9ed7b1-a5b7-49b7-ed69-8404655cbbaf"
      },
      "execution_count": null,
      "outputs": [
        {
          "output_type": "execute_result",
          "data": {
            "text/plain": [
              "GridSearchCV(cv=2,\n",
              "             estimator=Pipeline(steps=[('preprocess',\n",
              "                                        ColumnTransformer(remainder='passthrough',\n",
              "                                                          transformers=[('imputer_cat',\n",
              "                                                                         SimpleImputer(add_indicator=True,\n",
              "                                                                                       strategy='most_frequent'),\n",
              "                                                                         ['test_date',\n",
              "                                                                          'cough',\n",
              "                                                                          'fever',\n",
              "                                                                          'sore_throat',\n",
              "                                                                          'shortness_of_breath',\n",
              "                                                                          'head_ache',\n",
              "                                                                          'age_60_and_above',\n",
              "                                                                          'gender',\n",
              "                                                                          'test_indication']),\n",
              "                                                                        ('converter',\n",
              "                                                                         FunctionTransformer(func...\n",
              "                                                                          'fever',\n",
              "                                                                          'sore_throat',\n",
              "                                                                          'shortness_of_breath',\n",
              "                                                                          'head_ache',\n",
              "                                                                          'age_60_and_above',\n",
              "                                                                          'gender',\n",
              "                                                                          'test_indication']),\n",
              "                                                                        ('imputer_num',\n",
              "                                                                         SimpleImputer(add_indicator=True),\n",
              "                                                                         [])])),\n",
              "                                       ('rf',\n",
              "                                        RandomForestClassifier(class_weight='balanced_subsample',\n",
              "                                                               criterion='entropy',\n",
              "                                                               n_estimators=200))]),\n",
              "             n_jobs=-1,\n",
              "             param_grid={'rf__max_depth': [10], 'rf__min_samples_leaf': [10]},\n",
              "             scoring='roc_auc')"
            ],
            "text/html": [
              "<style>#sk-container-id-2 {color: black;background-color: white;}#sk-container-id-2 pre{padding: 0;}#sk-container-id-2 div.sk-toggleable {background-color: white;}#sk-container-id-2 label.sk-toggleable__label {cursor: pointer;display: block;width: 100%;margin-bottom: 0;padding: 0.3em;box-sizing: border-box;text-align: center;}#sk-container-id-2 label.sk-toggleable__label-arrow:before {content: \"▸\";float: left;margin-right: 0.25em;color: #696969;}#sk-container-id-2 label.sk-toggleable__label-arrow:hover:before {color: black;}#sk-container-id-2 div.sk-estimator:hover label.sk-toggleable__label-arrow:before {color: black;}#sk-container-id-2 div.sk-toggleable__content {max-height: 0;max-width: 0;overflow: hidden;text-align: left;background-color: #f0f8ff;}#sk-container-id-2 div.sk-toggleable__content pre {margin: 0.2em;color: black;border-radius: 0.25em;background-color: #f0f8ff;}#sk-container-id-2 input.sk-toggleable__control:checked~div.sk-toggleable__content {max-height: 200px;max-width: 100%;overflow: auto;}#sk-container-id-2 input.sk-toggleable__control:checked~label.sk-toggleable__label-arrow:before {content: \"▾\";}#sk-container-id-2 div.sk-estimator input.sk-toggleable__control:checked~label.sk-toggleable__label {background-color: #d4ebff;}#sk-container-id-2 div.sk-label input.sk-toggleable__control:checked~label.sk-toggleable__label {background-color: #d4ebff;}#sk-container-id-2 input.sk-hidden--visually {border: 0;clip: rect(1px 1px 1px 1px);clip: rect(1px, 1px, 1px, 1px);height: 1px;margin: -1px;overflow: hidden;padding: 0;position: absolute;width: 1px;}#sk-container-id-2 div.sk-estimator {font-family: monospace;background-color: #f0f8ff;border: 1px dotted black;border-radius: 0.25em;box-sizing: border-box;margin-bottom: 0.5em;}#sk-container-id-2 div.sk-estimator:hover {background-color: #d4ebff;}#sk-container-id-2 div.sk-parallel-item::after {content: \"\";width: 100%;border-bottom: 1px solid gray;flex-grow: 1;}#sk-container-id-2 div.sk-label:hover label.sk-toggleable__label {background-color: #d4ebff;}#sk-container-id-2 div.sk-serial::before {content: \"\";position: absolute;border-left: 1px solid gray;box-sizing: border-box;top: 0;bottom: 0;left: 50%;z-index: 0;}#sk-container-id-2 div.sk-serial {display: flex;flex-direction: column;align-items: center;background-color: white;padding-right: 0.2em;padding-left: 0.2em;position: relative;}#sk-container-id-2 div.sk-item {position: relative;z-index: 1;}#sk-container-id-2 div.sk-parallel {display: flex;align-items: stretch;justify-content: center;background-color: white;position: relative;}#sk-container-id-2 div.sk-item::before, #sk-container-id-2 div.sk-parallel-item::before {content: \"\";position: absolute;border-left: 1px solid gray;box-sizing: border-box;top: 0;bottom: 0;left: 50%;z-index: -1;}#sk-container-id-2 div.sk-parallel-item {display: flex;flex-direction: column;z-index: 1;position: relative;background-color: white;}#sk-container-id-2 div.sk-parallel-item:first-child::after {align-self: flex-end;width: 50%;}#sk-container-id-2 div.sk-parallel-item:last-child::after {align-self: flex-start;width: 50%;}#sk-container-id-2 div.sk-parallel-item:only-child::after {width: 0;}#sk-container-id-2 div.sk-dashed-wrapped {border: 1px dashed gray;margin: 0 0.4em 0.5em 0.4em;box-sizing: border-box;padding-bottom: 0.4em;background-color: white;}#sk-container-id-2 div.sk-label label {font-family: monospace;font-weight: bold;display: inline-block;line-height: 1.2em;}#sk-container-id-2 div.sk-label-container {text-align: center;}#sk-container-id-2 div.sk-container {/* jupyter's `normalize.less` sets `[hidden] { display: none; }` but bootstrap.min.css set `[hidden] { display: none !important; }` so we also need the `!important` here to be able to override the default hidden behavior on the sphinx rendered scikit-learn.org. See: https://github.com/scikit-learn/scikit-learn/issues/21755 */display: inline-block !important;position: relative;}#sk-container-id-2 div.sk-text-repr-fallback {display: none;}</style><div id=\"sk-container-id-2\" class=\"sk-top-container\"><div class=\"sk-text-repr-fallback\"><pre>GridSearchCV(cv=2,\n",
              "             estimator=Pipeline(steps=[(&#x27;preprocess&#x27;,\n",
              "                                        ColumnTransformer(remainder=&#x27;passthrough&#x27;,\n",
              "                                                          transformers=[(&#x27;imputer_cat&#x27;,\n",
              "                                                                         SimpleImputer(add_indicator=True,\n",
              "                                                                                       strategy=&#x27;most_frequent&#x27;),\n",
              "                                                                         [&#x27;test_date&#x27;,\n",
              "                                                                          &#x27;cough&#x27;,\n",
              "                                                                          &#x27;fever&#x27;,\n",
              "                                                                          &#x27;sore_throat&#x27;,\n",
              "                                                                          &#x27;shortness_of_breath&#x27;,\n",
              "                                                                          &#x27;head_ache&#x27;,\n",
              "                                                                          &#x27;age_60_and_above&#x27;,\n",
              "                                                                          &#x27;gender&#x27;,\n",
              "                                                                          &#x27;test_indication&#x27;]),\n",
              "                                                                        (&#x27;converter&#x27;,\n",
              "                                                                         FunctionTransformer(func...\n",
              "                                                                          &#x27;fever&#x27;,\n",
              "                                                                          &#x27;sore_throat&#x27;,\n",
              "                                                                          &#x27;shortness_of_breath&#x27;,\n",
              "                                                                          &#x27;head_ache&#x27;,\n",
              "                                                                          &#x27;age_60_and_above&#x27;,\n",
              "                                                                          &#x27;gender&#x27;,\n",
              "                                                                          &#x27;test_indication&#x27;]),\n",
              "                                                                        (&#x27;imputer_num&#x27;,\n",
              "                                                                         SimpleImputer(add_indicator=True),\n",
              "                                                                         [])])),\n",
              "                                       (&#x27;rf&#x27;,\n",
              "                                        RandomForestClassifier(class_weight=&#x27;balanced_subsample&#x27;,\n",
              "                                                               criterion=&#x27;entropy&#x27;,\n",
              "                                                               n_estimators=200))]),\n",
              "             n_jobs=-1,\n",
              "             param_grid={&#x27;rf__max_depth&#x27;: [10], &#x27;rf__min_samples_leaf&#x27;: [10]},\n",
              "             scoring=&#x27;roc_auc&#x27;)</pre><b>In a Jupyter environment, please rerun this cell to show the HTML representation or trust the notebook. <br />On GitHub, the HTML representation is unable to render, please try loading this page with nbviewer.org.</b></div><div class=\"sk-container\" hidden><div class=\"sk-item sk-dashed-wrapped\"><div class=\"sk-label-container\"><div class=\"sk-label sk-toggleable\"><input class=\"sk-toggleable__control sk-hidden--visually\" id=\"sk-estimator-id-12\" type=\"checkbox\" ><label for=\"sk-estimator-id-12\" class=\"sk-toggleable__label sk-toggleable__label-arrow\">GridSearchCV</label><div class=\"sk-toggleable__content\"><pre>GridSearchCV(cv=2,\n",
              "             estimator=Pipeline(steps=[(&#x27;preprocess&#x27;,\n",
              "                                        ColumnTransformer(remainder=&#x27;passthrough&#x27;,\n",
              "                                                          transformers=[(&#x27;imputer_cat&#x27;,\n",
              "                                                                         SimpleImputer(add_indicator=True,\n",
              "                                                                                       strategy=&#x27;most_frequent&#x27;),\n",
              "                                                                         [&#x27;test_date&#x27;,\n",
              "                                                                          &#x27;cough&#x27;,\n",
              "                                                                          &#x27;fever&#x27;,\n",
              "                                                                          &#x27;sore_throat&#x27;,\n",
              "                                                                          &#x27;shortness_of_breath&#x27;,\n",
              "                                                                          &#x27;head_ache&#x27;,\n",
              "                                                                          &#x27;age_60_and_above&#x27;,\n",
              "                                                                          &#x27;gender&#x27;,\n",
              "                                                                          &#x27;test_indication&#x27;]),\n",
              "                                                                        (&#x27;converter&#x27;,\n",
              "                                                                         FunctionTransformer(func...\n",
              "                                                                          &#x27;fever&#x27;,\n",
              "                                                                          &#x27;sore_throat&#x27;,\n",
              "                                                                          &#x27;shortness_of_breath&#x27;,\n",
              "                                                                          &#x27;head_ache&#x27;,\n",
              "                                                                          &#x27;age_60_and_above&#x27;,\n",
              "                                                                          &#x27;gender&#x27;,\n",
              "                                                                          &#x27;test_indication&#x27;]),\n",
              "                                                                        (&#x27;imputer_num&#x27;,\n",
              "                                                                         SimpleImputer(add_indicator=True),\n",
              "                                                                         [])])),\n",
              "                                       (&#x27;rf&#x27;,\n",
              "                                        RandomForestClassifier(class_weight=&#x27;balanced_subsample&#x27;,\n",
              "                                                               criterion=&#x27;entropy&#x27;,\n",
              "                                                               n_estimators=200))]),\n",
              "             n_jobs=-1,\n",
              "             param_grid={&#x27;rf__max_depth&#x27;: [10], &#x27;rf__min_samples_leaf&#x27;: [10]},\n",
              "             scoring=&#x27;roc_auc&#x27;)</pre></div></div></div><div class=\"sk-parallel\"><div class=\"sk-parallel-item\"><div class=\"sk-item\"><div class=\"sk-label-container\"><div class=\"sk-label sk-toggleable\"><input class=\"sk-toggleable__control sk-hidden--visually\" id=\"sk-estimator-id-13\" type=\"checkbox\" ><label for=\"sk-estimator-id-13\" class=\"sk-toggleable__label sk-toggleable__label-arrow\">estimator: Pipeline</label><div class=\"sk-toggleable__content\"><pre>Pipeline(steps=[(&#x27;preprocess&#x27;,\n",
              "                 ColumnTransformer(remainder=&#x27;passthrough&#x27;,\n",
              "                                   transformers=[(&#x27;imputer_cat&#x27;,\n",
              "                                                  SimpleImputer(add_indicator=True,\n",
              "                                                                strategy=&#x27;most_frequent&#x27;),\n",
              "                                                  [&#x27;test_date&#x27;, &#x27;cough&#x27;,\n",
              "                                                   &#x27;fever&#x27;, &#x27;sore_throat&#x27;,\n",
              "                                                   &#x27;shortness_of_breath&#x27;,\n",
              "                                                   &#x27;head_ache&#x27;,\n",
              "                                                   &#x27;age_60_and_above&#x27;, &#x27;gender&#x27;,\n",
              "                                                   &#x27;test_indication&#x27;]),\n",
              "                                                 (&#x27;converter&#x27;,\n",
              "                                                  FunctionTransformer(func=&lt;function &lt;lambda&gt; at 0x7bfe4567f910&gt;),\n",
              "                                                  [&#x27;test_date&#x27;, &#x27;cough&#x27;,\n",
              "                                                   &#x27;fever&#x27;, &#x27;sore_throat&#x27;,\n",
              "                                                   &#x27;shortness_of_breath&#x27;,\n",
              "                                                   &#x27;head_ache&#x27;,\n",
              "                                                   &#x27;age_60_and_above&#x27;, &#x27;gender&#x27;,\n",
              "                                                   &#x27;test_indication&#x27;]),\n",
              "                                                 (&#x27;imputer_num&#x27;,\n",
              "                                                  SimpleImputer(add_indicator=True),\n",
              "                                                  [])])),\n",
              "                (&#x27;rf&#x27;,\n",
              "                 RandomForestClassifier(class_weight=&#x27;balanced_subsample&#x27;,\n",
              "                                        criterion=&#x27;entropy&#x27;,\n",
              "                                        n_estimators=200))])</pre></div></div></div><div class=\"sk-serial\"><div class=\"sk-item\"><div class=\"sk-serial\"><div class=\"sk-item sk-dashed-wrapped\"><div class=\"sk-label-container\"><div class=\"sk-label sk-toggleable\"><input class=\"sk-toggleable__control sk-hidden--visually\" id=\"sk-estimator-id-14\" type=\"checkbox\" ><label for=\"sk-estimator-id-14\" class=\"sk-toggleable__label sk-toggleable__label-arrow\">preprocess: ColumnTransformer</label><div class=\"sk-toggleable__content\"><pre>ColumnTransformer(remainder=&#x27;passthrough&#x27;,\n",
              "                  transformers=[(&#x27;imputer_cat&#x27;,\n",
              "                                 SimpleImputer(add_indicator=True,\n",
              "                                               strategy=&#x27;most_frequent&#x27;),\n",
              "                                 [&#x27;test_date&#x27;, &#x27;cough&#x27;, &#x27;fever&#x27;, &#x27;sore_throat&#x27;,\n",
              "                                  &#x27;shortness_of_breath&#x27;, &#x27;head_ache&#x27;,\n",
              "                                  &#x27;age_60_and_above&#x27;, &#x27;gender&#x27;,\n",
              "                                  &#x27;test_indication&#x27;]),\n",
              "                                (&#x27;converter&#x27;,\n",
              "                                 FunctionTransformer(func=&lt;function &lt;lambda&gt; at 0x7bfe4567f910&gt;),\n",
              "                                 [&#x27;test_date&#x27;, &#x27;cough&#x27;, &#x27;fever&#x27;, &#x27;sore_throat&#x27;,\n",
              "                                  &#x27;shortness_of_breath&#x27;, &#x27;head_ache&#x27;,\n",
              "                                  &#x27;age_60_and_above&#x27;, &#x27;gender&#x27;,\n",
              "                                  &#x27;test_indication&#x27;]),\n",
              "                                (&#x27;imputer_num&#x27;,\n",
              "                                 SimpleImputer(add_indicator=True), [])])</pre></div></div></div><div class=\"sk-parallel\"><div class=\"sk-parallel-item\"><div class=\"sk-item\"><div class=\"sk-label-container\"><div class=\"sk-label sk-toggleable\"><input class=\"sk-toggleable__control sk-hidden--visually\" id=\"sk-estimator-id-15\" type=\"checkbox\" ><label for=\"sk-estimator-id-15\" class=\"sk-toggleable__label sk-toggleable__label-arrow\">imputer_cat</label><div class=\"sk-toggleable__content\"><pre>[&#x27;test_date&#x27;, &#x27;cough&#x27;, &#x27;fever&#x27;, &#x27;sore_throat&#x27;, &#x27;shortness_of_breath&#x27;, &#x27;head_ache&#x27;, &#x27;age_60_and_above&#x27;, &#x27;gender&#x27;, &#x27;test_indication&#x27;]</pre></div></div></div><div class=\"sk-serial\"><div class=\"sk-item\"><div class=\"sk-estimator sk-toggleable\"><input class=\"sk-toggleable__control sk-hidden--visually\" id=\"sk-estimator-id-16\" type=\"checkbox\" ><label for=\"sk-estimator-id-16\" class=\"sk-toggleable__label sk-toggleable__label-arrow\">SimpleImputer</label><div class=\"sk-toggleable__content\"><pre>SimpleImputer(add_indicator=True, strategy=&#x27;most_frequent&#x27;)</pre></div></div></div></div></div></div><div class=\"sk-parallel-item\"><div class=\"sk-item\"><div class=\"sk-label-container\"><div class=\"sk-label sk-toggleable\"><input class=\"sk-toggleable__control sk-hidden--visually\" id=\"sk-estimator-id-17\" type=\"checkbox\" ><label for=\"sk-estimator-id-17\" class=\"sk-toggleable__label sk-toggleable__label-arrow\">converter</label><div class=\"sk-toggleable__content\"><pre>[&#x27;test_date&#x27;, &#x27;cough&#x27;, &#x27;fever&#x27;, &#x27;sore_throat&#x27;, &#x27;shortness_of_breath&#x27;, &#x27;head_ache&#x27;, &#x27;age_60_and_above&#x27;, &#x27;gender&#x27;, &#x27;test_indication&#x27;]</pre></div></div></div><div class=\"sk-serial\"><div class=\"sk-item\"><div class=\"sk-estimator sk-toggleable\"><input class=\"sk-toggleable__control sk-hidden--visually\" id=\"sk-estimator-id-18\" type=\"checkbox\" ><label for=\"sk-estimator-id-18\" class=\"sk-toggleable__label sk-toggleable__label-arrow\">FunctionTransformer</label><div class=\"sk-toggleable__content\"><pre>FunctionTransformer(func=&lt;function &lt;lambda&gt; at 0x7bfe4567f910&gt;)</pre></div></div></div></div></div></div><div class=\"sk-parallel-item\"><div class=\"sk-item\"><div class=\"sk-label-container\"><div class=\"sk-label sk-toggleable\"><input class=\"sk-toggleable__control sk-hidden--visually\" id=\"sk-estimator-id-19\" type=\"checkbox\" ><label for=\"sk-estimator-id-19\" class=\"sk-toggleable__label sk-toggleable__label-arrow\">imputer_num</label><div class=\"sk-toggleable__content\"><pre>[]</pre></div></div></div><div class=\"sk-serial\"><div class=\"sk-item\"><div class=\"sk-estimator sk-toggleable\"><input class=\"sk-toggleable__control sk-hidden--visually\" id=\"sk-estimator-id-20\" type=\"checkbox\" ><label for=\"sk-estimator-id-20\" class=\"sk-toggleable__label sk-toggleable__label-arrow\">SimpleImputer</label><div class=\"sk-toggleable__content\"><pre>SimpleImputer(add_indicator=True)</pre></div></div></div></div></div></div><div class=\"sk-parallel-item\"><div class=\"sk-item\"><div class=\"sk-label-container\"><div class=\"sk-label sk-toggleable\"><input class=\"sk-toggleable__control sk-hidden--visually\" id=\"sk-estimator-id-21\" type=\"checkbox\" ><label for=\"sk-estimator-id-21\" class=\"sk-toggleable__label sk-toggleable__label-arrow\">remainder</label><div class=\"sk-toggleable__content\"><pre></pre></div></div></div><div class=\"sk-serial\"><div class=\"sk-item\"><div class=\"sk-estimator sk-toggleable\"><input class=\"sk-toggleable__control sk-hidden--visually\" id=\"sk-estimator-id-22\" type=\"checkbox\" ><label for=\"sk-estimator-id-22\" class=\"sk-toggleable__label sk-toggleable__label-arrow\">passthrough</label><div class=\"sk-toggleable__content\"><pre>passthrough</pre></div></div></div></div></div></div></div></div><div class=\"sk-item\"><div class=\"sk-estimator sk-toggleable\"><input class=\"sk-toggleable__control sk-hidden--visually\" id=\"sk-estimator-id-23\" type=\"checkbox\" ><label for=\"sk-estimator-id-23\" class=\"sk-toggleable__label sk-toggleable__label-arrow\">RandomForestClassifier</label><div class=\"sk-toggleable__content\"><pre>RandomForestClassifier(class_weight=&#x27;balanced_subsample&#x27;, criterion=&#x27;entropy&#x27;,\n",
              "                       n_estimators=200)</pre></div></div></div></div></div></div></div></div></div></div></div></div>"
            ]
          },
          "metadata": {},
          "execution_count": 73
        }
      ]
    },
    {
      "cell_type": "code",
      "source": [
        "# Get the best model and its performance\n",
        "print(f' Best model: { search_rf.best_estimator_}')\n",
        "print(f'Best_score:  {search_rf.best_score_}')\n",
        "print(f'Best_params: {search_rf.best_params_}')\n"
      ],
      "metadata": {
        "id": "9IwYl_tOljjA",
        "colab": {
          "base_uri": "https://localhost:8080/"
        },
        "outputId": "48310249-0a3b-44c3-883d-8ac59549b70a"
      },
      "execution_count": null,
      "outputs": [
        {
          "output_type": "stream",
          "name": "stdout",
          "text": [
            " Best model: Pipeline(steps=[('preprocess',\n",
            "                 ColumnTransformer(remainder='passthrough',\n",
            "                                   transformers=[('imputer_cat',\n",
            "                                                  SimpleImputer(add_indicator=True,\n",
            "                                                                strategy='most_frequent'),\n",
            "                                                  ['test_date', 'cough',\n",
            "                                                   'fever', 'sore_throat',\n",
            "                                                   'shortness_of_breath',\n",
            "                                                   'head_ache',\n",
            "                                                   'age_60_and_above', 'gender',\n",
            "                                                   'test_indication']),\n",
            "                                                 ('converter',\n",
            "                                                  FunctionTransformer(func=<function <lambda> at 0x7bfe4567f910>),\n",
            "                                                  ['test_date', 'cough',\n",
            "                                                   'fever', 'sore_throat',\n",
            "                                                   'shortness_of_breath',\n",
            "                                                   'head_ache',\n",
            "                                                   'age_60_and_above', 'gender',\n",
            "                                                   'test_indication']),\n",
            "                                                 ('imputer_num',\n",
            "                                                  SimpleImputer(add_indicator=True),\n",
            "                                                  [])])),\n",
            "                ('rf',\n",
            "                 RandomForestClassifier(class_weight='balanced_subsample',\n",
            "                                        criterion='entropy', max_depth=10,\n",
            "                                        min_samples_leaf=10,\n",
            "                                        n_estimators=200))])\n",
            "Best_score:  0.9094884092169416\n",
            "Best_params: {'rf__max_depth': 10, 'rf__min_samples_leaf': 10}\n"
          ]
        }
      ]
    },
    {
      "cell_type": "code",
      "source": [
        "best_model_rf = search_rf.best_estimator_"
      ],
      "metadata": {
        "id": "EVJOjISYolgP"
      },
      "execution_count": null,
      "outputs": []
    },
    {
      "cell_type": "code",
      "source": [
        "best_model_rf.fit(X_train, y_train)"
      ],
      "metadata": {
        "id": "MsxouYvbo9Gc",
        "colab": {
          "base_uri": "https://localhost:8080/",
          "height": 192
        },
        "outputId": "c663e7bb-1de1-410a-d874-1e4137b95524"
      },
      "execution_count": null,
      "outputs": [
        {
          "output_type": "execute_result",
          "data": {
            "text/plain": [
              "Pipeline(steps=[('preprocess',\n",
              "                 ColumnTransformer(remainder='passthrough',\n",
              "                                   transformers=[('imputer_cat',\n",
              "                                                  SimpleImputer(add_indicator=True,\n",
              "                                                                strategy='most_frequent'),\n",
              "                                                  ['test_date', 'cough',\n",
              "                                                   'fever', 'sore_throat',\n",
              "                                                   'shortness_of_breath',\n",
              "                                                   'head_ache',\n",
              "                                                   'age_60_and_above', 'gender',\n",
              "                                                   'test_indication']),\n",
              "                                                 ('converter',\n",
              "                                                  FunctionTransformer(func=<function <lambda> at 0x7bfe4567f910>),\n",
              "                                                  ['test_date', 'cough',\n",
              "                                                   'fever', 'sore_throat',\n",
              "                                                   'shortness_of_breath',\n",
              "                                                   'head_ache',\n",
              "                                                   'age_60_and_above', 'gender',\n",
              "                                                   'test_indication']),\n",
              "                                                 ('imputer_num',\n",
              "                                                  SimpleImputer(add_indicator=True),\n",
              "                                                  [])])),\n",
              "                ('rf',\n",
              "                 RandomForestClassifier(class_weight='balanced_subsample',\n",
              "                                        criterion='entropy', max_depth=10,\n",
              "                                        min_samples_leaf=10,\n",
              "                                        n_estimators=200))])"
            ],
            "text/html": [
              "<style>#sk-container-id-3 {color: black;background-color: white;}#sk-container-id-3 pre{padding: 0;}#sk-container-id-3 div.sk-toggleable {background-color: white;}#sk-container-id-3 label.sk-toggleable__label {cursor: pointer;display: block;width: 100%;margin-bottom: 0;padding: 0.3em;box-sizing: border-box;text-align: center;}#sk-container-id-3 label.sk-toggleable__label-arrow:before {content: \"▸\";float: left;margin-right: 0.25em;color: #696969;}#sk-container-id-3 label.sk-toggleable__label-arrow:hover:before {color: black;}#sk-container-id-3 div.sk-estimator:hover label.sk-toggleable__label-arrow:before {color: black;}#sk-container-id-3 div.sk-toggleable__content {max-height: 0;max-width: 0;overflow: hidden;text-align: left;background-color: #f0f8ff;}#sk-container-id-3 div.sk-toggleable__content pre {margin: 0.2em;color: black;border-radius: 0.25em;background-color: #f0f8ff;}#sk-container-id-3 input.sk-toggleable__control:checked~div.sk-toggleable__content {max-height: 200px;max-width: 100%;overflow: auto;}#sk-container-id-3 input.sk-toggleable__control:checked~label.sk-toggleable__label-arrow:before {content: \"▾\";}#sk-container-id-3 div.sk-estimator input.sk-toggleable__control:checked~label.sk-toggleable__label {background-color: #d4ebff;}#sk-container-id-3 div.sk-label input.sk-toggleable__control:checked~label.sk-toggleable__label {background-color: #d4ebff;}#sk-container-id-3 input.sk-hidden--visually {border: 0;clip: rect(1px 1px 1px 1px);clip: rect(1px, 1px, 1px, 1px);height: 1px;margin: -1px;overflow: hidden;padding: 0;position: absolute;width: 1px;}#sk-container-id-3 div.sk-estimator {font-family: monospace;background-color: #f0f8ff;border: 1px dotted black;border-radius: 0.25em;box-sizing: border-box;margin-bottom: 0.5em;}#sk-container-id-3 div.sk-estimator:hover {background-color: #d4ebff;}#sk-container-id-3 div.sk-parallel-item::after {content: \"\";width: 100%;border-bottom: 1px solid gray;flex-grow: 1;}#sk-container-id-3 div.sk-label:hover label.sk-toggleable__label {background-color: #d4ebff;}#sk-container-id-3 div.sk-serial::before {content: \"\";position: absolute;border-left: 1px solid gray;box-sizing: border-box;top: 0;bottom: 0;left: 50%;z-index: 0;}#sk-container-id-3 div.sk-serial {display: flex;flex-direction: column;align-items: center;background-color: white;padding-right: 0.2em;padding-left: 0.2em;position: relative;}#sk-container-id-3 div.sk-item {position: relative;z-index: 1;}#sk-container-id-3 div.sk-parallel {display: flex;align-items: stretch;justify-content: center;background-color: white;position: relative;}#sk-container-id-3 div.sk-item::before, #sk-container-id-3 div.sk-parallel-item::before {content: \"\";position: absolute;border-left: 1px solid gray;box-sizing: border-box;top: 0;bottom: 0;left: 50%;z-index: -1;}#sk-container-id-3 div.sk-parallel-item {display: flex;flex-direction: column;z-index: 1;position: relative;background-color: white;}#sk-container-id-3 div.sk-parallel-item:first-child::after {align-self: flex-end;width: 50%;}#sk-container-id-3 div.sk-parallel-item:last-child::after {align-self: flex-start;width: 50%;}#sk-container-id-3 div.sk-parallel-item:only-child::after {width: 0;}#sk-container-id-3 div.sk-dashed-wrapped {border: 1px dashed gray;margin: 0 0.4em 0.5em 0.4em;box-sizing: border-box;padding-bottom: 0.4em;background-color: white;}#sk-container-id-3 div.sk-label label {font-family: monospace;font-weight: bold;display: inline-block;line-height: 1.2em;}#sk-container-id-3 div.sk-label-container {text-align: center;}#sk-container-id-3 div.sk-container {/* jupyter's `normalize.less` sets `[hidden] { display: none; }` but bootstrap.min.css set `[hidden] { display: none !important; }` so we also need the `!important` here to be able to override the default hidden behavior on the sphinx rendered scikit-learn.org. See: https://github.com/scikit-learn/scikit-learn/issues/21755 */display: inline-block !important;position: relative;}#sk-container-id-3 div.sk-text-repr-fallback {display: none;}</style><div id=\"sk-container-id-3\" class=\"sk-top-container\"><div class=\"sk-text-repr-fallback\"><pre>Pipeline(steps=[(&#x27;preprocess&#x27;,\n",
              "                 ColumnTransformer(remainder=&#x27;passthrough&#x27;,\n",
              "                                   transformers=[(&#x27;imputer_cat&#x27;,\n",
              "                                                  SimpleImputer(add_indicator=True,\n",
              "                                                                strategy=&#x27;most_frequent&#x27;),\n",
              "                                                  [&#x27;test_date&#x27;, &#x27;cough&#x27;,\n",
              "                                                   &#x27;fever&#x27;, &#x27;sore_throat&#x27;,\n",
              "                                                   &#x27;shortness_of_breath&#x27;,\n",
              "                                                   &#x27;head_ache&#x27;,\n",
              "                                                   &#x27;age_60_and_above&#x27;, &#x27;gender&#x27;,\n",
              "                                                   &#x27;test_indication&#x27;]),\n",
              "                                                 (&#x27;converter&#x27;,\n",
              "                                                  FunctionTransformer(func=&lt;function &lt;lambda&gt; at 0x7bfe4567f910&gt;),\n",
              "                                                  [&#x27;test_date&#x27;, &#x27;cough&#x27;,\n",
              "                                                   &#x27;fever&#x27;, &#x27;sore_throat&#x27;,\n",
              "                                                   &#x27;shortness_of_breath&#x27;,\n",
              "                                                   &#x27;head_ache&#x27;,\n",
              "                                                   &#x27;age_60_and_above&#x27;, &#x27;gender&#x27;,\n",
              "                                                   &#x27;test_indication&#x27;]),\n",
              "                                                 (&#x27;imputer_num&#x27;,\n",
              "                                                  SimpleImputer(add_indicator=True),\n",
              "                                                  [])])),\n",
              "                (&#x27;rf&#x27;,\n",
              "                 RandomForestClassifier(class_weight=&#x27;balanced_subsample&#x27;,\n",
              "                                        criterion=&#x27;entropy&#x27;, max_depth=10,\n",
              "                                        min_samples_leaf=10,\n",
              "                                        n_estimators=200))])</pre><b>In a Jupyter environment, please rerun this cell to show the HTML representation or trust the notebook. <br />On GitHub, the HTML representation is unable to render, please try loading this page with nbviewer.org.</b></div><div class=\"sk-container\" hidden><div class=\"sk-item sk-dashed-wrapped\"><div class=\"sk-label-container\"><div class=\"sk-label sk-toggleable\"><input class=\"sk-toggleable__control sk-hidden--visually\" id=\"sk-estimator-id-24\" type=\"checkbox\" ><label for=\"sk-estimator-id-24\" class=\"sk-toggleable__label sk-toggleable__label-arrow\">Pipeline</label><div class=\"sk-toggleable__content\"><pre>Pipeline(steps=[(&#x27;preprocess&#x27;,\n",
              "                 ColumnTransformer(remainder=&#x27;passthrough&#x27;,\n",
              "                                   transformers=[(&#x27;imputer_cat&#x27;,\n",
              "                                                  SimpleImputer(add_indicator=True,\n",
              "                                                                strategy=&#x27;most_frequent&#x27;),\n",
              "                                                  [&#x27;test_date&#x27;, &#x27;cough&#x27;,\n",
              "                                                   &#x27;fever&#x27;, &#x27;sore_throat&#x27;,\n",
              "                                                   &#x27;shortness_of_breath&#x27;,\n",
              "                                                   &#x27;head_ache&#x27;,\n",
              "                                                   &#x27;age_60_and_above&#x27;, &#x27;gender&#x27;,\n",
              "                                                   &#x27;test_indication&#x27;]),\n",
              "                                                 (&#x27;converter&#x27;,\n",
              "                                                  FunctionTransformer(func=&lt;function &lt;lambda&gt; at 0x7bfe4567f910&gt;),\n",
              "                                                  [&#x27;test_date&#x27;, &#x27;cough&#x27;,\n",
              "                                                   &#x27;fever&#x27;, &#x27;sore_throat&#x27;,\n",
              "                                                   &#x27;shortness_of_breath&#x27;,\n",
              "                                                   &#x27;head_ache&#x27;,\n",
              "                                                   &#x27;age_60_and_above&#x27;, &#x27;gender&#x27;,\n",
              "                                                   &#x27;test_indication&#x27;]),\n",
              "                                                 (&#x27;imputer_num&#x27;,\n",
              "                                                  SimpleImputer(add_indicator=True),\n",
              "                                                  [])])),\n",
              "                (&#x27;rf&#x27;,\n",
              "                 RandomForestClassifier(class_weight=&#x27;balanced_subsample&#x27;,\n",
              "                                        criterion=&#x27;entropy&#x27;, max_depth=10,\n",
              "                                        min_samples_leaf=10,\n",
              "                                        n_estimators=200))])</pre></div></div></div><div class=\"sk-serial\"><div class=\"sk-item sk-dashed-wrapped\"><div class=\"sk-label-container\"><div class=\"sk-label sk-toggleable\"><input class=\"sk-toggleable__control sk-hidden--visually\" id=\"sk-estimator-id-25\" type=\"checkbox\" ><label for=\"sk-estimator-id-25\" class=\"sk-toggleable__label sk-toggleable__label-arrow\">preprocess: ColumnTransformer</label><div class=\"sk-toggleable__content\"><pre>ColumnTransformer(remainder=&#x27;passthrough&#x27;,\n",
              "                  transformers=[(&#x27;imputer_cat&#x27;,\n",
              "                                 SimpleImputer(add_indicator=True,\n",
              "                                               strategy=&#x27;most_frequent&#x27;),\n",
              "                                 [&#x27;test_date&#x27;, &#x27;cough&#x27;, &#x27;fever&#x27;, &#x27;sore_throat&#x27;,\n",
              "                                  &#x27;shortness_of_breath&#x27;, &#x27;head_ache&#x27;,\n",
              "                                  &#x27;age_60_and_above&#x27;, &#x27;gender&#x27;,\n",
              "                                  &#x27;test_indication&#x27;]),\n",
              "                                (&#x27;converter&#x27;,\n",
              "                                 FunctionTransformer(func=&lt;function &lt;lambda&gt; at 0x7bfe4567f910&gt;),\n",
              "                                 [&#x27;test_date&#x27;, &#x27;cough&#x27;, &#x27;fever&#x27;, &#x27;sore_throat&#x27;,\n",
              "                                  &#x27;shortness_of_breath&#x27;, &#x27;head_ache&#x27;,\n",
              "                                  &#x27;age_60_and_above&#x27;, &#x27;gender&#x27;,\n",
              "                                  &#x27;test_indication&#x27;]),\n",
              "                                (&#x27;imputer_num&#x27;,\n",
              "                                 SimpleImputer(add_indicator=True), [])])</pre></div></div></div><div class=\"sk-parallel\"><div class=\"sk-parallel-item\"><div class=\"sk-item\"><div class=\"sk-label-container\"><div class=\"sk-label sk-toggleable\"><input class=\"sk-toggleable__control sk-hidden--visually\" id=\"sk-estimator-id-26\" type=\"checkbox\" ><label for=\"sk-estimator-id-26\" class=\"sk-toggleable__label sk-toggleable__label-arrow\">imputer_cat</label><div class=\"sk-toggleable__content\"><pre>[&#x27;test_date&#x27;, &#x27;cough&#x27;, &#x27;fever&#x27;, &#x27;sore_throat&#x27;, &#x27;shortness_of_breath&#x27;, &#x27;head_ache&#x27;, &#x27;age_60_and_above&#x27;, &#x27;gender&#x27;, &#x27;test_indication&#x27;]</pre></div></div></div><div class=\"sk-serial\"><div class=\"sk-item\"><div class=\"sk-estimator sk-toggleable\"><input class=\"sk-toggleable__control sk-hidden--visually\" id=\"sk-estimator-id-27\" type=\"checkbox\" ><label for=\"sk-estimator-id-27\" class=\"sk-toggleable__label sk-toggleable__label-arrow\">SimpleImputer</label><div class=\"sk-toggleable__content\"><pre>SimpleImputer(add_indicator=True, strategy=&#x27;most_frequent&#x27;)</pre></div></div></div></div></div></div><div class=\"sk-parallel-item\"><div class=\"sk-item\"><div class=\"sk-label-container\"><div class=\"sk-label sk-toggleable\"><input class=\"sk-toggleable__control sk-hidden--visually\" id=\"sk-estimator-id-28\" type=\"checkbox\" ><label for=\"sk-estimator-id-28\" class=\"sk-toggleable__label sk-toggleable__label-arrow\">converter</label><div class=\"sk-toggleable__content\"><pre>[&#x27;test_date&#x27;, &#x27;cough&#x27;, &#x27;fever&#x27;, &#x27;sore_throat&#x27;, &#x27;shortness_of_breath&#x27;, &#x27;head_ache&#x27;, &#x27;age_60_and_above&#x27;, &#x27;gender&#x27;, &#x27;test_indication&#x27;]</pre></div></div></div><div class=\"sk-serial\"><div class=\"sk-item\"><div class=\"sk-estimator sk-toggleable\"><input class=\"sk-toggleable__control sk-hidden--visually\" id=\"sk-estimator-id-29\" type=\"checkbox\" ><label for=\"sk-estimator-id-29\" class=\"sk-toggleable__label sk-toggleable__label-arrow\">FunctionTransformer</label><div class=\"sk-toggleable__content\"><pre>FunctionTransformer(func=&lt;function &lt;lambda&gt; at 0x7bfe4567f910&gt;)</pre></div></div></div></div></div></div><div class=\"sk-parallel-item\"><div class=\"sk-item\"><div class=\"sk-label-container\"><div class=\"sk-label sk-toggleable\"><input class=\"sk-toggleable__control sk-hidden--visually\" id=\"sk-estimator-id-30\" type=\"checkbox\" ><label for=\"sk-estimator-id-30\" class=\"sk-toggleable__label sk-toggleable__label-arrow\">imputer_num</label><div class=\"sk-toggleable__content\"><pre>[]</pre></div></div></div><div class=\"sk-serial\"><div class=\"sk-item\"><div class=\"sk-estimator sk-toggleable\"><input class=\"sk-toggleable__control sk-hidden--visually\" id=\"sk-estimator-id-31\" type=\"checkbox\" ><label for=\"sk-estimator-id-31\" class=\"sk-toggleable__label sk-toggleable__label-arrow\">SimpleImputer</label><div class=\"sk-toggleable__content\"><pre>SimpleImputer(add_indicator=True)</pre></div></div></div></div></div></div><div class=\"sk-parallel-item\"><div class=\"sk-item\"><div class=\"sk-label-container\"><div class=\"sk-label sk-toggleable\"><input class=\"sk-toggleable__control sk-hidden--visually\" id=\"sk-estimator-id-32\" type=\"checkbox\" ><label for=\"sk-estimator-id-32\" class=\"sk-toggleable__label sk-toggleable__label-arrow\">remainder</label><div class=\"sk-toggleable__content\"><pre>[]</pre></div></div></div><div class=\"sk-serial\"><div class=\"sk-item\"><div class=\"sk-estimator sk-toggleable\"><input class=\"sk-toggleable__control sk-hidden--visually\" id=\"sk-estimator-id-33\" type=\"checkbox\" ><label for=\"sk-estimator-id-33\" class=\"sk-toggleable__label sk-toggleable__label-arrow\">passthrough</label><div class=\"sk-toggleable__content\"><pre>passthrough</pre></div></div></div></div></div></div></div></div><div class=\"sk-item\"><div class=\"sk-estimator sk-toggleable\"><input class=\"sk-toggleable__control sk-hidden--visually\" id=\"sk-estimator-id-34\" type=\"checkbox\" ><label for=\"sk-estimator-id-34\" class=\"sk-toggleable__label sk-toggleable__label-arrow\">RandomForestClassifier</label><div class=\"sk-toggleable__content\"><pre>RandomForestClassifier(class_weight=&#x27;balanced_subsample&#x27;, criterion=&#x27;entropy&#x27;,\n",
              "                       max_depth=10, min_samples_leaf=10, n_estimators=200)</pre></div></div></div></div></div></div></div>"
            ]
          },
          "metadata": {},
          "execution_count": 76
        }
      ]
    },
    {
      "cell_type": "code",
      "source": [
        "y_pred = best_model_rf.predict_proba(X_test).flatten()"
      ],
      "metadata": {
        "id": "vA52PrskpI-W"
      },
      "execution_count": null,
      "outputs": []
    },
    {
      "cell_type": "code",
      "source": [
        "y_pred"
      ],
      "metadata": {
        "id": "c0gI_ch8pRDk",
        "colab": {
          "base_uri": "https://localhost:8080/"
        },
        "outputId": "ee40e14a-6053-4f54-abfd-bf7137ca76f9"
      },
      "execution_count": null,
      "outputs": [
        {
          "output_type": "execute_result",
          "data": {
            "text/plain": [
              "array([0.76198235, 0.23801765, 0.84257144, ..., 0.11218582, 0.87154946,\n",
              "       0.12845054])"
            ]
          },
          "metadata": {},
          "execution_count": 295
        }
      ]
    },
    {
      "cell_type": "markdown",
      "source": [
        "## Evaluation"
      ],
      "metadata": {
        "id": "g30lSgWvNIo-"
      }
    },
    {
      "cell_type": "code",
      "source": [
        "from sklearn.metrics import classification_report\n",
        "\n",
        "y_probs = best_model.predict_proba(X_test)[:, 1].flatten()\n",
        "# Convert probabilities to class labels\n",
        "y_pred = (y_probs > 0.22).astype(int)\n",
        "print(classification_report(y_test, y_pred))"
      ],
      "metadata": {
        "id": "dc5UZamXpWsg",
        "colab": {
          "base_uri": "https://localhost:8080/"
        },
        "outputId": "e99b6ad2-f7c8-4b77-9aef-18c000c2d713"
      },
      "execution_count": null,
      "outputs": [
        {
          "output_type": "stream",
          "name": "stdout",
          "text": [
            "              precision    recall  f1-score   support\n",
            "\n",
            "           0       0.99      0.76      0.86     52064\n",
            "           1       0.16      0.87      0.28      2877\n",
            "\n",
            "    accuracy                           0.76     54941\n",
            "   macro avg       0.58      0.81      0.57     54941\n",
            "weighted avg       0.95      0.76      0.83     54941\n",
            "\n"
          ]
        }
      ]
    },
    {
      "cell_type": "code",
      "source": [
        "from sklearn.metrics import roc_curve, roc_auc_score\n",
        "import matplotlib.pyplot as plt\n",
        "\n",
        "# Predict probabilities for the test data.\n",
        "y_probs = best_model_rf.predict_proba(X_test)[:, 1]\n",
        "\n",
        "# Calculate the ROC curve points\n",
        "fpr, tpr, thresholds = roc_curve(y_test, y_probs)\n",
        "\n",
        "# Plot the ROC curve\n",
        "plt.figure(figsize=(8, 6))\n",
        "plt.plot(fpr, tpr)\n",
        "plt.plot([0, 1], [0, 1], linestyle='--')\n",
        "plt.title('ROC curve')\n",
        "plt.xlabel('False Positive Rate')\n",
        "plt.ylabel('True Positive Rate')\n",
        "\n",
        "# Print the AUC-ROC score\n",
        "print('AUC-ROC:', roc_auc_score(y_test, y_probs))"
      ],
      "metadata": {
        "id": "eMcZA1VppyG_",
        "colab": {
          "base_uri": "https://localhost:8080/",
          "height": 582
        },
        "outputId": "c71f5f29-4f5d-49b2-d3df-ff12787045b9"
      },
      "execution_count": null,
      "outputs": [
        {
          "output_type": "stream",
          "name": "stdout",
          "text": [
            "AUC-ROC: 0.9081597708464585\n"
          ]
        },
        {
          "output_type": "display_data",
          "data": {
            "text/plain": [
              "<Figure size 800x600 with 1 Axes>"
            ],
            "image/png": "[encoded data removed]"
          },
          "metadata": {}
        }
      ]
    },
    {
      "cell_type": "code",
      "source": [
        "from sklearn.metrics import precision_recall_curve, average_precision_score\n",
        "\n",
        "# Calculate the precision-recall curve\n",
        "precision, recall, thresholds = precision_recall_curve(y_test, y_probs)\n",
        "\n",
        "# Plot the precision-recall curve\n",
        "plt.figure(figsize=(8, 6))\n",
        "plt.plot(recall, precision)\n",
        "plt.title('Precision-Recall curve')\n",
        "plt.xlabel('Recall')\n",
        "plt.ylabel('Precision')\n",
        "\n",
        "# Print the average precision score\n",
        "print('Average precision score:', average_precision_score(y_test, y_probs))"
      ],
      "metadata": {
        "id": "54D1UoECqAwR",
        "colab": {
          "base_uri": "https://localhost:8080/",
          "height": 582
        },
        "outputId": "be91b278-1f13-4e08-ddb9-bed8664e42c9"
      },
      "execution_count": null,
      "outputs": [
        {
          "output_type": "stream",
          "name": "stdout",
          "text": [
            "Average precision score: 0.6895607066291722\n"
          ]
        },
        {
          "output_type": "display_data",
          "data": {
            "text/plain": [
              "<Figure size 800x600 with 1 Axes>"
            ],
            "image/png": "[encoded data removed]"
          },
          "metadata": {}
        }
      ]
    },
    {
      "cell_type": "code",
      "source": [
        "from sklearn.metrics import fbeta_score, recall_score, precision_score"
      ],
      "metadata": {
        "id": "mWoXHUsus8fi"
      },
      "execution_count": null,
      "outputs": []
    },
    {
      "cell_type": "code",
      "source": [
        "y_probs = best_model_rf.predict_proba(X_test)[:, 1]"
      ],
      "metadata": {
        "id": "1TUxmXXBtLnR"
      },
      "execution_count": null,
      "outputs": []
    },
    {
      "cell_type": "code",
      "source": [
        "threshold = 0.2 # lowering the threshold, increases the recall\n",
        "y_pred = (y_probs >= threshold).astype(int)"
      ],
      "metadata": {
        "id": "389f7neLtGXE"
      },
      "execution_count": null,
      "outputs": []
    },
    {
      "cell_type": "code",
      "source": [
        "f2 = fbeta_score(y_test, y_pred, beta=2)\n",
        "f2"
      ],
      "metadata": {
        "id": "wlM7xwSHs9so",
        "colab": {
          "base_uri": "https://localhost:8080/"
        },
        "outputId": "36c0dec9-7b98-4e43-9cc6-6d6ac43acd12"
      },
      "execution_count": null,
      "outputs": [
        {
          "output_type": "execute_result",
          "data": {
            "text/plain": [
              "0.47689188155176376"
            ]
          },
          "metadata": {},
          "execution_count": 89
        }
      ]
    },
    {
      "cell_type": "code",
      "source": [
        "recall_score(y_test, y_pred)"
      ],
      "metadata": {
        "id": "DuEvNDZh_K5w",
        "colab": {
          "base_uri": "https://localhost:8080/"
        },
        "outputId": "37821ed8-3616-4340-afd4-cb0fa411187c"
      },
      "execution_count": null,
      "outputs": [
        {
          "output_type": "execute_result",
          "data": {
            "text/plain": [
              "0.8665276329509907"
            ]
          },
          "metadata": {},
          "execution_count": 90
        }
      ]
    },
    {
      "cell_type": "code",
      "source": [
        "precision_score(y_test, y_pred)"
      ],
      "metadata": {
        "id": "1adDVAkw_LC3",
        "colab": {
          "base_uri": "https://localhost:8080/"
        },
        "outputId": "29a93a5f-cef6-494c-d23a-dae7e20b6d7e"
      },
      "execution_count": null,
      "outputs": [
        {
          "output_type": "execute_result",
          "data": {
            "text/plain": [
              "0.17040328092959672"
            ]
          },
          "metadata": {},
          "execution_count": 91
        }
      ]
    },
    {
      "cell_type": "code",
      "source": [
        "from sklearn.metrics import confusion_matrix\n",
        "# Calculate the confusion matrix\n",
        "cf_matrix = confusion_matrix(y_test, y_pred, normalize='true')\n",
        "group_names = ['TN','FP','FN','TP']\n",
        "group_percentages = ['{0:.2%}'.format(value) for value in cf_matrix.flatten()/np.sum(cf_matrix)]\n",
        "labels = [f'{v1}\\n{v2}' for v1, v2, in zip(group_names,group_percentages)]\n",
        "labels = np.asarray(labels).reshape(2,2)\n",
        "sns.heatmap(cf_matrix, annot=labels, fmt='', cmap='Blues', xticklabels=['Negative', 'Positive'], yticklabels=['Negative', 'Positive'])"
      ],
      "metadata": {
        "id": "VE5-CZX5d50w",
        "colab": {
          "base_uri": "https://localhost:8080/",
          "height": 448
        },
        "outputId": "030e513c-ad87-42d1-8de9-ad3344648443"
      },
      "execution_count": null,
      "outputs": [
        {
          "output_type": "execute_result",
          "data": {
            "text/plain": [
              "<Axes: >"
            ]
          },
          "metadata": {},
          "execution_count": 92
        },
        {
          "output_type": "display_data",
          "data": {
            "text/plain": [
              "<Figure size 640x480 with 2 Axes>"
            ],
            "image/png": "[encoded data removed]"
          },
          "metadata": {}
        }
      ]
    },
    {
      "cell_type": "markdown",
      "source": [
        "# Stacking Model"
      ],
      "metadata": {
        "id": "AymxGRFSLxCH"
      }
    },
    {
      "cell_type": "code",
      "source": [
        "\n",
        "# Create the base classifiers\n",
        "mlp_clf = MLPClassifier(hidden_layer_sizes=(32, 50), activation='relu', solver='adam', alpha=0.01, max_iter=100, random_state=42)\n",
        "dt_clf = DecisionTreeClassifier(random_state=42)\n",
        "gnb_clf = GaussianNB()\n",
        "svc_clf = SVC(probability=True, random_state=42)\n",
        "knn_clf = KNeighborsClassifier(n_neighbors=3)\n",
        "\n",
        "# Create the meta-classifier (final estimator)\n",
        "logistic_clf = LogisticRegression(max_iter=300, random_state=42)\n",
        "\n",
        "# Create the stacking classifier\n",
        "ensemble_model = StackingClassifier(\n",
        "    estimators=[\n",
        "        ('mlp', mlp_clf),\n",
        "        ('decision_tree', dt_clf),\n",
        "        ('gnb', gnb_clf),\n",
        "        ('svc', svc_clf),\n",
        "        ('knn', knn_clf)\n",
        "    ],\n",
        "    final_estimator=logistic_clf\n",
        ")\n",
        "\n",
        "# Train the stacking classifier on the training data\n",
        "ensemble_model.fit(X_train, y_train)\n",
        "\n",
        "\n",
        "\n"
      ],
      "metadata": {
        "id": "bluCZlmGd59V"
      },
      "execution_count": null,
      "outputs": []
    },
    {
      "cell_type": "markdown",
      "source": [
        "## Evaluation"
      ],
      "metadata": {
        "id": "_f0ZZiF0Nt2R"
      }
    },
    {
      "cell_type": "code",
      "source": [
        "y_probs = ensemble_model.predict_proba(X_test)[:, 1]\n",
        "y_pred = (y_probs >= 0.2).astype(int)\n",
        "print(classification_report(y_test, y_pred))"
      ],
      "metadata": {
        "id": "o2QSmj3pfUjU"
      },
      "execution_count": null,
      "outputs": []
    },
    {
      "cell_type": "code",
      "source": [
        "# Predict probabilities for the test data.\n",
        "y_probs = ensemble_model.predict_proba(X_test)[:, 1]\n",
        "\n",
        "# Calculate the ROC curve points\n",
        "fpr, tpr, thresholds = roc_curve(y_test, y_probs)\n",
        "# Plot the ROC curve\n",
        "plt.figure(figsize=(8, 6))\n",
        "plt.plot(fpr, tpr)\n",
        "plt.plot([0, 1], [0, 1], linestyle='--')\n",
        "plt.title('ROC curve')\n",
        "plt.xlabel('False Positive Rate')\n",
        "plt.ylabel('True Positive Rate')\n",
        "\n",
        "# Print the AUC-ROC score\n",
        "print('AUC-ROC:', roc_auc_score(y_test, y_probs))"
      ],
      "metadata": {
        "id": "58EBvJcwfeCm"
      },
      "execution_count": null,
      "outputs": []
    },
    {
      "cell_type": "code",
      "source": [
        "# Calculate the precision-recall curve\n",
        "precision, recall, thresholds = precision_recall_curve(y_test, y_probs)\n",
        "\n",
        "# Plot the precision-recall curve\n",
        "plt.figure(figsize=(8, 6))\n",
        "plt.plot(recall, precision)\n",
        "plt.title('Precision-Recall curve')\n",
        "plt.xlabel('Recall')\n",
        "plt.ylabel('Precision')\n",
        "\n",
        "# Print the average precision score\n",
        "print('Average precision score:', average_precision_score(y_test, y_probs))"
      ],
      "metadata": {
        "id": "vrg1jzPGflQl"
      },
      "execution_count": null,
      "outputs": []
    },
    {
      "cell_type": "code",
      "source": [
        "# Calculate the confusion matrix\n",
        "cf_matrix = confusion_matrix(y_test, y_pred, normalize='true')\n",
        "group_names = ['TN','FP','FN','TP']\n",
        "group_percentages = ['{0:.2%}'.format(value) for value in cf_matrix.flatten()/np.sum(cf_matrix)]\n",
        "labels = [f'{v1}\\n{v2}' for v1, v2, in zip(group_names,group_percentages)]\n",
        "labels = np.asarray(labels).reshape(2,2)\n",
        "sns.heatmap(cf_matrix, annot=labels, fmt='', cmap='Blues', xticklabels=['Negative', 'Positive'], yticklabels=['Negative', 'Positive'])"
      ],
      "metadata": {
        "id": "ccv6Au4Pr7Dv"
      },
      "execution_count": null,
      "outputs": []
    }
  ],
  "metadata": {
    "kernelspec": {
      "display_name": "Python 3",
      "name": "python3"
    },
    "language_info": {
      "codemirror_mode": {
        "name": "ipython",
        "version": 3
      },
      "file_extension": ".py",
      "mimetype": "text/x-python",
      "name": "python",
      "nbconvert_exporter": "python",
      "pygments_lexer": "ipython3",
      "version": "3.10.9"
    },
    "orig_nbformat": 4,
    "colab": {
      "provenance": [],
      "gpuType": "T4",
      "include_colab_link": true
    }
  },
  "nbformat": 4,
  "nbformat_minor": 0
}